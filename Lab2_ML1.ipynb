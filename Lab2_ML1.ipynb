{
  "cells": [
    {
      "cell_type": "markdown",
      "metadata": {
        "id": "Sc7qmOFr6i2Z"
      },
      "source": [
        "$$ ITI \\space AI-Pro: \\space Intake \\space 45 $$\n",
        "$$ Machine \\space Learning \\space 1 $$\n",
        "$$ Lab \\space no. \\space 2 $$"
      ]
    },
    {
      "cell_type": "markdown",
      "metadata": {
        "id": "BXf_mbtI7rvV"
      },
      "source": [
        "![image-3.png](attachment:image-3.png)"
      ]
    },
    {
      "cell_type": "markdown",
      "metadata": {
        "id": "2tiys70369Bd"
      },
      "source": [
        "# `01` Import Necessary Libraries"
      ]
    },
    {
      "cell_type": "markdown",
      "metadata": {
        "id": "UwHbrH6l9Y3A"
      },
      "source": [
        "## `i` Default Libraries"
      ]
    },
    {
      "cell_type": "code",
      "execution_count": null,
      "metadata": {
        "id": "1tSITKud4F0n"
      },
      "outputs": [],
      "source": [
        "from pathlib import Path\n",
        "import pandas as pd\n",
        "import tarfile\n",
        "import urllib.request"
      ]
    },
    {
      "cell_type": "markdown",
      "metadata": {
        "id": "4St58qO89bae"
      },
      "source": [
        "## `ii` Additional Libraries\n",
        "Add imports for additional libraries you used throughout the notebook"
      ]
    },
    {
      "cell_type": "code",
      "execution_count": null,
      "metadata": {
        "id": "zipMCQxV9oic"
      },
      "outputs": [],
      "source": [
        "import numpy as np\n",
        "import matplotlib.pyplot as plt\n",
        "import sklearn\n",
        "import seaborn as sns\n",
        "from sklearn.preprocessing import OneHotEncoder\n",
        "from sklearn.preprocessing import MinMaxScaler,StandardScaler,RobustScaler\n",
        "from sklearn.linear_model import LinearRegression ,SGDRegressor\n",
        "from sklearn.metrics import mean_squared_error,mean_absolute_error,r2_score\n",
        "from sklearn.model_selection import train_test_split, GridSearchCV"
      ]
    },
    {
      "cell_type": "markdown",
      "metadata": {
        "id": "6Rp9SKDF7AsT"
      },
      "source": [
        "----------------------------\n",
        "\n",
        "# `02` Load Data"
      ]
    },
    {
      "cell_type": "code",
      "execution_count": null,
      "metadata": {
        "id": "tqe9Lt1l7CX2"
      },
      "outputs": [],
      "source": [
        "def load_housing_data():\n",
        "    tarball_path = Path(\"datasets/housing.tgz\")\n",
        "    if not tarball_path.is_file():\n",
        "        Path(\"datasets\").mkdir(parents=True, exist_ok=True)\n",
        "        url = \"https://github.com/ageron/data/raw/main/housing.tgz\"\n",
        "        urllib.request.urlretrieve(url, tarball_path)\n",
        "        with tarfile.open(tarball_path) as housing_tarball:\n",
        "            housing_tarball.extractall(path=\"datasets\")\n",
        "    return pd.read_csv(Path(\"datasets/housing/housing.csv\"))\n",
        "\n",
        "housing = load_housing_data()"
      ]
    },
    {
      "cell_type": "code",
      "execution_count": null,
      "metadata": {
        "id": "BRMgSMOZ7rvZ",
        "outputId": "28b18ed1-ddb4-41ff-e110-694e933a6eb2"
      },
      "outputs": [
        {
          "data": {
            "text/html": [
              "<div>\n",
              "<style scoped>\n",
              "    .dataframe tbody tr th:only-of-type {\n",
              "        vertical-align: middle;\n",
              "    }\n",
              "\n",
              "    .dataframe tbody tr th {\n",
              "        vertical-align: top;\n",
              "    }\n",
              "\n",
              "    .dataframe thead th {\n",
              "        text-align: right;\n",
              "    }\n",
              "</style>\n",
              "<table border=\"1\" class=\"dataframe\">\n",
              "  <thead>\n",
              "    <tr style=\"text-align: right;\">\n",
              "      <th></th>\n",
              "      <th>longitude</th>\n",
              "      <th>latitude</th>\n",
              "      <th>housing_median_age</th>\n",
              "      <th>total_rooms</th>\n",
              "      <th>total_bedrooms</th>\n",
              "      <th>population</th>\n",
              "      <th>households</th>\n",
              "      <th>median_income</th>\n",
              "      <th>median_house_value</th>\n",
              "      <th>ocean_proximity</th>\n",
              "    </tr>\n",
              "  </thead>\n",
              "  <tbody>\n",
              "    <tr>\n",
              "      <th>0</th>\n",
              "      <td>-122.23</td>\n",
              "      <td>37.88</td>\n",
              "      <td>41.0</td>\n",
              "      <td>880.0</td>\n",
              "      <td>129.0</td>\n",
              "      <td>322.0</td>\n",
              "      <td>126.0</td>\n",
              "      <td>8.3252</td>\n",
              "      <td>452600.0</td>\n",
              "      <td>NEAR BAY</td>\n",
              "    </tr>\n",
              "    <tr>\n",
              "      <th>1</th>\n",
              "      <td>-122.22</td>\n",
              "      <td>37.86</td>\n",
              "      <td>21.0</td>\n",
              "      <td>7099.0</td>\n",
              "      <td>1106.0</td>\n",
              "      <td>2401.0</td>\n",
              "      <td>1138.0</td>\n",
              "      <td>8.3014</td>\n",
              "      <td>358500.0</td>\n",
              "      <td>NEAR BAY</td>\n",
              "    </tr>\n",
              "    <tr>\n",
              "      <th>2</th>\n",
              "      <td>-122.24</td>\n",
              "      <td>37.85</td>\n",
              "      <td>52.0</td>\n",
              "      <td>1467.0</td>\n",
              "      <td>190.0</td>\n",
              "      <td>496.0</td>\n",
              "      <td>177.0</td>\n",
              "      <td>7.2574</td>\n",
              "      <td>352100.0</td>\n",
              "      <td>NEAR BAY</td>\n",
              "    </tr>\n",
              "    <tr>\n",
              "      <th>3</th>\n",
              "      <td>-122.25</td>\n",
              "      <td>37.85</td>\n",
              "      <td>52.0</td>\n",
              "      <td>1274.0</td>\n",
              "      <td>235.0</td>\n",
              "      <td>558.0</td>\n",
              "      <td>219.0</td>\n",
              "      <td>5.6431</td>\n",
              "      <td>341300.0</td>\n",
              "      <td>NEAR BAY</td>\n",
              "    </tr>\n",
              "    <tr>\n",
              "      <th>4</th>\n",
              "      <td>-122.25</td>\n",
              "      <td>37.85</td>\n",
              "      <td>52.0</td>\n",
              "      <td>1627.0</td>\n",
              "      <td>280.0</td>\n",
              "      <td>565.0</td>\n",
              "      <td>259.0</td>\n",
              "      <td>3.8462</td>\n",
              "      <td>342200.0</td>\n",
              "      <td>NEAR BAY</td>\n",
              "    </tr>\n",
              "  </tbody>\n",
              "</table>\n",
              "</div>"
            ],
            "text/plain": [
              "   longitude  latitude  housing_median_age  total_rooms  total_bedrooms  \\\n",
              "0    -122.23     37.88                41.0        880.0           129.0   \n",
              "1    -122.22     37.86                21.0       7099.0          1106.0   \n",
              "2    -122.24     37.85                52.0       1467.0           190.0   \n",
              "3    -122.25     37.85                52.0       1274.0           235.0   \n",
              "4    -122.25     37.85                52.0       1627.0           280.0   \n",
              "\n",
              "   population  households  median_income  median_house_value ocean_proximity  \n",
              "0       322.0       126.0         8.3252            452600.0        NEAR BAY  \n",
              "1      2401.0      1138.0         8.3014            358500.0        NEAR BAY  \n",
              "2       496.0       177.0         7.2574            352100.0        NEAR BAY  \n",
              "3       558.0       219.0         5.6431            341300.0        NEAR BAY  \n",
              "4       565.0       259.0         3.8462            342200.0        NEAR BAY  "
            ]
          },
          "execution_count": 140,
          "metadata": {},
          "output_type": "execute_result"
        }
      ],
      "source": [
        "housing.head()"
      ]
    },
    {
      "cell_type": "markdown",
      "metadata": {
        "id": "Egwuc-Bb_aoL"
      },
      "source": [
        "## `#` Create Test Set\n",
        "\n",
        "Before exploring the data, let's split the data into training and test sets. You shouldn't touch the test set from this point furthur except for final model evaluation.\n",
        "\n",
        "Use:\n",
        "- `random_state` $= 1234$\n",
        "- `test_size` $= 0.2$\n",
        "\n",
        "Hint: You can use `sklearn.model_selection.train_test_split` function"
      ]
    },
    {
      "cell_type": "code",
      "execution_count": null,
      "metadata": {
        "id": "W67midiQ7rva",
        "outputId": "86d00841-09c8-4b31-feb6-3a88b418f694"
      },
      "outputs": [
        {
          "data": {
            "text/plain": [
              "0        452600.0\n",
              "1        358500.0\n",
              "2        352100.0\n",
              "3        341300.0\n",
              "4        342200.0\n",
              "           ...   \n",
              "20635     78100.0\n",
              "20636     77100.0\n",
              "20637     92300.0\n",
              "20638     84700.0\n",
              "20639     89400.0\n",
              "Name: median_house_value, Length: 20640, dtype: float64"
            ]
          },
          "execution_count": 141,
          "metadata": {},
          "output_type": "execute_result"
        }
      ],
      "source": [
        "y=housing['median_house_value']\n",
        "y"
      ]
    },
    {
      "cell_type": "code",
      "execution_count": null,
      "metadata": {
        "id": "2y99-Txw7rva",
        "outputId": "8d2cfc72-c237-4dac-ba26-4dcacb5497be"
      },
      "outputs": [
        {
          "data": {
            "text/html": [
              "<div>\n",
              "<style scoped>\n",
              "    .dataframe tbody tr th:only-of-type {\n",
              "        vertical-align: middle;\n",
              "    }\n",
              "\n",
              "    .dataframe tbody tr th {\n",
              "        vertical-align: top;\n",
              "    }\n",
              "\n",
              "    .dataframe thead th {\n",
              "        text-align: right;\n",
              "    }\n",
              "</style>\n",
              "<table border=\"1\" class=\"dataframe\">\n",
              "  <thead>\n",
              "    <tr style=\"text-align: right;\">\n",
              "      <th></th>\n",
              "      <th>longitude</th>\n",
              "      <th>latitude</th>\n",
              "      <th>housing_median_age</th>\n",
              "      <th>total_rooms</th>\n",
              "      <th>total_bedrooms</th>\n",
              "      <th>population</th>\n",
              "      <th>households</th>\n",
              "      <th>median_income</th>\n",
              "      <th>ocean_proximity</th>\n",
              "    </tr>\n",
              "  </thead>\n",
              "  <tbody>\n",
              "    <tr>\n",
              "      <th>0</th>\n",
              "      <td>-122.23</td>\n",
              "      <td>37.88</td>\n",
              "      <td>41.0</td>\n",
              "      <td>880.0</td>\n",
              "      <td>129.0</td>\n",
              "      <td>322.0</td>\n",
              "      <td>126.0</td>\n",
              "      <td>8.3252</td>\n",
              "      <td>NEAR BAY</td>\n",
              "    </tr>\n",
              "    <tr>\n",
              "      <th>1</th>\n",
              "      <td>-122.22</td>\n",
              "      <td>37.86</td>\n",
              "      <td>21.0</td>\n",
              "      <td>7099.0</td>\n",
              "      <td>1106.0</td>\n",
              "      <td>2401.0</td>\n",
              "      <td>1138.0</td>\n",
              "      <td>8.3014</td>\n",
              "      <td>NEAR BAY</td>\n",
              "    </tr>\n",
              "    <tr>\n",
              "      <th>2</th>\n",
              "      <td>-122.24</td>\n",
              "      <td>37.85</td>\n",
              "      <td>52.0</td>\n",
              "      <td>1467.0</td>\n",
              "      <td>190.0</td>\n",
              "      <td>496.0</td>\n",
              "      <td>177.0</td>\n",
              "      <td>7.2574</td>\n",
              "      <td>NEAR BAY</td>\n",
              "    </tr>\n",
              "    <tr>\n",
              "      <th>3</th>\n",
              "      <td>-122.25</td>\n",
              "      <td>37.85</td>\n",
              "      <td>52.0</td>\n",
              "      <td>1274.0</td>\n",
              "      <td>235.0</td>\n",
              "      <td>558.0</td>\n",
              "      <td>219.0</td>\n",
              "      <td>5.6431</td>\n",
              "      <td>NEAR BAY</td>\n",
              "    </tr>\n",
              "    <tr>\n",
              "      <th>4</th>\n",
              "      <td>-122.25</td>\n",
              "      <td>37.85</td>\n",
              "      <td>52.0</td>\n",
              "      <td>1627.0</td>\n",
              "      <td>280.0</td>\n",
              "      <td>565.0</td>\n",
              "      <td>259.0</td>\n",
              "      <td>3.8462</td>\n",
              "      <td>NEAR BAY</td>\n",
              "    </tr>\n",
              "  </tbody>\n",
              "</table>\n",
              "</div>"
            ],
            "text/plain": [
              "   longitude  latitude  housing_median_age  total_rooms  total_bedrooms  \\\n",
              "0    -122.23     37.88                41.0        880.0           129.0   \n",
              "1    -122.22     37.86                21.0       7099.0          1106.0   \n",
              "2    -122.24     37.85                52.0       1467.0           190.0   \n",
              "3    -122.25     37.85                52.0       1274.0           235.0   \n",
              "4    -122.25     37.85                52.0       1627.0           280.0   \n",
              "\n",
              "   population  households  median_income ocean_proximity  \n",
              "0       322.0       126.0         8.3252        NEAR BAY  \n",
              "1      2401.0      1138.0         8.3014        NEAR BAY  \n",
              "2       496.0       177.0         7.2574        NEAR BAY  \n",
              "3       558.0       219.0         5.6431        NEAR BAY  \n",
              "4       565.0       259.0         3.8462        NEAR BAY  "
            ]
          },
          "execution_count": 142,
          "metadata": {},
          "output_type": "execute_result"
        }
      ],
      "source": [
        "X=housing.drop('median_house_value',axis=1)\n",
        "X.head()"
      ]
    },
    {
      "cell_type": "markdown",
      "metadata": {
        "id": "tYjziSgi7rvb"
      },
      "source": [
        "#### Split data into train and test"
      ]
    },
    {
      "cell_type": "code",
      "execution_count": null,
      "metadata": {
        "id": "MkbKnE4zAOGX"
      },
      "outputs": [],
      "source": [
        "X_train, X_test, y_train, y_test = train_test_split(X, y, test_size=0.2, random_state=1234)"
      ]
    },
    {
      "cell_type": "markdown",
      "metadata": {
        "id": "HUTL7Gh37rvb"
      },
      "source": [
        "#### Split test data into vaildation and test"
      ]
    },
    {
      "cell_type": "code",
      "execution_count": null,
      "metadata": {
        "id": "EvBz2-X27rvb"
      },
      "outputs": [],
      "source": [
        "X_valid, X_test, y_valid, y_test = train_test_split(X_test, y_test, test_size=0.3, random_state=1234)"
      ]
    },
    {
      "cell_type": "code",
      "execution_count": null,
      "metadata": {
        "id": "W7pgTyNq7rvb",
        "outputId": "5f94839f-07d5-4a93-e029-ce2e36a05d4f"
      },
      "outputs": [
        {
          "data": {
            "text/html": [
              "<div>\n",
              "<style scoped>\n",
              "    .dataframe tbody tr th:only-of-type {\n",
              "        vertical-align: middle;\n",
              "    }\n",
              "\n",
              "    .dataframe tbody tr th {\n",
              "        vertical-align: top;\n",
              "    }\n",
              "\n",
              "    .dataframe thead th {\n",
              "        text-align: right;\n",
              "    }\n",
              "</style>\n",
              "<table border=\"1\" class=\"dataframe\">\n",
              "  <thead>\n",
              "    <tr style=\"text-align: right;\">\n",
              "      <th></th>\n",
              "      <th>longitude</th>\n",
              "      <th>latitude</th>\n",
              "      <th>housing_median_age</th>\n",
              "      <th>total_rooms</th>\n",
              "      <th>total_bedrooms</th>\n",
              "      <th>population</th>\n",
              "      <th>households</th>\n",
              "      <th>median_income</th>\n",
              "      <th>ocean_proximity</th>\n",
              "    </tr>\n",
              "  </thead>\n",
              "  <tbody>\n",
              "    <tr>\n",
              "      <th>17595</th>\n",
              "      <td>-120.07</td>\n",
              "      <td>36.98</td>\n",
              "      <td>12.0</td>\n",
              "      <td>1790.0</td>\n",
              "      <td>379.0</td>\n",
              "      <td>1399.0</td>\n",
              "      <td>397.0</td>\n",
              "      <td>2.5388</td>\n",
              "      <td>INLAND</td>\n",
              "    </tr>\n",
              "    <tr>\n",
              "      <th>6073</th>\n",
              "      <td>-118.22</td>\n",
              "      <td>33.86</td>\n",
              "      <td>16.0</td>\n",
              "      <td>8732.0</td>\n",
              "      <td>1489.0</td>\n",
              "      <td>3944.0</td>\n",
              "      <td>1493.0</td>\n",
              "      <td>5.1948</td>\n",
              "      <td>&lt;1H OCEAN</td>\n",
              "    </tr>\n",
              "    <tr>\n",
              "      <th>6251</th>\n",
              "      <td>-120.94</td>\n",
              "      <td>39.32</td>\n",
              "      <td>14.0</td>\n",
              "      <td>3120.0</td>\n",
              "      <td>595.0</td>\n",
              "      <td>1569.0</td>\n",
              "      <td>556.0</td>\n",
              "      <td>3.5385</td>\n",
              "      <td>INLAND</td>\n",
              "    </tr>\n",
              "    <tr>\n",
              "      <th>3161</th>\n",
              "      <td>-122.11</td>\n",
              "      <td>37.68</td>\n",
              "      <td>37.0</td>\n",
              "      <td>1976.0</td>\n",
              "      <td>481.0</td>\n",
              "      <td>1197.0</td>\n",
              "      <td>465.0</td>\n",
              "      <td>2.5772</td>\n",
              "      <td>NEAR BAY</td>\n",
              "    </tr>\n",
              "    <tr>\n",
              "      <th>1887</th>\n",
              "      <td>-121.34</td>\n",
              "      <td>38.67</td>\n",
              "      <td>35.0</td>\n",
              "      <td>643.0</td>\n",
              "      <td>117.0</td>\n",
              "      <td>331.0</td>\n",
              "      <td>134.0</td>\n",
              "      <td>3.0417</td>\n",
              "      <td>INLAND</td>\n",
              "    </tr>\n",
              "    <tr>\n",
              "      <th>...</th>\n",
              "      <td>...</td>\n",
              "      <td>...</td>\n",
              "      <td>...</td>\n",
              "      <td>...</td>\n",
              "      <td>...</td>\n",
              "      <td>...</td>\n",
              "      <td>...</td>\n",
              "      <td>...</td>\n",
              "      <td>...</td>\n",
              "    </tr>\n",
              "    <tr>\n",
              "      <th>8222</th>\n",
              "      <td>-120.04</td>\n",
              "      <td>36.79</td>\n",
              "      <td>48.0</td>\n",
              "      <td>1341.0</td>\n",
              "      <td>239.0</td>\n",
              "      <td>671.0</td>\n",
              "      <td>208.0</td>\n",
              "      <td>2.7917</td>\n",
              "      <td>INLAND</td>\n",
              "    </tr>\n",
              "    <tr>\n",
              "      <th>9449</th>\n",
              "      <td>-118.18</td>\n",
              "      <td>36.63</td>\n",
              "      <td>23.0</td>\n",
              "      <td>2311.0</td>\n",
              "      <td>487.0</td>\n",
              "      <td>1019.0</td>\n",
              "      <td>384.0</td>\n",
              "      <td>2.2574</td>\n",
              "      <td>INLAND</td>\n",
              "    </tr>\n",
              "    <tr>\n",
              "      <th>8471</th>\n",
              "      <td>-119.71</td>\n",
              "      <td>34.43</td>\n",
              "      <td>47.0</td>\n",
              "      <td>1572.0</td>\n",
              "      <td>417.0</td>\n",
              "      <td>790.0</td>\n",
              "      <td>384.0</td>\n",
              "      <td>2.6429</td>\n",
              "      <td>&lt;1H OCEAN</td>\n",
              "    </tr>\n",
              "    <tr>\n",
              "      <th>17048</th>\n",
              "      <td>-117.92</td>\n",
              "      <td>33.62</td>\n",
              "      <td>35.0</td>\n",
              "      <td>1821.0</td>\n",
              "      <td>335.0</td>\n",
              "      <td>727.0</td>\n",
              "      <td>316.0</td>\n",
              "      <td>6.5842</td>\n",
              "      <td>&lt;1H OCEAN</td>\n",
              "    </tr>\n",
              "    <tr>\n",
              "      <th>1318</th>\n",
              "      <td>-118.19</td>\n",
              "      <td>34.65</td>\n",
              "      <td>33.0</td>\n",
              "      <td>1781.0</td>\n",
              "      <td>326.0</td>\n",
              "      <td>913.0</td>\n",
              "      <td>314.0</td>\n",
              "      <td>3.9963</td>\n",
              "      <td>INLAND</td>\n",
              "    </tr>\n",
              "  </tbody>\n",
              "</table>\n",
              "<p>16512 rows × 9 columns</p>\n",
              "</div>"
            ],
            "text/plain": [
              "       longitude  latitude  housing_median_age  total_rooms  total_bedrooms  \\\n",
              "17595    -120.07     36.98                12.0       1790.0           379.0   \n",
              "6073     -118.22     33.86                16.0       8732.0          1489.0   \n",
              "6251     -120.94     39.32                14.0       3120.0           595.0   \n",
              "3161     -122.11     37.68                37.0       1976.0           481.0   \n",
              "1887     -121.34     38.67                35.0        643.0           117.0   \n",
              "...          ...       ...                 ...          ...             ...   \n",
              "8222     -120.04     36.79                48.0       1341.0           239.0   \n",
              "9449     -118.18     36.63                23.0       2311.0           487.0   \n",
              "8471     -119.71     34.43                47.0       1572.0           417.0   \n",
              "17048    -117.92     33.62                35.0       1821.0           335.0   \n",
              "1318     -118.19     34.65                33.0       1781.0           326.0   \n",
              "\n",
              "       population  households  median_income ocean_proximity  \n",
              "17595      1399.0       397.0         2.5388          INLAND  \n",
              "6073       3944.0      1493.0         5.1948       <1H OCEAN  \n",
              "6251       1569.0       556.0         3.5385          INLAND  \n",
              "3161       1197.0       465.0         2.5772        NEAR BAY  \n",
              "1887        331.0       134.0         3.0417          INLAND  \n",
              "...           ...         ...            ...             ...  \n",
              "8222        671.0       208.0         2.7917          INLAND  \n",
              "9449       1019.0       384.0         2.2574          INLAND  \n",
              "8471        790.0       384.0         2.6429       <1H OCEAN  \n",
              "17048       727.0       316.0         6.5842       <1H OCEAN  \n",
              "1318        913.0       314.0         3.9963          INLAND  \n",
              "\n",
              "[16512 rows x 9 columns]"
            ]
          },
          "execution_count": 145,
          "metadata": {},
          "output_type": "execute_result"
        }
      ],
      "source": [
        "X_train"
      ]
    },
    {
      "cell_type": "markdown",
      "metadata": {
        "id": "Ernjnadl7rvc"
      },
      "source": [
        "### Check some inforamation about dataset  like no.of coulmns no.of rows"
      ]
    },
    {
      "cell_type": "code",
      "execution_count": null,
      "metadata": {
        "id": "JPU3kTn_7rvc",
        "outputId": "9f6b89b8-abbb-41b8-931b-a98dd2f869fc"
      },
      "outputs": [
        {
          "name": "stdout",
          "output_type": "stream",
          "text": [
            "<class 'pandas.core.frame.DataFrame'>\n",
            "Int64Index: 16512 entries, 17595 to 1318\n",
            "Data columns (total 9 columns):\n",
            " #   Column              Non-Null Count  Dtype  \n",
            "---  ------              --------------  -----  \n",
            " 0   longitude           16512 non-null  float64\n",
            " 1   latitude            16512 non-null  float64\n",
            " 2   housing_median_age  16512 non-null  float64\n",
            " 3   total_rooms         16512 non-null  float64\n",
            " 4   total_bedrooms      16354 non-null  float64\n",
            " 5   population          16512 non-null  float64\n",
            " 6   households          16512 non-null  float64\n",
            " 7   median_income       16512 non-null  float64\n",
            " 8   ocean_proximity     16512 non-null  object \n",
            "dtypes: float64(8), object(1)\n",
            "memory usage: 1.3+ MB\n"
          ]
        }
      ],
      "source": [
        "X_train.info()"
      ]
    },
    {
      "cell_type": "markdown",
      "metadata": {
        "id": "TEHdnrCE7rvc"
      },
      "source": [
        "### Check missing values"
      ]
    },
    {
      "cell_type": "code",
      "execution_count": null,
      "metadata": {
        "id": "twncFwLY7rvc",
        "outputId": "66b387b5-4b35-42ad-8160-8964916cd94e"
      },
      "outputs": [
        {
          "data": {
            "text/plain": [
              "longitude               0\n",
              "latitude                0\n",
              "housing_median_age      0\n",
              "total_rooms             0\n",
              "total_bedrooms        158\n",
              "population              0\n",
              "households              0\n",
              "median_income           0\n",
              "ocean_proximity         0\n",
              "dtype: int64"
            ]
          },
          "execution_count": 147,
          "metadata": {},
          "output_type": "execute_result"
        }
      ],
      "source": [
        "X_train.isna().sum()"
      ]
    },
    {
      "cell_type": "markdown",
      "metadata": {
        "id": "ryZjwPJQ7rvc"
      },
      "source": [
        "- There is missing values in total_bedrooms column"
      ]
    },
    {
      "cell_type": "markdown",
      "metadata": {
        "id": "tKlBv0YR90G3"
      },
      "source": [
        "----------------\n",
        "\n",
        "# `03` Exploratory Data Analysis (EDA)"
      ]
    },
    {
      "cell_type": "markdown",
      "metadata": {
        "id": "8k61ceWr_BL5"
      },
      "source": [
        "## `i` Simple Analysis\n",
        "\n",
        "Preview data, perform statistical data analysis and explore as much as needed to better understand the data set we're dealing with.\n",
        "\n",
        "`Note:` Feel free to look up EDA approaches online for inspiration (however you **must understand** everything and not copy paste)."
      ]
    },
    {
      "cell_type": "markdown",
      "metadata": {
        "id": "MCI9nqcJ7rvc"
      },
      "source": [
        "#### statistical Analysis for all numerical columns"
      ]
    },
    {
      "cell_type": "code",
      "execution_count": null,
      "metadata": {
        "id": "pM3JCzjH53sz",
        "outputId": "c6ef0347-6166-4f1a-c3d8-678d904f9849"
      },
      "outputs": [
        {
          "data": {
            "text/html": [
              "<div>\n",
              "<style scoped>\n",
              "    .dataframe tbody tr th:only-of-type {\n",
              "        vertical-align: middle;\n",
              "    }\n",
              "\n",
              "    .dataframe tbody tr th {\n",
              "        vertical-align: top;\n",
              "    }\n",
              "\n",
              "    .dataframe thead th {\n",
              "        text-align: right;\n",
              "    }\n",
              "</style>\n",
              "<table border=\"1\" class=\"dataframe\">\n",
              "  <thead>\n",
              "    <tr style=\"text-align: right;\">\n",
              "      <th></th>\n",
              "      <th>longitude</th>\n",
              "      <th>latitude</th>\n",
              "      <th>housing_median_age</th>\n",
              "      <th>total_rooms</th>\n",
              "      <th>total_bedrooms</th>\n",
              "      <th>population</th>\n",
              "      <th>households</th>\n",
              "      <th>median_income</th>\n",
              "    </tr>\n",
              "  </thead>\n",
              "  <tbody>\n",
              "    <tr>\n",
              "      <th>count</th>\n",
              "      <td>16512.000000</td>\n",
              "      <td>16512.000000</td>\n",
              "      <td>16512.000000</td>\n",
              "      <td>16512.000000</td>\n",
              "      <td>16354.000000</td>\n",
              "      <td>16512.000000</td>\n",
              "      <td>16512.000000</td>\n",
              "      <td>16512.000000</td>\n",
              "    </tr>\n",
              "    <tr>\n",
              "      <th>mean</th>\n",
              "      <td>-119.576297</td>\n",
              "      <td>35.640944</td>\n",
              "      <td>28.629300</td>\n",
              "      <td>2634.395652</td>\n",
              "      <td>537.400086</td>\n",
              "      <td>1422.226562</td>\n",
              "      <td>499.014595</td>\n",
              "      <td>3.869583</td>\n",
              "    </tr>\n",
              "    <tr>\n",
              "      <th>std</th>\n",
              "      <td>2.008301</td>\n",
              "      <td>2.141025</td>\n",
              "      <td>12.622547</td>\n",
              "      <td>2195.367194</td>\n",
              "      <td>422.272540</td>\n",
              "      <td>1119.964665</td>\n",
              "      <td>383.148507</td>\n",
              "      <td>1.896395</td>\n",
              "    </tr>\n",
              "    <tr>\n",
              "      <th>min</th>\n",
              "      <td>-124.350000</td>\n",
              "      <td>32.540000</td>\n",
              "      <td>1.000000</td>\n",
              "      <td>2.000000</td>\n",
              "      <td>1.000000</td>\n",
              "      <td>3.000000</td>\n",
              "      <td>1.000000</td>\n",
              "      <td>0.499900</td>\n",
              "    </tr>\n",
              "    <tr>\n",
              "      <th>25%</th>\n",
              "      <td>-121.802500</td>\n",
              "      <td>33.930000</td>\n",
              "      <td>18.000000</td>\n",
              "      <td>1452.750000</td>\n",
              "      <td>296.000000</td>\n",
              "      <td>786.000000</td>\n",
              "      <td>280.000000</td>\n",
              "      <td>2.562500</td>\n",
              "    </tr>\n",
              "    <tr>\n",
              "      <th>50%</th>\n",
              "      <td>-118.500000</td>\n",
              "      <td>34.260000</td>\n",
              "      <td>29.000000</td>\n",
              "      <td>2128.000000</td>\n",
              "      <td>435.000000</td>\n",
              "      <td>1166.000000</td>\n",
              "      <td>410.000000</td>\n",
              "      <td>3.539400</td>\n",
              "    </tr>\n",
              "    <tr>\n",
              "      <th>75%</th>\n",
              "      <td>-118.010000</td>\n",
              "      <td>37.720000</td>\n",
              "      <td>37.000000</td>\n",
              "      <td>3138.250000</td>\n",
              "      <td>646.000000</td>\n",
              "      <td>1720.000000</td>\n",
              "      <td>603.000000</td>\n",
              "      <td>4.748350</td>\n",
              "    </tr>\n",
              "    <tr>\n",
              "      <th>max</th>\n",
              "      <td>-114.310000</td>\n",
              "      <td>41.950000</td>\n",
              "      <td>52.000000</td>\n",
              "      <td>39320.000000</td>\n",
              "      <td>6445.000000</td>\n",
              "      <td>28566.000000</td>\n",
              "      <td>6082.000000</td>\n",
              "      <td>15.000100</td>\n",
              "    </tr>\n",
              "  </tbody>\n",
              "</table>\n",
              "</div>"
            ],
            "text/plain": [
              "          longitude      latitude  housing_median_age   total_rooms  \\\n",
              "count  16512.000000  16512.000000        16512.000000  16512.000000   \n",
              "mean    -119.576297     35.640944           28.629300   2634.395652   \n",
              "std        2.008301      2.141025           12.622547   2195.367194   \n",
              "min     -124.350000     32.540000            1.000000      2.000000   \n",
              "25%     -121.802500     33.930000           18.000000   1452.750000   \n",
              "50%     -118.500000     34.260000           29.000000   2128.000000   \n",
              "75%     -118.010000     37.720000           37.000000   3138.250000   \n",
              "max     -114.310000     41.950000           52.000000  39320.000000   \n",
              "\n",
              "       total_bedrooms    population    households  median_income  \n",
              "count    16354.000000  16512.000000  16512.000000   16512.000000  \n",
              "mean       537.400086   1422.226562    499.014595       3.869583  \n",
              "std        422.272540   1119.964665    383.148507       1.896395  \n",
              "min          1.000000      3.000000      1.000000       0.499900  \n",
              "25%        296.000000    786.000000    280.000000       2.562500  \n",
              "50%        435.000000   1166.000000    410.000000       3.539400  \n",
              "75%        646.000000   1720.000000    603.000000       4.748350  \n",
              "max       6445.000000  28566.000000   6082.000000      15.000100  "
            ]
          },
          "execution_count": 148,
          "metadata": {},
          "output_type": "execute_result"
        }
      ],
      "source": [
        "X_train.describe()"
      ]
    },
    {
      "cell_type": "markdown",
      "metadata": {
        "id": "skTWjM-OA0Ta"
      },
      "source": [
        "## `ii` Visual Analysis\n",
        "\n",
        "Plot graphs and relations in order to gain more insights about the data set, identify patterns, and make assumptions.\n",
        "\n",
        "`Note:` Feel free to look up visual EDA approaches online for inspiration (however you **must understand** everything and not copy paste)."
      ]
    },
    {
      "cell_type": "markdown",
      "metadata": {
        "id": "sUB9J6lU7rvd"
      },
      "source": [
        "###  **----- Show distribution for all numerical columns with histogram plot -----**"
      ]
    },
    {
      "cell_type": "code",
      "execution_count": null,
      "metadata": {
        "id": "e5MOmFnCB0vK",
        "outputId": "7796d9e7-806b-4fee-a7e8-19089cd025c6"
      },
      "outputs": [
        {
          "data": {
            "image/png": "[encoded data removed]",
            "text/plain": [
              "<Figure size 1500x1000 with 9 Axes>"
            ]
          },
          "metadata": {},
          "output_type": "display_data"
        }
      ],
      "source": [
        "X_train.hist(figsize=(15,10))\n",
        "plt.show()"
      ]
    },
    {
      "cell_type": "code",
      "execution_count": null,
      "metadata": {
        "id": "B4fthgEo7rvd",
        "outputId": "fd906c40-3aa9-4405-eed8-4d9fd123433f"
      },
      "outputs": [
        {
          "data": {
            "text/html": [
              "<div>\n",
              "<style scoped>\n",
              "    .dataframe tbody tr th:only-of-type {\n",
              "        vertical-align: middle;\n",
              "    }\n",
              "\n",
              "    .dataframe tbody tr th {\n",
              "        vertical-align: top;\n",
              "    }\n",
              "\n",
              "    .dataframe thead th {\n",
              "        text-align: right;\n",
              "    }\n",
              "</style>\n",
              "<table border=\"1\" class=\"dataframe\">\n",
              "  <thead>\n",
              "    <tr style=\"text-align: right;\">\n",
              "      <th></th>\n",
              "      <th>longitude</th>\n",
              "      <th>latitude</th>\n",
              "      <th>housing_median_age</th>\n",
              "      <th>total_rooms</th>\n",
              "      <th>total_bedrooms</th>\n",
              "      <th>population</th>\n",
              "      <th>households</th>\n",
              "      <th>median_income</th>\n",
              "      <th>ocean_proximity</th>\n",
              "    </tr>\n",
              "  </thead>\n",
              "  <tbody>\n",
              "    <tr>\n",
              "      <th>0</th>\n",
              "      <td>-122.23</td>\n",
              "      <td>37.88</td>\n",
              "      <td>41.0</td>\n",
              "      <td>880.0</td>\n",
              "      <td>129.0</td>\n",
              "      <td>322.0</td>\n",
              "      <td>126.0</td>\n",
              "      <td>8.3252</td>\n",
              "      <td>NEAR BAY</td>\n",
              "    </tr>\n",
              "    <tr>\n",
              "      <th>1</th>\n",
              "      <td>-122.22</td>\n",
              "      <td>37.86</td>\n",
              "      <td>21.0</td>\n",
              "      <td>7099.0</td>\n",
              "      <td>1106.0</td>\n",
              "      <td>2401.0</td>\n",
              "      <td>1138.0</td>\n",
              "      <td>8.3014</td>\n",
              "      <td>NEAR BAY</td>\n",
              "    </tr>\n",
              "    <tr>\n",
              "      <th>2</th>\n",
              "      <td>-122.24</td>\n",
              "      <td>37.85</td>\n",
              "      <td>52.0</td>\n",
              "      <td>1467.0</td>\n",
              "      <td>190.0</td>\n",
              "      <td>496.0</td>\n",
              "      <td>177.0</td>\n",
              "      <td>7.2574</td>\n",
              "      <td>NEAR BAY</td>\n",
              "    </tr>\n",
              "    <tr>\n",
              "      <th>3</th>\n",
              "      <td>-122.25</td>\n",
              "      <td>37.85</td>\n",
              "      <td>52.0</td>\n",
              "      <td>1274.0</td>\n",
              "      <td>235.0</td>\n",
              "      <td>558.0</td>\n",
              "      <td>219.0</td>\n",
              "      <td>5.6431</td>\n",
              "      <td>NEAR BAY</td>\n",
              "    </tr>\n",
              "    <tr>\n",
              "      <th>5</th>\n",
              "      <td>-122.25</td>\n",
              "      <td>37.85</td>\n",
              "      <td>52.0</td>\n",
              "      <td>919.0</td>\n",
              "      <td>213.0</td>\n",
              "      <td>413.0</td>\n",
              "      <td>193.0</td>\n",
              "      <td>4.0368</td>\n",
              "      <td>NEAR BAY</td>\n",
              "    </tr>\n",
              "    <tr>\n",
              "      <th>...</th>\n",
              "      <td>...</td>\n",
              "      <td>...</td>\n",
              "      <td>...</td>\n",
              "      <td>...</td>\n",
              "      <td>...</td>\n",
              "      <td>...</td>\n",
              "      <td>...</td>\n",
              "      <td>...</td>\n",
              "      <td>...</td>\n",
              "    </tr>\n",
              "    <tr>\n",
              "      <th>20633</th>\n",
              "      <td>-121.53</td>\n",
              "      <td>39.19</td>\n",
              "      <td>27.0</td>\n",
              "      <td>2080.0</td>\n",
              "      <td>412.0</td>\n",
              "      <td>1082.0</td>\n",
              "      <td>382.0</td>\n",
              "      <td>2.5495</td>\n",
              "      <td>INLAND</td>\n",
              "    </tr>\n",
              "    <tr>\n",
              "      <th>20635</th>\n",
              "      <td>-121.09</td>\n",
              "      <td>39.48</td>\n",
              "      <td>25.0</td>\n",
              "      <td>1665.0</td>\n",
              "      <td>374.0</td>\n",
              "      <td>845.0</td>\n",
              "      <td>330.0</td>\n",
              "      <td>1.5603</td>\n",
              "      <td>INLAND</td>\n",
              "    </tr>\n",
              "    <tr>\n",
              "      <th>20636</th>\n",
              "      <td>-121.21</td>\n",
              "      <td>39.49</td>\n",
              "      <td>18.0</td>\n",
              "      <td>697.0</td>\n",
              "      <td>150.0</td>\n",
              "      <td>356.0</td>\n",
              "      <td>114.0</td>\n",
              "      <td>2.5568</td>\n",
              "      <td>INLAND</td>\n",
              "    </tr>\n",
              "    <tr>\n",
              "      <th>20637</th>\n",
              "      <td>-121.22</td>\n",
              "      <td>39.43</td>\n",
              "      <td>17.0</td>\n",
              "      <td>2254.0</td>\n",
              "      <td>485.0</td>\n",
              "      <td>1007.0</td>\n",
              "      <td>433.0</td>\n",
              "      <td>1.7000</td>\n",
              "      <td>INLAND</td>\n",
              "    </tr>\n",
              "    <tr>\n",
              "      <th>20639</th>\n",
              "      <td>-121.24</td>\n",
              "      <td>39.37</td>\n",
              "      <td>16.0</td>\n",
              "      <td>2785.0</td>\n",
              "      <td>616.0</td>\n",
              "      <td>1387.0</td>\n",
              "      <td>530.0</td>\n",
              "      <td>2.3886</td>\n",
              "      <td>INLAND</td>\n",
              "    </tr>\n",
              "  </tbody>\n",
              "</table>\n",
              "<p>16512 rows × 9 columns</p>\n",
              "</div>"
            ],
            "text/plain": [
              "       longitude  latitude  housing_median_age  total_rooms  total_bedrooms  \\\n",
              "0        -122.23     37.88                41.0        880.0           129.0   \n",
              "1        -122.22     37.86                21.0       7099.0          1106.0   \n",
              "2        -122.24     37.85                52.0       1467.0           190.0   \n",
              "3        -122.25     37.85                52.0       1274.0           235.0   \n",
              "5        -122.25     37.85                52.0        919.0           213.0   \n",
              "...          ...       ...                 ...          ...             ...   \n",
              "20633    -121.53     39.19                27.0       2080.0           412.0   \n",
              "20635    -121.09     39.48                25.0       1665.0           374.0   \n",
              "20636    -121.21     39.49                18.0        697.0           150.0   \n",
              "20637    -121.22     39.43                17.0       2254.0           485.0   \n",
              "20639    -121.24     39.37                16.0       2785.0           616.0   \n",
              "\n",
              "       population  households  median_income ocean_proximity  \n",
              "0           322.0       126.0         8.3252        NEAR BAY  \n",
              "1          2401.0      1138.0         8.3014        NEAR BAY  \n",
              "2           496.0       177.0         7.2574        NEAR BAY  \n",
              "3           558.0       219.0         5.6431        NEAR BAY  \n",
              "5           413.0       193.0         4.0368        NEAR BAY  \n",
              "...           ...         ...            ...             ...  \n",
              "20633      1082.0       382.0         2.5495          INLAND  \n",
              "20635       845.0       330.0         1.5603          INLAND  \n",
              "20636       356.0       114.0         2.5568          INLAND  \n",
              "20637      1007.0       433.0         1.7000          INLAND  \n",
              "20639      1387.0       530.0         2.3886          INLAND  \n",
              "\n",
              "[16512 rows x 9 columns]"
            ]
          },
          "execution_count": 150,
          "metadata": {},
          "output_type": "execute_result"
        }
      ],
      "source": [
        "X_train.sort_index()"
      ]
    },
    {
      "cell_type": "code",
      "execution_count": null,
      "metadata": {
        "id": "V2dPI6yo7rvd",
        "outputId": "0a6b058c-9934-4e3c-ded6-67aa70d9a5e1"
      },
      "outputs": [
        {
          "data": {
            "text/plain": [
              "0        452600.0\n",
              "1        358500.0\n",
              "2        352100.0\n",
              "3        341300.0\n",
              "4        342200.0\n",
              "           ...   \n",
              "20635     78100.0\n",
              "20636     77100.0\n",
              "20637     92300.0\n",
              "20638     84700.0\n",
              "20639     89400.0\n",
              "Name: median_house_value, Length: 20640, dtype: float64"
            ]
          },
          "execution_count": 151,
          "metadata": {},
          "output_type": "execute_result"
        }
      ],
      "source": [
        "y"
      ]
    },
    {
      "cell_type": "code",
      "execution_count": null,
      "metadata": {
        "id": "gjiNOVVJ7rve",
        "outputId": "b01aa71a-23e7-482e-ed3e-da3bee182c11"
      },
      "outputs": [
        {
          "data": {
            "text/plain": [
              "Text(0, 0.5, 'median_house_value')"
            ]
          },
          "execution_count": 152,
          "metadata": {},
          "output_type": "execute_result"
        },
        {
          "data": {
            "image/png": "[encoded data removed]",
            "text/plain": [
              "<Figure size 640x480 with 1 Axes>"
            ]
          },
          "metadata": {},
          "output_type": "display_data"
        }
      ],
      "source": [
        "plt.scatter(X_train['total_rooms'],y_train)\n",
        "plt.title('total_rooms & median_house_value')\n",
        "plt.xlabel('no.of rooms')\n",
        "plt.ylabel('median_house_value')"
      ]
    },
    {
      "cell_type": "code",
      "execution_count": null,
      "metadata": {
        "id": "b7K4lULv7rve",
        "outputId": "01c6c30a-84ea-474d-a5b9-261db767460d"
      },
      "outputs": [
        {
          "data": {
            "text/plain": [
              "Text(0, 0.5, 'median_house_value')"
            ]
          },
          "execution_count": 153,
          "metadata": {},
          "output_type": "execute_result"
        },
        {
          "data": {
            "image/png": "[encoded data removed]",
            "text/plain": [
              "<Figure size 640x480 with 1 Axes>"
            ]
          },
          "metadata": {},
          "output_type": "display_data"
        }
      ],
      "source": [
        "plt.scatter(X_train['total_bedrooms'],y_train,color='g')\n",
        "plt.title('total_bedrooms & median_house_value')\n",
        "plt.xlabel('no.of bedrooms ')\n",
        "plt.ylabel('median_house_value')"
      ]
    },
    {
      "cell_type": "markdown",
      "metadata": {
        "id": "mHdZ2UTF7rve"
      },
      "source": [
        "#### check the values that unique in ocean_proximity"
      ]
    },
    {
      "cell_type": "code",
      "execution_count": null,
      "metadata": {
        "id": "0LG1sfwi7rve",
        "outputId": "764b5828-766a-4649-8909-02e2219dfcb2"
      },
      "outputs": [
        {
          "data": {
            "text/plain": [
              "array(['INLAND', '<1H OCEAN', 'NEAR BAY', 'NEAR OCEAN', 'ISLAND'],\n",
              "      dtype=object)"
            ]
          },
          "execution_count": 154,
          "metadata": {},
          "output_type": "execute_result"
        }
      ],
      "source": [
        "X_train['ocean_proximity'].unique()"
      ]
    },
    {
      "cell_type": "markdown",
      "metadata": {
        "id": "Ui2uvII37rve"
      },
      "source": [
        "#### check the counts each one value  in ocean_proximity"
      ]
    },
    {
      "cell_type": "code",
      "execution_count": null,
      "metadata": {
        "id": "GCWk5L5Q7rvf",
        "outputId": "103886da-763c-40d7-face-4cc3cc109a0f"
      },
      "outputs": [
        {
          "data": {
            "text/plain": [
              "<1H OCEAN     7256\n",
              "INLAND        5267\n",
              "NEAR OCEAN    2139\n",
              "NEAR BAY      1846\n",
              "ISLAND           4\n",
              "Name: ocean_proximity, dtype: int64"
            ]
          },
          "execution_count": 155,
          "metadata": {},
          "output_type": "execute_result"
        }
      ],
      "source": [
        "X_train['ocean_proximity'].value_counts()"
      ]
    },
    {
      "cell_type": "markdown",
      "metadata": {
        "id": "DM9scCZv7rvf"
      },
      "source": [
        "### - Visulaize the countgs for each value in ocean_proximity columns"
      ]
    },
    {
      "cell_type": "code",
      "execution_count": null,
      "metadata": {
        "id": "SB4jEz4N7rvj",
        "outputId": "80c8bded-fcde-40b6-9c98-5fe253a7bae2"
      },
      "outputs": [
        {
          "data": {
            "text/plain": [
              "<Axes: >"
            ]
          },
          "execution_count": 156,
          "metadata": {},
          "output_type": "execute_result"
        },
        {
          "data": {
            "image/png": "[encoded data removed]",
            "text/plain": [
              "<Figure size 640x480 with 1 Axes>"
            ]
          },
          "metadata": {},
          "output_type": "display_data"
        }
      ],
      "source": [
        "X_train['ocean_proximity'].value_counts().plot(kind='bar',color='b')\n"
      ]
    },
    {
      "cell_type": "markdown",
      "metadata": {
        "id": "cUbsPuN57rvj"
      },
      "source": [
        "####  - Show the distribution of median_income column"
      ]
    },
    {
      "cell_type": "code",
      "execution_count": null,
      "metadata": {
        "id": "UTOtel5b7rvj",
        "outputId": "84dd0b14-4796-463b-8a42-5c01437dead8"
      },
      "outputs": [
        {
          "data": {
            "text/plain": [
              "<Axes: xlabel='median_income', ylabel='Count'>"
            ]
          },
          "execution_count": 157,
          "metadata": {},
          "output_type": "execute_result"
        },
        {
          "data": {
            "image/png": "[encoded data removed]",
            "text/plain": [
              "<Figure size 640x480 with 1 Axes>"
            ]
          },
          "metadata": {},
          "output_type": "display_data"
        }
      ],
      "source": [
        "sns.histplot(X_train['median_income'],kde=True,color='b')"
      ]
    },
    {
      "cell_type": "markdown",
      "metadata": {
        "id": "cR2ZBko27rvk"
      },
      "source": [
        "- the distribution in this column is right skewed"
      ]
    },
    {
      "cell_type": "code",
      "execution_count": null,
      "metadata": {
        "id": "Q3dYEow47rvk",
        "outputId": "429c5945-def3-46db-e361-5918953eda6c"
      },
      "outputs": [
        {
          "data": {
            "text/html": [
              "<div>\n",
              "<style scoped>\n",
              "    .dataframe tbody tr th:only-of-type {\n",
              "        vertical-align: middle;\n",
              "    }\n",
              "\n",
              "    .dataframe tbody tr th {\n",
              "        vertical-align: top;\n",
              "    }\n",
              "\n",
              "    .dataframe thead th {\n",
              "        text-align: right;\n",
              "    }\n",
              "</style>\n",
              "<table border=\"1\" class=\"dataframe\">\n",
              "  <thead>\n",
              "    <tr style=\"text-align: right;\">\n",
              "      <th></th>\n",
              "      <th>longitude</th>\n",
              "      <th>latitude</th>\n",
              "      <th>housing_median_age</th>\n",
              "      <th>total_rooms</th>\n",
              "      <th>total_bedrooms</th>\n",
              "      <th>population</th>\n",
              "      <th>households</th>\n",
              "      <th>median_income</th>\n",
              "      <th>ocean_proximity</th>\n",
              "    </tr>\n",
              "  </thead>\n",
              "  <tbody>\n",
              "    <tr>\n",
              "      <th>17595</th>\n",
              "      <td>-120.07</td>\n",
              "      <td>36.98</td>\n",
              "      <td>12.0</td>\n",
              "      <td>1790.0</td>\n",
              "      <td>379.0</td>\n",
              "      <td>1399.0</td>\n",
              "      <td>397.0</td>\n",
              "      <td>2.5388</td>\n",
              "      <td>INLAND</td>\n",
              "    </tr>\n",
              "    <tr>\n",
              "      <th>6073</th>\n",
              "      <td>-118.22</td>\n",
              "      <td>33.86</td>\n",
              "      <td>16.0</td>\n",
              "      <td>8732.0</td>\n",
              "      <td>1489.0</td>\n",
              "      <td>3944.0</td>\n",
              "      <td>1493.0</td>\n",
              "      <td>5.1948</td>\n",
              "      <td>&lt;1H OCEAN</td>\n",
              "    </tr>\n",
              "    <tr>\n",
              "      <th>6251</th>\n",
              "      <td>-120.94</td>\n",
              "      <td>39.32</td>\n",
              "      <td>14.0</td>\n",
              "      <td>3120.0</td>\n",
              "      <td>595.0</td>\n",
              "      <td>1569.0</td>\n",
              "      <td>556.0</td>\n",
              "      <td>3.5385</td>\n",
              "      <td>INLAND</td>\n",
              "    </tr>\n",
              "    <tr>\n",
              "      <th>3161</th>\n",
              "      <td>-122.11</td>\n",
              "      <td>37.68</td>\n",
              "      <td>37.0</td>\n",
              "      <td>1976.0</td>\n",
              "      <td>481.0</td>\n",
              "      <td>1197.0</td>\n",
              "      <td>465.0</td>\n",
              "      <td>2.5772</td>\n",
              "      <td>NEAR BAY</td>\n",
              "    </tr>\n",
              "    <tr>\n",
              "      <th>1887</th>\n",
              "      <td>-121.34</td>\n",
              "      <td>38.67</td>\n",
              "      <td>35.0</td>\n",
              "      <td>643.0</td>\n",
              "      <td>117.0</td>\n",
              "      <td>331.0</td>\n",
              "      <td>134.0</td>\n",
              "      <td>3.0417</td>\n",
              "      <td>INLAND</td>\n",
              "    </tr>\n",
              "  </tbody>\n",
              "</table>\n",
              "</div>"
            ],
            "text/plain": [
              "       longitude  latitude  housing_median_age  total_rooms  total_bedrooms  \\\n",
              "17595    -120.07     36.98                12.0       1790.0           379.0   \n",
              "6073     -118.22     33.86                16.0       8732.0          1489.0   \n",
              "6251     -120.94     39.32                14.0       3120.0           595.0   \n",
              "3161     -122.11     37.68                37.0       1976.0           481.0   \n",
              "1887     -121.34     38.67                35.0        643.0           117.0   \n",
              "\n",
              "       population  households  median_income ocean_proximity  \n",
              "17595      1399.0       397.0         2.5388          INLAND  \n",
              "6073       3944.0      1493.0         5.1948       <1H OCEAN  \n",
              "6251       1569.0       556.0         3.5385          INLAND  \n",
              "3161       1197.0       465.0         2.5772        NEAR BAY  \n",
              "1887        331.0       134.0         3.0417          INLAND  "
            ]
          },
          "execution_count": 158,
          "metadata": {},
          "output_type": "execute_result"
        }
      ],
      "source": [
        "X_train.head()"
      ]
    },
    {
      "cell_type": "markdown",
      "metadata": {
        "id": "Y4OazsZF7rvk"
      },
      "source": [
        "#### show the distribution of median_house_value (y train )"
      ]
    },
    {
      "cell_type": "code",
      "execution_count": null,
      "metadata": {
        "id": "UycFGQx_7rvk",
        "outputId": "a6707de2-28c0-47c2-ebe5-8cba5adc9ad0"
      },
      "outputs": [
        {
          "data": {
            "text/plain": [
              "<Axes: xlabel='median_house_value', ylabel='Count'>"
            ]
          },
          "execution_count": 159,
          "metadata": {},
          "output_type": "execute_result"
        },
        {
          "data": {
            "image/png": "[encoded data removed]",
            "text/plain": [
              "<Figure size 640x480 with 1 Axes>"
            ]
          },
          "metadata": {},
          "output_type": "display_data"
        }
      ],
      "source": [
        "sns.histplot(y_train,kde=True)"
      ]
    },
    {
      "cell_type": "code",
      "execution_count": null,
      "metadata": {
        "id": "aJD91avI7rvk"
      },
      "outputs": [],
      "source": []
    },
    {
      "cell_type": "markdown",
      "metadata": {
        "id": "4G4h2cqgB2oS"
      },
      "source": [
        "----------------\n",
        "\n",
        "# `04` Data Preparation"
      ]
    },
    {
      "cell_type": "markdown",
      "metadata": {
        "id": "vzQUN2cIB84-"
      },
      "source": [
        "Perform data cleaning, feature engineering, scaling, etc. as needed to make sure it's ready for the model.\n",
        "\n",
        "Hint: It could be helpful to check `sklearn.preprocessing` module."
      ]
    },
    {
      "cell_type": "markdown",
      "metadata": {
        "id": "-NrdvLtz7rvl"
      },
      "source": [
        "####  Check the Percentage of missing values in the total_bedrooms column to decide fill the nulls or drop it"
      ]
    },
    {
      "cell_type": "code",
      "execution_count": null,
      "metadata": {
        "id": "CWushtud7rvl",
        "outputId": "9c0f780c-bb31-4dd2-852e-e2d4596f788f"
      },
      "outputs": [
        {
          "data": {
            "text/plain": [
              "0.96"
            ]
          },
          "execution_count": 160,
          "metadata": {},
          "output_type": "execute_result"
        }
      ],
      "source": [
        "missing_percentage_bedrooms = (X_train.isna().sum() / len(X_train)) * 100\n",
        "np.round(missing_percentage_bedrooms['total_bedrooms'],2)"
      ]
    },
    {
      "cell_type": "markdown",
      "metadata": {
        "id": "glLu3uyz7rvl"
      },
      "source": [
        "- now we decide fill the null values\n",
        "###### make the distribution to Know what the suitable value in the statistical values."
      ]
    },
    {
      "cell_type": "code",
      "execution_count": null,
      "metadata": {
        "id": "FnjvO7T8B8fk",
        "outputId": "653f1b25-d5ed-4769-abc7-c2e54590b599"
      },
      "outputs": [
        {
          "data": {
            "image/png": "[encoded data removed]",
            "text/plain": [
              "<Figure size 640x480 with 1 Axes>"
            ]
          },
          "metadata": {},
          "output_type": "display_data"
        }
      ],
      "source": [
        "plt.hist(X_train['total_bedrooms'])\n",
        "plt.show()"
      ]
    },
    {
      "cell_type": "markdown",
      "metadata": {
        "id": "mTKxDneX7rvl"
      },
      "source": [
        "###### fill the missing values with  median values"
      ]
    },
    {
      "cell_type": "code",
      "execution_count": null,
      "metadata": {
        "id": "UY0QDgTd7rvm"
      },
      "outputs": [],
      "source": [
        "X_train['total_bedrooms'].fillna(X_train['total_bedrooms'].median(),inplace=True)"
      ]
    },
    {
      "cell_type": "code",
      "execution_count": null,
      "metadata": {
        "id": "_6bbhWGT7rvm",
        "outputId": "7f9026ad-9133-4dbd-b9e0-c4b77f3485cd"
      },
      "outputs": [
        {
          "data": {
            "text/plain": [
              "0"
            ]
          },
          "execution_count": 163,
          "metadata": {},
          "output_type": "execute_result"
        }
      ],
      "source": [
        "X_train['total_bedrooms'].isna().sum()"
      ]
    },
    {
      "cell_type": "markdown",
      "metadata": {
        "id": "9dxALgjO7rvm"
      },
      "source": [
        "### Now, No missing values"
      ]
    },
    {
      "cell_type": "markdown",
      "metadata": {
        "id": "kbyID2Wg7rvm"
      },
      "source": [
        "##### Check the duplicated values in the data"
      ]
    },
    {
      "cell_type": "code",
      "execution_count": null,
      "metadata": {
        "id": "ow2oZ9dI7rvm",
        "outputId": "3d3f6189-f417-4cc2-d59b-615e58277b58"
      },
      "outputs": [
        {
          "data": {
            "text/plain": [
              "0"
            ]
          },
          "execution_count": 164,
          "metadata": {},
          "output_type": "execute_result"
        }
      ],
      "source": [
        "X_train.duplicated().sum()"
      ]
    },
    {
      "cell_type": "code",
      "execution_count": null,
      "metadata": {
        "id": "rHZnXr0Q7rvn",
        "outputId": "6033ce28-a514-41af-bd54-4892cb56621a"
      },
      "outputs": [
        {
          "data": {
            "text/html": [
              "<div>\n",
              "<style scoped>\n",
              "    .dataframe tbody tr th:only-of-type {\n",
              "        vertical-align: middle;\n",
              "    }\n",
              "\n",
              "    .dataframe tbody tr th {\n",
              "        vertical-align: top;\n",
              "    }\n",
              "\n",
              "    .dataframe thead th {\n",
              "        text-align: right;\n",
              "    }\n",
              "</style>\n",
              "<table border=\"1\" class=\"dataframe\">\n",
              "  <thead>\n",
              "    <tr style=\"text-align: right;\">\n",
              "      <th></th>\n",
              "      <th>longitude</th>\n",
              "      <th>latitude</th>\n",
              "      <th>housing_median_age</th>\n",
              "      <th>total_rooms</th>\n",
              "      <th>total_bedrooms</th>\n",
              "      <th>population</th>\n",
              "      <th>households</th>\n",
              "      <th>median_income</th>\n",
              "      <th>ocean_proximity</th>\n",
              "    </tr>\n",
              "  </thead>\n",
              "  <tbody>\n",
              "    <tr>\n",
              "      <th>17595</th>\n",
              "      <td>-120.07</td>\n",
              "      <td>36.98</td>\n",
              "      <td>12.0</td>\n",
              "      <td>1790.0</td>\n",
              "      <td>379.0</td>\n",
              "      <td>1399.0</td>\n",
              "      <td>397.0</td>\n",
              "      <td>2.5388</td>\n",
              "      <td>INLAND</td>\n",
              "    </tr>\n",
              "    <tr>\n",
              "      <th>6073</th>\n",
              "      <td>-118.22</td>\n",
              "      <td>33.86</td>\n",
              "      <td>16.0</td>\n",
              "      <td>8732.0</td>\n",
              "      <td>1489.0</td>\n",
              "      <td>3944.0</td>\n",
              "      <td>1493.0</td>\n",
              "      <td>5.1948</td>\n",
              "      <td>&lt;1H OCEAN</td>\n",
              "    </tr>\n",
              "    <tr>\n",
              "      <th>6251</th>\n",
              "      <td>-120.94</td>\n",
              "      <td>39.32</td>\n",
              "      <td>14.0</td>\n",
              "      <td>3120.0</td>\n",
              "      <td>595.0</td>\n",
              "      <td>1569.0</td>\n",
              "      <td>556.0</td>\n",
              "      <td>3.5385</td>\n",
              "      <td>INLAND</td>\n",
              "    </tr>\n",
              "    <tr>\n",
              "      <th>3161</th>\n",
              "      <td>-122.11</td>\n",
              "      <td>37.68</td>\n",
              "      <td>37.0</td>\n",
              "      <td>1976.0</td>\n",
              "      <td>481.0</td>\n",
              "      <td>1197.0</td>\n",
              "      <td>465.0</td>\n",
              "      <td>2.5772</td>\n",
              "      <td>NEAR BAY</td>\n",
              "    </tr>\n",
              "    <tr>\n",
              "      <th>1887</th>\n",
              "      <td>-121.34</td>\n",
              "      <td>38.67</td>\n",
              "      <td>35.0</td>\n",
              "      <td>643.0</td>\n",
              "      <td>117.0</td>\n",
              "      <td>331.0</td>\n",
              "      <td>134.0</td>\n",
              "      <td>3.0417</td>\n",
              "      <td>INLAND</td>\n",
              "    </tr>\n",
              "  </tbody>\n",
              "</table>\n",
              "</div>"
            ],
            "text/plain": [
              "       longitude  latitude  housing_median_age  total_rooms  total_bedrooms  \\\n",
              "17595    -120.07     36.98                12.0       1790.0           379.0   \n",
              "6073     -118.22     33.86                16.0       8732.0          1489.0   \n",
              "6251     -120.94     39.32                14.0       3120.0           595.0   \n",
              "3161     -122.11     37.68                37.0       1976.0           481.0   \n",
              "1887     -121.34     38.67                35.0        643.0           117.0   \n",
              "\n",
              "       population  households  median_income ocean_proximity  \n",
              "17595      1399.0       397.0         2.5388          INLAND  \n",
              "6073       3944.0      1493.0         5.1948       <1H OCEAN  \n",
              "6251       1569.0       556.0         3.5385          INLAND  \n",
              "3161       1197.0       465.0         2.5772        NEAR BAY  \n",
              "1887        331.0       134.0         3.0417          INLAND  "
            ]
          },
          "execution_count": 165,
          "metadata": {},
          "output_type": "execute_result"
        }
      ],
      "source": [
        "X_train.head()"
      ]
    },
    {
      "cell_type": "code",
      "execution_count": null,
      "metadata": {
        "id": "JJz4qTZk7rvn",
        "outputId": "b38cea85-fcba-4ce5-91d1-dca38c60ae59"
      },
      "outputs": [
        {
          "data": {
            "text/html": [
              "<div>\n",
              "<style scoped>\n",
              "    .dataframe tbody tr th:only-of-type {\n",
              "        vertical-align: middle;\n",
              "    }\n",
              "\n",
              "    .dataframe tbody tr th {\n",
              "        vertical-align: top;\n",
              "    }\n",
              "\n",
              "    .dataframe thead th {\n",
              "        text-align: right;\n",
              "    }\n",
              "</style>\n",
              "<table border=\"1\" class=\"dataframe\">\n",
              "  <thead>\n",
              "    <tr style=\"text-align: right;\">\n",
              "      <th></th>\n",
              "      <th>ocean_proximity</th>\n",
              "    </tr>\n",
              "  </thead>\n",
              "  <tbody>\n",
              "    <tr>\n",
              "      <th>17595</th>\n",
              "      <td>INLAND</td>\n",
              "    </tr>\n",
              "    <tr>\n",
              "      <th>6073</th>\n",
              "      <td>&lt;1H OCEAN</td>\n",
              "    </tr>\n",
              "    <tr>\n",
              "      <th>6251</th>\n",
              "      <td>INLAND</td>\n",
              "    </tr>\n",
              "    <tr>\n",
              "      <th>3161</th>\n",
              "      <td>NEAR BAY</td>\n",
              "    </tr>\n",
              "    <tr>\n",
              "      <th>1887</th>\n",
              "      <td>INLAND</td>\n",
              "    </tr>\n",
              "    <tr>\n",
              "      <th>...</th>\n",
              "      <td>...</td>\n",
              "    </tr>\n",
              "    <tr>\n",
              "      <th>8222</th>\n",
              "      <td>INLAND</td>\n",
              "    </tr>\n",
              "    <tr>\n",
              "      <th>9449</th>\n",
              "      <td>INLAND</td>\n",
              "    </tr>\n",
              "    <tr>\n",
              "      <th>8471</th>\n",
              "      <td>&lt;1H OCEAN</td>\n",
              "    </tr>\n",
              "    <tr>\n",
              "      <th>17048</th>\n",
              "      <td>&lt;1H OCEAN</td>\n",
              "    </tr>\n",
              "    <tr>\n",
              "      <th>1318</th>\n",
              "      <td>INLAND</td>\n",
              "    </tr>\n",
              "  </tbody>\n",
              "</table>\n",
              "<p>16512 rows × 1 columns</p>\n",
              "</div>"
            ],
            "text/plain": [
              "      ocean_proximity\n",
              "17595          INLAND\n",
              "6073        <1H OCEAN\n",
              "6251           INLAND\n",
              "3161         NEAR BAY\n",
              "1887           INLAND\n",
              "...               ...\n",
              "8222           INLAND\n",
              "9449           INLAND\n",
              "8471        <1H OCEAN\n",
              "17048       <1H OCEAN\n",
              "1318           INLAND\n",
              "\n",
              "[16512 rows x 1 columns]"
            ]
          },
          "execution_count": 166,
          "metadata": {},
          "output_type": "execute_result"
        }
      ],
      "source": [
        "X_train[['ocean_proximity']]"
      ]
    },
    {
      "cell_type": "code",
      "execution_count": null,
      "metadata": {
        "id": "qtyuZku77rvn",
        "outputId": "12755cfc-653f-4037-bfd6-fd8725e439a5"
      },
      "outputs": [
        {
          "data": {
            "text/html": [
              "<div>\n",
              "<style scoped>\n",
              "    .dataframe tbody tr th:only-of-type {\n",
              "        vertical-align: middle;\n",
              "    }\n",
              "\n",
              "    .dataframe tbody tr th {\n",
              "        vertical-align: top;\n",
              "    }\n",
              "\n",
              "    .dataframe thead th {\n",
              "        text-align: right;\n",
              "    }\n",
              "</style>\n",
              "<table border=\"1\" class=\"dataframe\">\n",
              "  <thead>\n",
              "    <tr style=\"text-align: right;\">\n",
              "      <th></th>\n",
              "      <th>longitude</th>\n",
              "      <th>latitude</th>\n",
              "      <th>housing_median_age</th>\n",
              "      <th>total_rooms</th>\n",
              "      <th>total_bedrooms</th>\n",
              "      <th>population</th>\n",
              "      <th>households</th>\n",
              "      <th>median_income</th>\n",
              "      <th>ocean_proximity_&lt;1H OCEAN</th>\n",
              "      <th>ocean_proximity_INLAND</th>\n",
              "      <th>ocean_proximity_ISLAND</th>\n",
              "      <th>ocean_proximity_NEAR BAY</th>\n",
              "      <th>ocean_proximity_NEAR OCEAN</th>\n",
              "    </tr>\n",
              "  </thead>\n",
              "  <tbody>\n",
              "    <tr>\n",
              "      <th>1887</th>\n",
              "      <td>-121.34</td>\n",
              "      <td>38.67</td>\n",
              "      <td>35.0</td>\n",
              "      <td>643.0</td>\n",
              "      <td>117.0</td>\n",
              "      <td>331.0</td>\n",
              "      <td>134.0</td>\n",
              "      <td>3.0417</td>\n",
              "      <td>0</td>\n",
              "      <td>1</td>\n",
              "      <td>0</td>\n",
              "      <td>0</td>\n",
              "      <td>0</td>\n",
              "    </tr>\n",
              "    <tr>\n",
              "      <th>3161</th>\n",
              "      <td>-122.11</td>\n",
              "      <td>37.68</td>\n",
              "      <td>37.0</td>\n",
              "      <td>1976.0</td>\n",
              "      <td>481.0</td>\n",
              "      <td>1197.0</td>\n",
              "      <td>465.0</td>\n",
              "      <td>2.5772</td>\n",
              "      <td>0</td>\n",
              "      <td>0</td>\n",
              "      <td>0</td>\n",
              "      <td>1</td>\n",
              "      <td>0</td>\n",
              "    </tr>\n",
              "    <tr>\n",
              "      <th>6073</th>\n",
              "      <td>-118.22</td>\n",
              "      <td>33.86</td>\n",
              "      <td>16.0</td>\n",
              "      <td>8732.0</td>\n",
              "      <td>1489.0</td>\n",
              "      <td>3944.0</td>\n",
              "      <td>1493.0</td>\n",
              "      <td>5.1948</td>\n",
              "      <td>1</td>\n",
              "      <td>0</td>\n",
              "      <td>0</td>\n",
              "      <td>0</td>\n",
              "      <td>0</td>\n",
              "    </tr>\n",
              "    <tr>\n",
              "      <th>6251</th>\n",
              "      <td>-120.94</td>\n",
              "      <td>39.32</td>\n",
              "      <td>14.0</td>\n",
              "      <td>3120.0</td>\n",
              "      <td>595.0</td>\n",
              "      <td>1569.0</td>\n",
              "      <td>556.0</td>\n",
              "      <td>3.5385</td>\n",
              "      <td>0</td>\n",
              "      <td>1</td>\n",
              "      <td>0</td>\n",
              "      <td>0</td>\n",
              "      <td>0</td>\n",
              "    </tr>\n",
              "    <tr>\n",
              "      <th>17595</th>\n",
              "      <td>-120.07</td>\n",
              "      <td>36.98</td>\n",
              "      <td>12.0</td>\n",
              "      <td>1790.0</td>\n",
              "      <td>379.0</td>\n",
              "      <td>1399.0</td>\n",
              "      <td>397.0</td>\n",
              "      <td>2.5388</td>\n",
              "      <td>0</td>\n",
              "      <td>1</td>\n",
              "      <td>0</td>\n",
              "      <td>0</td>\n",
              "      <td>0</td>\n",
              "    </tr>\n",
              "  </tbody>\n",
              "</table>\n",
              "</div>"
            ],
            "text/plain": [
              "       longitude  latitude  housing_median_age  total_rooms  total_bedrooms  \\\n",
              "1887     -121.34     38.67                35.0        643.0           117.0   \n",
              "3161     -122.11     37.68                37.0       1976.0           481.0   \n",
              "6073     -118.22     33.86                16.0       8732.0          1489.0   \n",
              "6251     -120.94     39.32                14.0       3120.0           595.0   \n",
              "17595    -120.07     36.98                12.0       1790.0           379.0   \n",
              "\n",
              "       population  households  median_income  ocean_proximity_<1H OCEAN  \\\n",
              "1887        331.0       134.0         3.0417                          0   \n",
              "3161       1197.0       465.0         2.5772                          0   \n",
              "6073       3944.0      1493.0         5.1948                          1   \n",
              "6251       1569.0       556.0         3.5385                          0   \n",
              "17595      1399.0       397.0         2.5388                          0   \n",
              "\n",
              "       ocean_proximity_INLAND  ocean_proximity_ISLAND  \\\n",
              "1887                        1                       0   \n",
              "3161                        0                       0   \n",
              "6073                        0                       0   \n",
              "6251                        1                       0   \n",
              "17595                       1                       0   \n",
              "\n",
              "       ocean_proximity_NEAR BAY  ocean_proximity_NEAR OCEAN  \n",
              "1887                          0                           0  \n",
              "3161                          1                           0  \n",
              "6073                          0                           0  \n",
              "6251                          0                           0  \n",
              "17595                         0                           0  "
            ]
          },
          "execution_count": 167,
          "metadata": {},
          "output_type": "execute_result"
        }
      ],
      "source": [
        "X_train_encoded = pd.get_dummies(X_train)\n",
        "X_train_encoded.head().sort_index()"
      ]
    },
    {
      "cell_type": "code",
      "execution_count": null,
      "metadata": {
        "id": "P6SZyJre7rvn"
      },
      "outputs": [],
      "source": [
        "train_columns = X_train_encoded.columns"
      ]
    },
    {
      "cell_type": "code",
      "execution_count": null,
      "metadata": {
        "id": "4MYd4C2U7rvn",
        "outputId": "58b2353f-ae8e-4667-ef6b-fe39a006c0b3"
      },
      "outputs": [
        {
          "data": {
            "text/plain": [
              "array([[-0.41397495,  0.7176781 , -0.89473684, ...,  0.        ,\n",
              "         0.        ,  0.        ],\n",
              "       [ 0.07382993, -0.1055409 , -0.68421053, ...,  0.        ,\n",
              "         0.        ,  0.        ],\n",
              "       [-0.64337508,  1.33509235, -0.78947368, ...,  0.        ,\n",
              "         0.        ,  0.        ],\n",
              "       ...,\n",
              "       [-0.31905076,  0.04485488,  0.94736842, ...,  0.        ,\n",
              "         0.        ,  0.        ],\n",
              "       [ 0.15293342, -0.16886544,  0.31578947, ...,  0.        ,\n",
              "         0.        ,  0.        ],\n",
              "       [ 0.08174028,  0.10290237,  0.21052632, ...,  0.        ,\n",
              "         0.        ,  0.        ]])"
            ]
          },
          "execution_count": 169,
          "metadata": {},
          "output_type": "execute_result"
        }
      ],
      "source": [
        "# scaler = StandardScaler()\n",
        "scaler = RobustScaler()\n",
        "scaled_data=scaler.fit_transform(X_train_encoded)\n",
        "scaled_data"
      ]
    },
    {
      "cell_type": "code",
      "execution_count": null,
      "metadata": {
        "id": "aA3ajoww7rvo",
        "outputId": "ad797e78-db20-4b5a-cbd2-b0d9e68b6720"
      },
      "outputs": [
        {
          "data": {
            "text/html": [
              "<div>\n",
              "<style scoped>\n",
              "    .dataframe tbody tr th:only-of-type {\n",
              "        vertical-align: middle;\n",
              "    }\n",
              "\n",
              "    .dataframe tbody tr th {\n",
              "        vertical-align: top;\n",
              "    }\n",
              "\n",
              "    .dataframe thead th {\n",
              "        text-align: right;\n",
              "    }\n",
              "</style>\n",
              "<table border=\"1\" class=\"dataframe\">\n",
              "  <thead>\n",
              "    <tr style=\"text-align: right;\">\n",
              "      <th></th>\n",
              "      <th>longitude</th>\n",
              "      <th>latitude</th>\n",
              "      <th>housing_median_age</th>\n",
              "      <th>total_rooms</th>\n",
              "      <th>total_bedrooms</th>\n",
              "      <th>population</th>\n",
              "      <th>households</th>\n",
              "      <th>median_income</th>\n",
              "      <th>ocean_proximity_&lt;1H OCEAN</th>\n",
              "      <th>ocean_proximity_INLAND</th>\n",
              "      <th>ocean_proximity_ISLAND</th>\n",
              "      <th>ocean_proximity_NEAR BAY</th>\n",
              "      <th>ocean_proximity_NEAR OCEAN</th>\n",
              "    </tr>\n",
              "  </thead>\n",
              "  <tbody>\n",
              "    <tr>\n",
              "      <th>0</th>\n",
              "      <td>-0.413975</td>\n",
              "      <td>0.717678</td>\n",
              "      <td>-0.894737</td>\n",
              "      <td>-0.200534</td>\n",
              "      <td>-0.162319</td>\n",
              "      <td>0.249465</td>\n",
              "      <td>-0.040248</td>\n",
              "      <td>-0.457762</td>\n",
              "      <td>0.0</td>\n",
              "      <td>1.0</td>\n",
              "      <td>0.0</td>\n",
              "      <td>0.0</td>\n",
              "      <td>0.0</td>\n",
              "    </tr>\n",
              "    <tr>\n",
              "      <th>1</th>\n",
              "      <td>0.073830</td>\n",
              "      <td>-0.105541</td>\n",
              "      <td>-0.684211</td>\n",
              "      <td>3.918125</td>\n",
              "      <td>3.055072</td>\n",
              "      <td>2.974304</td>\n",
              "      <td>3.352941</td>\n",
              "      <td>0.757326</td>\n",
              "      <td>1.0</td>\n",
              "      <td>0.0</td>\n",
              "      <td>0.0</td>\n",
              "      <td>0.0</td>\n",
              "      <td>0.0</td>\n",
              "    </tr>\n",
              "    <tr>\n",
              "      <th>2</th>\n",
              "      <td>-0.643375</td>\n",
              "      <td>1.335092</td>\n",
              "      <td>-0.789474</td>\n",
              "      <td>0.588549</td>\n",
              "      <td>0.463768</td>\n",
              "      <td>0.431478</td>\n",
              "      <td>0.452012</td>\n",
              "      <td>-0.000412</td>\n",
              "      <td>0.0</td>\n",
              "      <td>1.0</td>\n",
              "      <td>0.0</td>\n",
              "      <td>0.0</td>\n",
              "      <td>0.0</td>\n",
              "    </tr>\n",
              "    <tr>\n",
              "      <th>3</th>\n",
              "      <td>-0.951879</td>\n",
              "      <td>0.902375</td>\n",
              "      <td>0.421053</td>\n",
              "      <td>-0.090181</td>\n",
              "      <td>0.133333</td>\n",
              "      <td>0.033191</td>\n",
              "      <td>0.170279</td>\n",
              "      <td>-0.440195</td>\n",
              "      <td>0.0</td>\n",
              "      <td>0.0</td>\n",
              "      <td>0.0</td>\n",
              "      <td>1.0</td>\n",
              "      <td>0.0</td>\n",
              "    </tr>\n",
              "    <tr>\n",
              "      <th>4</th>\n",
              "      <td>-0.748846</td>\n",
              "      <td>1.163588</td>\n",
              "      <td>0.315789</td>\n",
              "      <td>-0.881044</td>\n",
              "      <td>-0.921739</td>\n",
              "      <td>-0.894004</td>\n",
              "      <td>-0.854489</td>\n",
              "      <td>-0.227692</td>\n",
              "      <td>0.0</td>\n",
              "      <td>1.0</td>\n",
              "      <td>0.0</td>\n",
              "      <td>0.0</td>\n",
              "      <td>0.0</td>\n",
              "    </tr>\n",
              "  </tbody>\n",
              "</table>\n",
              "</div>"
            ],
            "text/plain": [
              "   longitude  latitude  housing_median_age  total_rooms  total_bedrooms  \\\n",
              "0  -0.413975  0.717678           -0.894737    -0.200534       -0.162319   \n",
              "1   0.073830 -0.105541           -0.684211     3.918125        3.055072   \n",
              "2  -0.643375  1.335092           -0.789474     0.588549        0.463768   \n",
              "3  -0.951879  0.902375            0.421053    -0.090181        0.133333   \n",
              "4  -0.748846  1.163588            0.315789    -0.881044       -0.921739   \n",
              "\n",
              "   population  households  median_income  ocean_proximity_<1H OCEAN  \\\n",
              "0    0.249465   -0.040248      -0.457762                        0.0   \n",
              "1    2.974304    3.352941       0.757326                        1.0   \n",
              "2    0.431478    0.452012      -0.000412                        0.0   \n",
              "3    0.033191    0.170279      -0.440195                        0.0   \n",
              "4   -0.894004   -0.854489      -0.227692                        0.0   \n",
              "\n",
              "   ocean_proximity_INLAND  ocean_proximity_ISLAND  ocean_proximity_NEAR BAY  \\\n",
              "0                     1.0                     0.0                       0.0   \n",
              "1                     0.0                     0.0                       0.0   \n",
              "2                     1.0                     0.0                       0.0   \n",
              "3                     0.0                     0.0                       1.0   \n",
              "4                     1.0                     0.0                       0.0   \n",
              "\n",
              "   ocean_proximity_NEAR OCEAN  \n",
              "0                         0.0  \n",
              "1                         0.0  \n",
              "2                         0.0  \n",
              "3                         0.0  \n",
              "4                         0.0  "
            ]
          },
          "execution_count": 170,
          "metadata": {},
          "output_type": "execute_result"
        }
      ],
      "source": [
        "scaled_dataframe = pd.DataFrame(scaled_data, columns=X_train_encoded.columns)\n",
        "scaled_dataframe.head()"
      ]
    },
    {
      "cell_type": "markdown",
      "metadata": {
        "id": "H_wtV6UsDb86"
      },
      "source": [
        "## `#` Prepare Test Set\n",
        "\n",
        "Apply the data transformations you used on the training set to the test set.\n",
        "\n",
        "**Important Note:** DO NOT use `fit` on the test set."
      ]
    },
    {
      "cell_type": "code",
      "execution_count": null,
      "metadata": {
        "id": "IuozIU1jEBy5",
        "outputId": "377c821d-1bbf-44ed-8476-8ac90971b77d"
      },
      "outputs": [
        {
          "data": {
            "text/html": [
              "<div>\n",
              "<style scoped>\n",
              "    .dataframe tbody tr th:only-of-type {\n",
              "        vertical-align: middle;\n",
              "    }\n",
              "\n",
              "    .dataframe tbody tr th {\n",
              "        vertical-align: top;\n",
              "    }\n",
              "\n",
              "    .dataframe thead th {\n",
              "        text-align: right;\n",
              "    }\n",
              "</style>\n",
              "<table border=\"1\" class=\"dataframe\">\n",
              "  <thead>\n",
              "    <tr style=\"text-align: right;\">\n",
              "      <th></th>\n",
              "      <th>longitude</th>\n",
              "      <th>latitude</th>\n",
              "      <th>housing_median_age</th>\n",
              "      <th>total_rooms</th>\n",
              "      <th>total_bedrooms</th>\n",
              "      <th>population</th>\n",
              "      <th>households</th>\n",
              "      <th>median_income</th>\n",
              "      <th>ocean_proximity</th>\n",
              "    </tr>\n",
              "  </thead>\n",
              "  <tbody>\n",
              "    <tr>\n",
              "      <th>5992</th>\n",
              "      <td>-121.15</td>\n",
              "      <td>39.00</td>\n",
              "      <td>15.0</td>\n",
              "      <td>4145.0</td>\n",
              "      <td>691.0</td>\n",
              "      <td>1872.0</td>\n",
              "      <td>680.0</td>\n",
              "      <td>4.3553</td>\n",
              "      <td>INLAND</td>\n",
              "    </tr>\n",
              "    <tr>\n",
              "      <th>11147</th>\n",
              "      <td>-118.46</td>\n",
              "      <td>34.01</td>\n",
              "      <td>39.0</td>\n",
              "      <td>711.0</td>\n",
              "      <td>148.0</td>\n",
              "      <td>347.0</td>\n",
              "      <td>153.0</td>\n",
              "      <td>4.2813</td>\n",
              "      <td>&lt;1H OCEAN</td>\n",
              "    </tr>\n",
              "    <tr>\n",
              "      <th>6432</th>\n",
              "      <td>-121.89</td>\n",
              "      <td>37.49</td>\n",
              "      <td>9.0</td>\n",
              "      <td>4909.0</td>\n",
              "      <td>577.0</td>\n",
              "      <td>1981.0</td>\n",
              "      <td>591.0</td>\n",
              "      <td>9.7194</td>\n",
              "      <td>&lt;1H OCEAN</td>\n",
              "    </tr>\n",
              "    <tr>\n",
              "      <th>224</th>\n",
              "      <td>-117.83</td>\n",
              "      <td>33.88</td>\n",
              "      <td>18.0</td>\n",
              "      <td>2112.0</td>\n",
              "      <td>340.0</td>\n",
              "      <td>1048.0</td>\n",
              "      <td>315.0</td>\n",
              "      <td>6.9308</td>\n",
              "      <td>&lt;1H OCEAN</td>\n",
              "    </tr>\n",
              "    <tr>\n",
              "      <th>289</th>\n",
              "      <td>-118.71</td>\n",
              "      <td>34.29</td>\n",
              "      <td>24.0</td>\n",
              "      <td>2983.0</td>\n",
              "      <td>406.0</td>\n",
              "      <td>1203.0</td>\n",
              "      <td>381.0</td>\n",
              "      <td>6.3236</td>\n",
              "      <td>&lt;1H OCEAN</td>\n",
              "    </tr>\n",
              "  </tbody>\n",
              "</table>\n",
              "</div>"
            ],
            "text/plain": [
              "       longitude  latitude  housing_median_age  total_rooms  total_bedrooms  \\\n",
              "5992     -121.15     39.00                15.0       4145.0           691.0   \n",
              "11147    -118.46     34.01                39.0        711.0           148.0   \n",
              "6432     -121.89     37.49                 9.0       4909.0           577.0   \n",
              "224      -117.83     33.88                18.0       2112.0           340.0   \n",
              "289      -118.71     34.29                24.0       2983.0           406.0   \n",
              "\n",
              "       population  households  median_income ocean_proximity  \n",
              "5992       1872.0       680.0         4.3553          INLAND  \n",
              "11147       347.0       153.0         4.2813       <1H OCEAN  \n",
              "6432       1981.0       591.0         9.7194       <1H OCEAN  \n",
              "224        1048.0       315.0         6.9308       <1H OCEAN  \n",
              "289        1203.0       381.0         6.3236       <1H OCEAN  "
            ]
          },
          "execution_count": 171,
          "metadata": {},
          "output_type": "execute_result"
        }
      ],
      "source": [
        "X_valid.head()"
      ]
    },
    {
      "cell_type": "code",
      "execution_count": null,
      "metadata": {
        "id": "J3FOdDuI7rvo",
        "outputId": "b3340bcf-a9ac-4e81-8e70-a5a2bdfc82e6"
      },
      "outputs": [
        {
          "data": {
            "text/plain": [
              "longitude              0\n",
              "latitude               0\n",
              "housing_median_age     0\n",
              "total_rooms            0\n",
              "total_bedrooms        28\n",
              "population             0\n",
              "households             0\n",
              "median_income          0\n",
              "ocean_proximity        0\n",
              "dtype: int64"
            ]
          },
          "execution_count": 172,
          "metadata": {},
          "output_type": "execute_result"
        }
      ],
      "source": [
        "X_valid.isna().sum()"
      ]
    },
    {
      "cell_type": "markdown",
      "metadata": {
        "id": "EpkJBILI7rvo"
      },
      "source": [
        "### preprocessing function"
      ]
    },
    {
      "cell_type": "code",
      "execution_count": null,
      "metadata": {
        "id": "x9238v9P7rvo"
      },
      "outputs": [],
      "source": [
        "def clean(x):\n",
        "    x['total_bedrooms'].fillna(x['total_bedrooms'].median(),inplace=True)\n",
        "    train_columns=X_train_encoded.columns\n",
        "    X__encoded = pd.get_dummies(x).reindex(columns=train_columns, fill_value=0)\n",
        "    cleaned_dataframe = pd.DataFrame(X__encoded)\n",
        "    return cleaned_dataframe"
      ]
    },
    {
      "cell_type": "code",
      "execution_count": null,
      "metadata": {
        "id": "7KXOH2CJ7rvp",
        "outputId": "efa27988-1ad0-48b8-f74e-73c54fa07815"
      },
      "outputs": [
        {
          "data": {
            "text/html": [
              "<div>\n",
              "<style scoped>\n",
              "    .dataframe tbody tr th:only-of-type {\n",
              "        vertical-align: middle;\n",
              "    }\n",
              "\n",
              "    .dataframe tbody tr th {\n",
              "        vertical-align: top;\n",
              "    }\n",
              "\n",
              "    .dataframe thead th {\n",
              "        text-align: right;\n",
              "    }\n",
              "</style>\n",
              "<table border=\"1\" class=\"dataframe\">\n",
              "  <thead>\n",
              "    <tr style=\"text-align: right;\">\n",
              "      <th></th>\n",
              "      <th>longitude</th>\n",
              "      <th>latitude</th>\n",
              "      <th>housing_median_age</th>\n",
              "      <th>total_rooms</th>\n",
              "      <th>total_bedrooms</th>\n",
              "      <th>population</th>\n",
              "      <th>households</th>\n",
              "      <th>median_income</th>\n",
              "      <th>ocean_proximity_&lt;1H OCEAN</th>\n",
              "      <th>ocean_proximity_INLAND</th>\n",
              "      <th>ocean_proximity_ISLAND</th>\n",
              "      <th>ocean_proximity_NEAR BAY</th>\n",
              "      <th>ocean_proximity_NEAR OCEAN</th>\n",
              "    </tr>\n",
              "  </thead>\n",
              "  <tbody>\n",
              "    <tr>\n",
              "      <th>5992</th>\n",
              "      <td>-121.15</td>\n",
              "      <td>39.00</td>\n",
              "      <td>15.0</td>\n",
              "      <td>4145.0</td>\n",
              "      <td>691.0</td>\n",
              "      <td>1872.0</td>\n",
              "      <td>680.0</td>\n",
              "      <td>4.3553</td>\n",
              "      <td>0</td>\n",
              "      <td>1</td>\n",
              "      <td>0</td>\n",
              "      <td>0</td>\n",
              "      <td>0</td>\n",
              "    </tr>\n",
              "    <tr>\n",
              "      <th>11147</th>\n",
              "      <td>-118.46</td>\n",
              "      <td>34.01</td>\n",
              "      <td>39.0</td>\n",
              "      <td>711.0</td>\n",
              "      <td>148.0</td>\n",
              "      <td>347.0</td>\n",
              "      <td>153.0</td>\n",
              "      <td>4.2813</td>\n",
              "      <td>1</td>\n",
              "      <td>0</td>\n",
              "      <td>0</td>\n",
              "      <td>0</td>\n",
              "      <td>0</td>\n",
              "    </tr>\n",
              "    <tr>\n",
              "      <th>6432</th>\n",
              "      <td>-121.89</td>\n",
              "      <td>37.49</td>\n",
              "      <td>9.0</td>\n",
              "      <td>4909.0</td>\n",
              "      <td>577.0</td>\n",
              "      <td>1981.0</td>\n",
              "      <td>591.0</td>\n",
              "      <td>9.7194</td>\n",
              "      <td>1</td>\n",
              "      <td>0</td>\n",
              "      <td>0</td>\n",
              "      <td>0</td>\n",
              "      <td>0</td>\n",
              "    </tr>\n",
              "    <tr>\n",
              "      <th>224</th>\n",
              "      <td>-117.83</td>\n",
              "      <td>33.88</td>\n",
              "      <td>18.0</td>\n",
              "      <td>2112.0</td>\n",
              "      <td>340.0</td>\n",
              "      <td>1048.0</td>\n",
              "      <td>315.0</td>\n",
              "      <td>6.9308</td>\n",
              "      <td>1</td>\n",
              "      <td>0</td>\n",
              "      <td>0</td>\n",
              "      <td>0</td>\n",
              "      <td>0</td>\n",
              "    </tr>\n",
              "    <tr>\n",
              "      <th>289</th>\n",
              "      <td>-118.71</td>\n",
              "      <td>34.29</td>\n",
              "      <td>24.0</td>\n",
              "      <td>2983.0</td>\n",
              "      <td>406.0</td>\n",
              "      <td>1203.0</td>\n",
              "      <td>381.0</td>\n",
              "      <td>6.3236</td>\n",
              "      <td>1</td>\n",
              "      <td>0</td>\n",
              "      <td>0</td>\n",
              "      <td>0</td>\n",
              "      <td>0</td>\n",
              "    </tr>\n",
              "  </tbody>\n",
              "</table>\n",
              "</div>"
            ],
            "text/plain": [
              "       longitude  latitude  housing_median_age  total_rooms  total_bedrooms  \\\n",
              "5992     -121.15     39.00                15.0       4145.0           691.0   \n",
              "11147    -118.46     34.01                39.0        711.0           148.0   \n",
              "6432     -121.89     37.49                 9.0       4909.0           577.0   \n",
              "224      -117.83     33.88                18.0       2112.0           340.0   \n",
              "289      -118.71     34.29                24.0       2983.0           406.0   \n",
              "\n",
              "       population  households  median_income  ocean_proximity_<1H OCEAN  \\\n",
              "5992       1872.0       680.0         4.3553                          0   \n",
              "11147       347.0       153.0         4.2813                          1   \n",
              "6432       1981.0       591.0         9.7194                          1   \n",
              "224        1048.0       315.0         6.9308                          1   \n",
              "289        1203.0       381.0         6.3236                          1   \n",
              "\n",
              "       ocean_proximity_INLAND  ocean_proximity_ISLAND  \\\n",
              "5992                        1                       0   \n",
              "11147                       0                       0   \n",
              "6432                        0                       0   \n",
              "224                         0                       0   \n",
              "289                         0                       0   \n",
              "\n",
              "       ocean_proximity_NEAR BAY  ocean_proximity_NEAR OCEAN  \n",
              "5992                          0                           0  \n",
              "11147                         0                           0  \n",
              "6432                          0                           0  \n",
              "224                           0                           0  \n",
              "289                           0                           0  "
            ]
          },
          "execution_count": 174,
          "metadata": {},
          "output_type": "execute_result"
        }
      ],
      "source": [
        "X_valid_cleaned=clean(X_valid)\n",
        "X_valid_cleaned.head()"
      ]
    },
    {
      "cell_type": "code",
      "execution_count": null,
      "metadata": {
        "id": "1f2OridP7rvp",
        "outputId": "4008118c-7bbb-45ac-b90e-458f4b137ec6"
      },
      "outputs": [
        {
          "data": {
            "text/html": [
              "<div>\n",
              "<style scoped>\n",
              "    .dataframe tbody tr th:only-of-type {\n",
              "        vertical-align: middle;\n",
              "    }\n",
              "\n",
              "    .dataframe tbody tr th {\n",
              "        vertical-align: top;\n",
              "    }\n",
              "\n",
              "    .dataframe thead th {\n",
              "        text-align: right;\n",
              "    }\n",
              "</style>\n",
              "<table border=\"1\" class=\"dataframe\">\n",
              "  <thead>\n",
              "    <tr style=\"text-align: right;\">\n",
              "      <th></th>\n",
              "      <th>longitude</th>\n",
              "      <th>latitude</th>\n",
              "      <th>housing_median_age</th>\n",
              "      <th>total_rooms</th>\n",
              "      <th>total_bedrooms</th>\n",
              "      <th>population</th>\n",
              "      <th>households</th>\n",
              "      <th>median_income</th>\n",
              "      <th>ocean_proximity_&lt;1H OCEAN</th>\n",
              "      <th>ocean_proximity_INLAND</th>\n",
              "      <th>ocean_proximity_ISLAND</th>\n",
              "      <th>ocean_proximity_NEAR BAY</th>\n",
              "      <th>ocean_proximity_NEAR OCEAN</th>\n",
              "    </tr>\n",
              "  </thead>\n",
              "  <tbody>\n",
              "    <tr>\n",
              "      <th>0</th>\n",
              "      <td>-0.698748</td>\n",
              "      <td>1.250660</td>\n",
              "      <td>-0.736842</td>\n",
              "      <td>1.196678</td>\n",
              "      <td>0.742029</td>\n",
              "      <td>0.755889</td>\n",
              "      <td>0.835913</td>\n",
              "      <td>0.373264</td>\n",
              "      <td>0.0</td>\n",
              "      <td>1.0</td>\n",
              "      <td>0.0</td>\n",
              "      <td>0.0</td>\n",
              "      <td>0.0</td>\n",
              "    </tr>\n",
              "    <tr>\n",
              "      <th>1</th>\n",
              "      <td>0.010547</td>\n",
              "      <td>-0.065963</td>\n",
              "      <td>0.526316</td>\n",
              "      <td>-0.840700</td>\n",
              "      <td>-0.831884</td>\n",
              "      <td>-0.876874</td>\n",
              "      <td>-0.795666</td>\n",
              "      <td>0.339410</td>\n",
              "      <td>1.0</td>\n",
              "      <td>0.0</td>\n",
              "      <td>0.0</td>\n",
              "      <td>0.0</td>\n",
              "      <td>0.0</td>\n",
              "    </tr>\n",
              "    <tr>\n",
              "      <th>2</th>\n",
              "      <td>-0.893869</td>\n",
              "      <td>0.852243</td>\n",
              "      <td>-1.052632</td>\n",
              "      <td>1.649956</td>\n",
              "      <td>0.411594</td>\n",
              "      <td>0.872591</td>\n",
              "      <td>0.560372</td>\n",
              "      <td>2.827275</td>\n",
              "      <td>1.0</td>\n",
              "      <td>0.0</td>\n",
              "      <td>0.0</td>\n",
              "      <td>0.0</td>\n",
              "      <td>0.0</td>\n",
              "    </tr>\n",
              "    <tr>\n",
              "      <th>3</th>\n",
              "      <td>0.176664</td>\n",
              "      <td>-0.100264</td>\n",
              "      <td>-0.578947</td>\n",
              "      <td>-0.009493</td>\n",
              "      <td>-0.275362</td>\n",
              "      <td>-0.126338</td>\n",
              "      <td>-0.294118</td>\n",
              "      <td>1.551525</td>\n",
              "      <td>1.0</td>\n",
              "      <td>0.0</td>\n",
              "      <td>0.0</td>\n",
              "      <td>0.0</td>\n",
              "      <td>0.0</td>\n",
              "    </tr>\n",
              "    <tr>\n",
              "      <th>4</th>\n",
              "      <td>-0.055372</td>\n",
              "      <td>0.007916</td>\n",
              "      <td>-0.263158</td>\n",
              "      <td>0.507268</td>\n",
              "      <td>-0.084058</td>\n",
              "      <td>0.039615</td>\n",
              "      <td>-0.089783</td>\n",
              "      <td>1.273738</td>\n",
              "      <td>1.0</td>\n",
              "      <td>0.0</td>\n",
              "      <td>0.0</td>\n",
              "      <td>0.0</td>\n",
              "      <td>0.0</td>\n",
              "    </tr>\n",
              "  </tbody>\n",
              "</table>\n",
              "</div>"
            ],
            "text/plain": [
              "   longitude  latitude  housing_median_age  total_rooms  total_bedrooms  \\\n",
              "0  -0.698748  1.250660           -0.736842     1.196678        0.742029   \n",
              "1   0.010547 -0.065963            0.526316    -0.840700       -0.831884   \n",
              "2  -0.893869  0.852243           -1.052632     1.649956        0.411594   \n",
              "3   0.176664 -0.100264           -0.578947    -0.009493       -0.275362   \n",
              "4  -0.055372  0.007916           -0.263158     0.507268       -0.084058   \n",
              "\n",
              "   population  households  median_income  ocean_proximity_<1H OCEAN  \\\n",
              "0    0.755889    0.835913       0.373264                        0.0   \n",
              "1   -0.876874   -0.795666       0.339410                        1.0   \n",
              "2    0.872591    0.560372       2.827275                        1.0   \n",
              "3   -0.126338   -0.294118       1.551525                        1.0   \n",
              "4    0.039615   -0.089783       1.273738                        1.0   \n",
              "\n",
              "   ocean_proximity_INLAND  ocean_proximity_ISLAND  ocean_proximity_NEAR BAY  \\\n",
              "0                     1.0                     0.0                       0.0   \n",
              "1                     0.0                     0.0                       0.0   \n",
              "2                     0.0                     0.0                       0.0   \n",
              "3                     0.0                     0.0                       0.0   \n",
              "4                     0.0                     0.0                       0.0   \n",
              "\n",
              "   ocean_proximity_NEAR OCEAN  \n",
              "0                         0.0  \n",
              "1                         0.0  \n",
              "2                         0.0  \n",
              "3                         0.0  \n",
              "4                         0.0  "
            ]
          },
          "execution_count": 175,
          "metadata": {},
          "output_type": "execute_result"
        }
      ],
      "source": [
        "scaled_data_vaild=scaler.transform(X_valid_cleaned)\n",
        "scaled_data_vaild_df = pd.DataFrame(scaled_data_vaild,columns=X_valid_cleaned.columns)\n",
        "scaled_data_vaild_df.head()"
      ]
    },
    {
      "cell_type": "markdown",
      "metadata": {
        "id": "YIOzpokl7rvp"
      },
      "source": [
        "- vaild_test data is prepared"
      ]
    },
    {
      "cell_type": "markdown",
      "metadata": {
        "id": "VOiwWZVTECzY"
      },
      "source": [
        "----------------------------\n",
        "\n",
        "# `05` Normal Equation\n",
        "\n",
        "Using `sklearn` implementation of the linear regression closed-form solution, i.e. normal equation, to model the data.\n",
        "\n",
        "Hint: Look for `sklearn.linear_model.LinearRegression` class."
      ]
    },
    {
      "cell_type": "markdown",
      "metadata": {
        "id": "J0q1-lPPFRkl"
      },
      "source": [
        "## `i` Model Training\n",
        "\n",
        "Initializing the model, fitting it to the training data, and get a fitted model."
      ]
    },
    {
      "cell_type": "code",
      "execution_count": null,
      "metadata": {
        "id": "DehQhIs5F1SA",
        "outputId": "10db18c4-9ace-4a78-ad11-1bf961d04354"
      },
      "outputs": [
        {
          "data": {
            "text/html": [
              "<style>#sk-container-id-15 {color: black;}#sk-container-id-15 pre{padding: 0;}#sk-container-id-15 div.sk-toggleable {background-color: white;}#sk-container-id-15 label.sk-toggleable__label {cursor: pointer;display: block;width: 100%;margin-bottom: 0;padding: 0.3em;box-sizing: border-box;text-align: center;}#sk-container-id-15 label.sk-toggleable__label-arrow:before {content: \"▸\";float: left;margin-right: 0.25em;color: #696969;}#sk-container-id-15 label.sk-toggleable__label-arrow:hover:before {color: black;}#sk-container-id-15 div.sk-estimator:hover label.sk-toggleable__label-arrow:before {color: black;}#sk-container-id-15 div.sk-toggleable__content {max-height: 0;max-width: 0;overflow: hidden;text-align: left;background-color: #f0f8ff;}#sk-container-id-15 div.sk-toggleable__content pre {margin: 0.2em;color: black;border-radius: 0.25em;background-color: #f0f8ff;}#sk-container-id-15 input.sk-toggleable__control:checked~div.sk-toggleable__content {max-height: 200px;max-width: 100%;overflow: auto;}#sk-container-id-15 input.sk-toggleable__control:checked~label.sk-toggleable__label-arrow:before {content: \"▾\";}#sk-container-id-15 div.sk-estimator input.sk-toggleable__control:checked~label.sk-toggleable__label {background-color: #d4ebff;}#sk-container-id-15 div.sk-label input.sk-toggleable__control:checked~label.sk-toggleable__label {background-color: #d4ebff;}#sk-container-id-15 input.sk-hidden--visually {border: 0;clip: rect(1px 1px 1px 1px);clip: rect(1px, 1px, 1px, 1px);height: 1px;margin: -1px;overflow: hidden;padding: 0;position: absolute;width: 1px;}#sk-container-id-15 div.sk-estimator {font-family: monospace;background-color: #f0f8ff;border: 1px dotted black;border-radius: 0.25em;box-sizing: border-box;margin-bottom: 0.5em;}#sk-container-id-15 div.sk-estimator:hover {background-color: #d4ebff;}#sk-container-id-15 div.sk-parallel-item::after {content: \"\";width: 100%;border-bottom: 1px solid gray;flex-grow: 1;}#sk-container-id-15 div.sk-label:hover label.sk-toggleable__label {background-color: #d4ebff;}#sk-container-id-15 div.sk-serial::before {content: \"\";position: absolute;border-left: 1px solid gray;box-sizing: border-box;top: 0;bottom: 0;left: 50%;z-index: 0;}#sk-container-id-15 div.sk-serial {display: flex;flex-direction: column;align-items: center;background-color: white;padding-right: 0.2em;padding-left: 0.2em;position: relative;}#sk-container-id-15 div.sk-item {position: relative;z-index: 1;}#sk-container-id-15 div.sk-parallel {display: flex;align-items: stretch;justify-content: center;background-color: white;position: relative;}#sk-container-id-15 div.sk-item::before, #sk-container-id-15 div.sk-parallel-item::before {content: \"\";position: absolute;border-left: 1px solid gray;box-sizing: border-box;top: 0;bottom: 0;left: 50%;z-index: -1;}#sk-container-id-15 div.sk-parallel-item {display: flex;flex-direction: column;z-index: 1;position: relative;background-color: white;}#sk-container-id-15 div.sk-parallel-item:first-child::after {align-self: flex-end;width: 50%;}#sk-container-id-15 div.sk-parallel-item:last-child::after {align-self: flex-start;width: 50%;}#sk-container-id-15 div.sk-parallel-item:only-child::after {width: 0;}#sk-container-id-15 div.sk-dashed-wrapped {border: 1px dashed gray;margin: 0 0.4em 0.5em 0.4em;box-sizing: border-box;padding-bottom: 0.4em;background-color: white;}#sk-container-id-15 div.sk-label label {font-family: monospace;font-weight: bold;display: inline-block;line-height: 1.2em;}#sk-container-id-15 div.sk-label-container {text-align: center;}#sk-container-id-15 div.sk-container {/* jupyter's `normalize.less` sets `[hidden] { display: none; }` but bootstrap.min.css set `[hidden] { display: none !important; }` so we also need the `!important` here to be able to override the default hidden behavior on the sphinx rendered scikit-learn.org. See: https://github.com/scikit-learn/scikit-learn/issues/21755 */display: inline-block !important;position: relative;}#sk-container-id-15 div.sk-text-repr-fallback {display: none;}</style><div id=\"sk-container-id-15\" class=\"sk-top-container\"><div class=\"sk-text-repr-fallback\"><pre>LinearRegression()</pre><b>In a Jupyter environment, please rerun this cell to show the HTML representation or trust the notebook. <br />On GitHub, the HTML representation is unable to render, please try loading this page with nbviewer.org.</b></div><div class=\"sk-container\" hidden><div class=\"sk-item\"><div class=\"sk-estimator sk-toggleable\"><input class=\"sk-toggleable__control sk-hidden--visually\" id=\"sk-estimator-id-28\" type=\"checkbox\" checked><label for=\"sk-estimator-id-28\" class=\"sk-toggleable__label sk-toggleable__label-arrow\">LinearRegression</label><div class=\"sk-toggleable__content\"><pre>LinearRegression()</pre></div></div></div></div></div>"
            ],
            "text/plain": [
              "LinearRegression()"
            ]
          },
          "execution_count": 176,
          "metadata": {},
          "output_type": "execute_result"
        }
      ],
      "source": [
        "li_model = LinearRegression()\n",
        "li_model.fit(scaled_dataframe, y_train)"
      ]
    },
    {
      "cell_type": "markdown",
      "metadata": {
        "id": "q6-TcS6DF2PG"
      },
      "source": [
        "## `ii` Model Evaluation\n",
        "\n",
        "Evaluate model performance using several metrics, e.g. **RMSE**, **MAE**, $R^2$. etc."
      ]
    },
    {
      "cell_type": "code",
      "execution_count": null,
      "metadata": {
        "id": "ZcrrEBqNGXHX",
        "outputId": "6fd2f0c3-5892-47d3-fa6b-16fe827057ff"
      },
      "outputs": [
        {
          "data": {
            "text/plain": [
              "array([-59952642.95160404,  -1239047.95649351, -74311939.50739509, ...,\n",
              "       -61968729.79303796, -37428365.81881475, -40999566.0145654 ])"
            ]
          },
          "execution_count": 177,
          "metadata": {},
          "output_type": "execute_result"
        }
      ],
      "source": [
        "y_pred = li_model.predict(X_valid_cleaned)\n",
        "y_pred"
      ]
    },
    {
      "cell_type": "code",
      "execution_count": null,
      "metadata": {
        "id": "LxNmLHCy7rvq",
        "outputId": "5d50d4cd-f940-4ffd-a0dc-e6ce8eef7f28"
      },
      "outputs": [
        {
          "data": {
            "text/plain": [
              "3518330136908353.0"
            ]
          },
          "execution_count": 178,
          "metadata": {},
          "output_type": "execute_result"
        }
      ],
      "source": [
        "mean_squared_error(y_valid, y_pred)"
      ]
    },
    {
      "cell_type": "code",
      "execution_count": null,
      "metadata": {
        "id": "U6iImYcE7rvq",
        "outputId": "7dad2499-1fda-49e9-d9ef-2d209d0b02b3"
      },
      "outputs": [
        {
          "data": {
            "text/plain": [
              "40075218.41643509"
            ]
          },
          "execution_count": 179,
          "metadata": {},
          "output_type": "execute_result"
        }
      ],
      "source": [
        "mean_absolute_error(y_valid, y_pred)"
      ]
    },
    {
      "cell_type": "code",
      "execution_count": null,
      "metadata": {
        "id": "6X8yY7iQ7rvq",
        "outputId": "b451ee4a-24ac-46d0-af38-050c0a68718f"
      },
      "outputs": [
        {
          "data": {
            "text/plain": [
              "-263455.162577058"
            ]
          },
          "execution_count": 180,
          "metadata": {},
          "output_type": "execute_result"
        }
      ],
      "source": [
        "r2_score(y_valid, y_pred)"
      ]
    },
    {
      "cell_type": "markdown",
      "metadata": {
        "id": "byE8HWEnGX9T"
      },
      "source": [
        "----------------------\n",
        "\n",
        "# `06` Linear Regression with Gradient Descent\n",
        "\n",
        "Using `sklearn` implementation of linear regression to model the data.\n",
        "\n",
        "Hint: Look for `sklearn.linear_model.SGDRegressor` class."
      ]
    },
    {
      "cell_type": "markdown",
      "metadata": {
        "id": "1731lOYIHPNw"
      },
      "source": [
        "## `i` Baseline Model Training\n",
        "\n",
        "Initializing the model with initial parameters, fitting it to the training data, and get a baseline model.\n",
        "\n",
        "Use:\n",
        "- Non-regularized model.\n",
        "- Constant `learning_rate`"
      ]
    },
    {
      "cell_type": "code",
      "execution_count": null,
      "metadata": {
        "id": "5HaoLxdUHKUm",
        "outputId": "899f917f-4fa8-4e0c-9d82-f51148e70237"
      },
      "outputs": [
        {
          "data": {
            "text/html": [
              "<style>#sk-container-id-19 {color: black;}#sk-container-id-19 pre{padding: 0;}#sk-container-id-19 div.sk-toggleable {background-color: white;}#sk-container-id-19 label.sk-toggleable__label {cursor: pointer;display: block;width: 100%;margin-bottom: 0;padding: 0.3em;box-sizing: border-box;text-align: center;}#sk-container-id-19 label.sk-toggleable__label-arrow:before {content: \"▸\";float: left;margin-right: 0.25em;color: #696969;}#sk-container-id-19 label.sk-toggleable__label-arrow:hover:before {color: black;}#sk-container-id-19 div.sk-estimator:hover label.sk-toggleable__label-arrow:before {color: black;}#sk-container-id-19 div.sk-toggleable__content {max-height: 0;max-width: 0;overflow: hidden;text-align: left;background-color: #f0f8ff;}#sk-container-id-19 div.sk-toggleable__content pre {margin: 0.2em;color: black;border-radius: 0.25em;background-color: #f0f8ff;}#sk-container-id-19 input.sk-toggleable__control:checked~div.sk-toggleable__content {max-height: 200px;max-width: 100%;overflow: auto;}#sk-container-id-19 input.sk-toggleable__control:checked~label.sk-toggleable__label-arrow:before {content: \"▾\";}#sk-container-id-19 div.sk-estimator input.sk-toggleable__control:checked~label.sk-toggleable__label {background-color: #d4ebff;}#sk-container-id-19 div.sk-label input.sk-toggleable__control:checked~label.sk-toggleable__label {background-color: #d4ebff;}#sk-container-id-19 input.sk-hidden--visually {border: 0;clip: rect(1px 1px 1px 1px);clip: rect(1px, 1px, 1px, 1px);height: 1px;margin: -1px;overflow: hidden;padding: 0;position: absolute;width: 1px;}#sk-container-id-19 div.sk-estimator {font-family: monospace;background-color: #f0f8ff;border: 1px dotted black;border-radius: 0.25em;box-sizing: border-box;margin-bottom: 0.5em;}#sk-container-id-19 div.sk-estimator:hover {background-color: #d4ebff;}#sk-container-id-19 div.sk-parallel-item::after {content: \"\";width: 100%;border-bottom: 1px solid gray;flex-grow: 1;}#sk-container-id-19 div.sk-label:hover label.sk-toggleable__label {background-color: #d4ebff;}#sk-container-id-19 div.sk-serial::before {content: \"\";position: absolute;border-left: 1px solid gray;box-sizing: border-box;top: 0;bottom: 0;left: 50%;z-index: 0;}#sk-container-id-19 div.sk-serial {display: flex;flex-direction: column;align-items: center;background-color: white;padding-right: 0.2em;padding-left: 0.2em;position: relative;}#sk-container-id-19 div.sk-item {position: relative;z-index: 1;}#sk-container-id-19 div.sk-parallel {display: flex;align-items: stretch;justify-content: center;background-color: white;position: relative;}#sk-container-id-19 div.sk-item::before, #sk-container-id-19 div.sk-parallel-item::before {content: \"\";position: absolute;border-left: 1px solid gray;box-sizing: border-box;top: 0;bottom: 0;left: 50%;z-index: -1;}#sk-container-id-19 div.sk-parallel-item {display: flex;flex-direction: column;z-index: 1;position: relative;background-color: white;}#sk-container-id-19 div.sk-parallel-item:first-child::after {align-self: flex-end;width: 50%;}#sk-container-id-19 div.sk-parallel-item:last-child::after {align-self: flex-start;width: 50%;}#sk-container-id-19 div.sk-parallel-item:only-child::after {width: 0;}#sk-container-id-19 div.sk-dashed-wrapped {border: 1px dashed gray;margin: 0 0.4em 0.5em 0.4em;box-sizing: border-box;padding-bottom: 0.4em;background-color: white;}#sk-container-id-19 div.sk-label label {font-family: monospace;font-weight: bold;display: inline-block;line-height: 1.2em;}#sk-container-id-19 div.sk-label-container {text-align: center;}#sk-container-id-19 div.sk-container {/* jupyter's `normalize.less` sets `[hidden] { display: none; }` but bootstrap.min.css set `[hidden] { display: none !important; }` so we also need the `!important` here to be able to override the default hidden behavior on the sphinx rendered scikit-learn.org. See: https://github.com/scikit-learn/scikit-learn/issues/21755 */display: inline-block !important;position: relative;}#sk-container-id-19 div.sk-text-repr-fallback {display: none;}</style><div id=\"sk-container-id-19\" class=\"sk-top-container\"><div class=\"sk-text-repr-fallback\"><pre>SGDRegressor(learning_rate=&#x27;constant&#x27;)</pre><b>In a Jupyter environment, please rerun this cell to show the HTML representation or trust the notebook. <br />On GitHub, the HTML representation is unable to render, please try loading this page with nbviewer.org.</b></div><div class=\"sk-container\" hidden><div class=\"sk-item\"><div class=\"sk-estimator sk-toggleable\"><input class=\"sk-toggleable__control sk-hidden--visually\" id=\"sk-estimator-id-32\" type=\"checkbox\" checked><label for=\"sk-estimator-id-32\" class=\"sk-toggleable__label sk-toggleable__label-arrow\">SGDRegressor</label><div class=\"sk-toggleable__content\"><pre>SGDRegressor(learning_rate=&#x27;constant&#x27;)</pre></div></div></div></div></div>"
            ],
            "text/plain": [
              "SGDRegressor(learning_rate='constant')"
            ]
          },
          "execution_count": 188,
          "metadata": {},
          "output_type": "execute_result"
        }
      ],
      "source": [
        "sgd_regressor = SGDRegressor(learning_rate='constant')\n",
        "sgd_regressor.fit(scaled_data, y_train)"
      ]
    },
    {
      "cell_type": "markdown",
      "metadata": {
        "id": "p8iTFl8UHK1T"
      },
      "source": [
        "## `ii` Model Evaluation\n",
        "\n",
        "Evaluate the baseline model performance using several metrics, e.g. **RMSE**, **MAE**, $R^2$. etc."
      ]
    },
    {
      "cell_type": "code",
      "execution_count": null,
      "metadata": {
        "id": "nQOtqp-iIHUY",
        "outputId": "0ad08550-1a56-4fd6-8313-8648bab5b134"
      },
      "outputs": [
        {
          "name": "stderr",
          "output_type": "stream",
          "text": [
            "C:\\Users\\XPS 9560\\anaconda3\\Lib\\site-packages\\sklearn\\base.py:457: UserWarning: X has feature names, but SGDRegressor was fitted without feature names\n",
            "  warnings.warn(\n"
          ]
        },
        {
          "data": {
            "text/plain": [
              "array([-1.02609373e+08, -7.98656918e+06, -1.24847906e+08, ...,\n",
              "       -9.88316630e+07, -6.71335242e+07, -8.20391270e+07])"
            ]
          },
          "execution_count": 189,
          "metadata": {},
          "output_type": "execute_result"
        }
      ],
      "source": [
        "y_pred_sgd = sgd_regressor.predict(X_valid_cleaned)\n",
        "y_pred_sgd"
      ]
    },
    {
      "cell_type": "code",
      "execution_count": null,
      "metadata": {
        "id": "hjlGaVyH7rvr",
        "outputId": "fd21f21c-7ec7-443c-cb1c-9906863fb61a"
      },
      "outputs": [
        {
          "data": {
            "text/plain": [
              "9243364173238908.0"
            ]
          },
          "execution_count": 190,
          "metadata": {},
          "output_type": "execute_result"
        }
      ],
      "source": [
        "mean_squared_error(y_valid, y_pred_sgd)"
      ]
    },
    {
      "cell_type": "code",
      "execution_count": null,
      "metadata": {
        "id": "Q37BXwtf7rvr",
        "outputId": "a2f03c43-da69-4b9b-aafd-a0c7bde49c75"
      },
      "outputs": [
        {
          "data": {
            "text/plain": [
              "68876338.73252684"
            ]
          },
          "execution_count": 191,
          "metadata": {},
          "output_type": "execute_result"
        }
      ],
      "source": [
        "mean_absolute_error(y_valid, y_pred_sgd)"
      ]
    },
    {
      "cell_type": "code",
      "execution_count": null,
      "metadata": {
        "id": "9B9OXWG_7rvs",
        "outputId": "722ebf78-ef83-4f68-a7b6-792d5dc41579"
      },
      "outputs": [
        {
          "data": {
            "text/plain": [
              "-692151.5722778463"
            ]
          },
          "execution_count": 192,
          "metadata": {},
          "output_type": "execute_result"
        }
      ],
      "source": [
        "r2_score(y_valid, y_pred_sgd)"
      ]
    },
    {
      "cell_type": "code",
      "execution_count": null,
      "metadata": {
        "id": "Q4N8WeEq7rvs"
      },
      "outputs": [],
      "source": []
    },
    {
      "cell_type": "markdown",
      "metadata": {
        "id": "zFJUaZuDIH1j"
      },
      "source": [
        "## `iii` Tune `learning_rate`\n",
        "\n",
        "Try different `learning_rate` values and evaluate. What is the optimal learning rate?\n",
        "\n",
        "Hint: You might want to use `sklearn.model_selection.RandomizedSearchCV` or `sklearn.model_selection.GridSearchCV` classes."
      ]
    },
    {
      "cell_type": "code",
      "execution_count": null,
      "metadata": {
        "id": "a4n9kftlIIV4"
      },
      "outputs": [],
      "source": [
        "params = {\n",
        "    'eta0': [0.0001, 0.001, 0.01, 0.1, 1],\n",
        "    'penalty': ['l1', 'l2'],\n",
        "    'alpha': [0.0001, 0.001, 0.01, 0.1, 1]\n",
        "}\n"
      ]
    },
    {
      "cell_type": "markdown",
      "metadata": {
        "id": "SruId9hzJbXH"
      },
      "source": [
        "## `iv` Regularization Mode: On\n",
        "\n",
        "Let's try $l_1$ and $l_2$ regularization. Use default parameters for simplicity. Does regularization made the model generalize better?\n",
        "\n",
        "Which of the two regularizations performs better?"
      ]
    },
    {
      "cell_type": "code",
      "execution_count": null,
      "metadata": {
        "id": "_WyaGi3vKvBy",
        "outputId": "a951f039-ec68-4815-d6ed-aa0426a36f8a"
      },
      "outputs": [
        {
          "name": "stdout",
          "output_type": "stream",
          "text": [
            "Fitting 3 folds for each of 50 candidates, totalling 150 fits\n"
          ]
        },
        {
          "data": {
            "text/html": [
              "<style>#sk-container-id-20 {color: black;}#sk-container-id-20 pre{padding: 0;}#sk-container-id-20 div.sk-toggleable {background-color: white;}#sk-container-id-20 label.sk-toggleable__label {cursor: pointer;display: block;width: 100%;margin-bottom: 0;padding: 0.3em;box-sizing: border-box;text-align: center;}#sk-container-id-20 label.sk-toggleable__label-arrow:before {content: \"▸\";float: left;margin-right: 0.25em;color: #696969;}#sk-container-id-20 label.sk-toggleable__label-arrow:hover:before {color: black;}#sk-container-id-20 div.sk-estimator:hover label.sk-toggleable__label-arrow:before {color: black;}#sk-container-id-20 div.sk-toggleable__content {max-height: 0;max-width: 0;overflow: hidden;text-align: left;background-color: #f0f8ff;}#sk-container-id-20 div.sk-toggleable__content pre {margin: 0.2em;color: black;border-radius: 0.25em;background-color: #f0f8ff;}#sk-container-id-20 input.sk-toggleable__control:checked~div.sk-toggleable__content {max-height: 200px;max-width: 100%;overflow: auto;}#sk-container-id-20 input.sk-toggleable__control:checked~label.sk-toggleable__label-arrow:before {content: \"▾\";}#sk-container-id-20 div.sk-estimator input.sk-toggleable__control:checked~label.sk-toggleable__label {background-color: #d4ebff;}#sk-container-id-20 div.sk-label input.sk-toggleable__control:checked~label.sk-toggleable__label {background-color: #d4ebff;}#sk-container-id-20 input.sk-hidden--visually {border: 0;clip: rect(1px 1px 1px 1px);clip: rect(1px, 1px, 1px, 1px);height: 1px;margin: -1px;overflow: hidden;padding: 0;position: absolute;width: 1px;}#sk-container-id-20 div.sk-estimator {font-family: monospace;background-color: #f0f8ff;border: 1px dotted black;border-radius: 0.25em;box-sizing: border-box;margin-bottom: 0.5em;}#sk-container-id-20 div.sk-estimator:hover {background-color: #d4ebff;}#sk-container-id-20 div.sk-parallel-item::after {content: \"\";width: 100%;border-bottom: 1px solid gray;flex-grow: 1;}#sk-container-id-20 div.sk-label:hover label.sk-toggleable__label {background-color: #d4ebff;}#sk-container-id-20 div.sk-serial::before {content: \"\";position: absolute;border-left: 1px solid gray;box-sizing: border-box;top: 0;bottom: 0;left: 50%;z-index: 0;}#sk-container-id-20 div.sk-serial {display: flex;flex-direction: column;align-items: center;background-color: white;padding-right: 0.2em;padding-left: 0.2em;position: relative;}#sk-container-id-20 div.sk-item {position: relative;z-index: 1;}#sk-container-id-20 div.sk-parallel {display: flex;align-items: stretch;justify-content: center;background-color: white;position: relative;}#sk-container-id-20 div.sk-item::before, #sk-container-id-20 div.sk-parallel-item::before {content: \"\";position: absolute;border-left: 1px solid gray;box-sizing: border-box;top: 0;bottom: 0;left: 50%;z-index: -1;}#sk-container-id-20 div.sk-parallel-item {display: flex;flex-direction: column;z-index: 1;position: relative;background-color: white;}#sk-container-id-20 div.sk-parallel-item:first-child::after {align-self: flex-end;width: 50%;}#sk-container-id-20 div.sk-parallel-item:last-child::after {align-self: flex-start;width: 50%;}#sk-container-id-20 div.sk-parallel-item:only-child::after {width: 0;}#sk-container-id-20 div.sk-dashed-wrapped {border: 1px dashed gray;margin: 0 0.4em 0.5em 0.4em;box-sizing: border-box;padding-bottom: 0.4em;background-color: white;}#sk-container-id-20 div.sk-label label {font-family: monospace;font-weight: bold;display: inline-block;line-height: 1.2em;}#sk-container-id-20 div.sk-label-container {text-align: center;}#sk-container-id-20 div.sk-container {/* jupyter's `normalize.less` sets `[hidden] { display: none; }` but bootstrap.min.css set `[hidden] { display: none !important; }` so we also need the `!important` here to be able to override the default hidden behavior on the sphinx rendered scikit-learn.org. See: https://github.com/scikit-learn/scikit-learn/issues/21755 */display: inline-block !important;position: relative;}#sk-container-id-20 div.sk-text-repr-fallback {display: none;}</style><div id=\"sk-container-id-20\" class=\"sk-top-container\"><div class=\"sk-text-repr-fallback\"><pre>GridSearchCV(cv=3, estimator=SGDRegressor(learning_rate=&#x27;constant&#x27;), n_jobs=-1,\n",
              "             param_grid={&#x27;alpha&#x27;: [0.0001, 0.001, 0.01, 0.1, 1],\n",
              "                         &#x27;eta0&#x27;: [0.0001, 0.001, 0.01, 0.1, 1],\n",
              "                         &#x27;penalty&#x27;: [&#x27;l1&#x27;, &#x27;l2&#x27;]},\n",
              "             verbose=5)</pre><b>In a Jupyter environment, please rerun this cell to show the HTML representation or trust the notebook. <br />On GitHub, the HTML representation is unable to render, please try loading this page with nbviewer.org.</b></div><div class=\"sk-container\" hidden><div class=\"sk-item sk-dashed-wrapped\"><div class=\"sk-label-container\"><div class=\"sk-label sk-toggleable\"><input class=\"sk-toggleable__control sk-hidden--visually\" id=\"sk-estimator-id-33\" type=\"checkbox\" ><label for=\"sk-estimator-id-33\" class=\"sk-toggleable__label sk-toggleable__label-arrow\">GridSearchCV</label><div class=\"sk-toggleable__content\"><pre>GridSearchCV(cv=3, estimator=SGDRegressor(learning_rate=&#x27;constant&#x27;), n_jobs=-1,\n",
              "             param_grid={&#x27;alpha&#x27;: [0.0001, 0.001, 0.01, 0.1, 1],\n",
              "                         &#x27;eta0&#x27;: [0.0001, 0.001, 0.01, 0.1, 1],\n",
              "                         &#x27;penalty&#x27;: [&#x27;l1&#x27;, &#x27;l2&#x27;]},\n",
              "             verbose=5)</pre></div></div></div><div class=\"sk-parallel\"><div class=\"sk-parallel-item\"><div class=\"sk-item\"><div class=\"sk-label-container\"><div class=\"sk-label sk-toggleable\"><input class=\"sk-toggleable__control sk-hidden--visually\" id=\"sk-estimator-id-34\" type=\"checkbox\" ><label for=\"sk-estimator-id-34\" class=\"sk-toggleable__label sk-toggleable__label-arrow\">estimator: SGDRegressor</label><div class=\"sk-toggleable__content\"><pre>SGDRegressor(learning_rate=&#x27;constant&#x27;)</pre></div></div></div><div class=\"sk-serial\"><div class=\"sk-item\"><div class=\"sk-estimator sk-toggleable\"><input class=\"sk-toggleable__control sk-hidden--visually\" id=\"sk-estimator-id-35\" type=\"checkbox\" ><label for=\"sk-estimator-id-35\" class=\"sk-toggleable__label sk-toggleable__label-arrow\">SGDRegressor</label><div class=\"sk-toggleable__content\"><pre>SGDRegressor(learning_rate=&#x27;constant&#x27;)</pre></div></div></div></div></div></div></div></div></div></div>"
            ],
            "text/plain": [
              "GridSearchCV(cv=3, estimator=SGDRegressor(learning_rate='constant'), n_jobs=-1,\n",
              "             param_grid={'alpha': [0.0001, 0.001, 0.01, 0.1, 1],\n",
              "                         'eta0': [0.0001, 0.001, 0.01, 0.1, 1],\n",
              "                         'penalty': ['l1', 'l2']},\n",
              "             verbose=5)"
            ]
          },
          "execution_count": 194,
          "metadata": {},
          "output_type": "execute_result"
        }
      ],
      "source": [
        "regressor = GridSearchCV(sgd_regressor, params, cv=3, verbose=5, n_jobs=-1)\n",
        "regressor.fit(scaled_data, y_train)"
      ]
    },
    {
      "cell_type": "code",
      "execution_count": null,
      "metadata": {
        "id": "N0qudwzH7rvs",
        "outputId": "380c37f0-6d45-48d4-a092-8c9fce853156"
      },
      "outputs": [
        {
          "data": {
            "text/html": [
              "<div>\n",
              "<style scoped>\n",
              "    .dataframe tbody tr th:only-of-type {\n",
              "        vertical-align: middle;\n",
              "    }\n",
              "\n",
              "    .dataframe tbody tr th {\n",
              "        vertical-align: top;\n",
              "    }\n",
              "\n",
              "    .dataframe thead th {\n",
              "        text-align: right;\n",
              "    }\n",
              "</style>\n",
              "<table border=\"1\" class=\"dataframe\">\n",
              "  <thead>\n",
              "    <tr style=\"text-align: right;\">\n",
              "      <th></th>\n",
              "      <th>mean_fit_time</th>\n",
              "      <th>std_fit_time</th>\n",
              "      <th>mean_score_time</th>\n",
              "      <th>std_score_time</th>\n",
              "      <th>param_alpha</th>\n",
              "      <th>param_eta0</th>\n",
              "      <th>param_penalty</th>\n",
              "      <th>params</th>\n",
              "      <th>split0_test_score</th>\n",
              "      <th>split1_test_score</th>\n",
              "      <th>split2_test_score</th>\n",
              "      <th>mean_test_score</th>\n",
              "      <th>std_test_score</th>\n",
              "      <th>rank_test_score</th>\n",
              "    </tr>\n",
              "  </thead>\n",
              "  <tbody>\n",
              "    <tr>\n",
              "      <th>0</th>\n",
              "      <td>0.996324</td>\n",
              "      <td>0.280485</td>\n",
              "      <td>0.051197</td>\n",
              "      <td>1.401669e-02</td>\n",
              "      <td>0.0001</td>\n",
              "      <td>0.0001</td>\n",
              "      <td>l1</td>\n",
              "      <td>{'alpha': 0.0001, 'eta0': 0.0001, 'penalty': '...</td>\n",
              "      <td>6.330856e-01</td>\n",
              "      <td>6.549300e-01</td>\n",
              "      <td>6.480763e-01</td>\n",
              "      <td>6.453640e-01</td>\n",
              "      <td>9.121856e-03</td>\n",
              "      <td>8</td>\n",
              "    </tr>\n",
              "    <tr>\n",
              "      <th>1</th>\n",
              "      <td>0.651242</td>\n",
              "      <td>0.030533</td>\n",
              "      <td>0.069149</td>\n",
              "      <td>4.150057e-02</td>\n",
              "      <td>0.0001</td>\n",
              "      <td>0.0001</td>\n",
              "      <td>l2</td>\n",
              "      <td>{'alpha': 0.0001, 'eta0': 0.0001, 'penalty': '...</td>\n",
              "      <td>6.322140e-01</td>\n",
              "      <td>6.530904e-01</td>\n",
              "      <td>6.503961e-01</td>\n",
              "      <td>6.452335e-01</td>\n",
              "      <td>9.271636e-03</td>\n",
              "      <td>11</td>\n",
              "    </tr>\n",
              "    <tr>\n",
              "      <th>2</th>\n",
              "      <td>0.310858</td>\n",
              "      <td>0.134601</td>\n",
              "      <td>0.080120</td>\n",
              "      <td>6.954872e-02</td>\n",
              "      <td>0.0001</td>\n",
              "      <td>0.001</td>\n",
              "      <td>l1</td>\n",
              "      <td>{'alpha': 0.0001, 'eta0': 0.001, 'penalty': 'l1'}</td>\n",
              "      <td>6.319769e-01</td>\n",
              "      <td>6.526682e-01</td>\n",
              "      <td>6.511194e-01</td>\n",
              "      <td>6.452548e-01</td>\n",
              "      <td>9.410199e-03</td>\n",
              "      <td>10</td>\n",
              "    </tr>\n",
              "    <tr>\n",
              "      <th>3</th>\n",
              "      <td>0.157905</td>\n",
              "      <td>0.118551</td>\n",
              "      <td>0.001996</td>\n",
              "      <td>3.122788e-06</td>\n",
              "      <td>0.0001</td>\n",
              "      <td>0.001</td>\n",
              "      <td>l2</td>\n",
              "      <td>{'alpha': 0.0001, 'eta0': 0.001, 'penalty': 'l2'}</td>\n",
              "      <td>6.322827e-01</td>\n",
              "      <td>6.535164e-01</td>\n",
              "      <td>6.520834e-01</td>\n",
              "      <td>6.459608e-01</td>\n",
              "      <td>9.689580e-03</td>\n",
              "      <td>3</td>\n",
              "    </tr>\n",
              "    <tr>\n",
              "      <th>4</th>\n",
              "      <td>0.067486</td>\n",
              "      <td>0.011403</td>\n",
              "      <td>0.004652</td>\n",
              "      <td>3.076928e-03</td>\n",
              "      <td>0.0001</td>\n",
              "      <td>0.01</td>\n",
              "      <td>l1</td>\n",
              "      <td>{'alpha': 0.0001, 'eta0': 0.01, 'penalty': 'l1'}</td>\n",
              "      <td>6.150898e-01</td>\n",
              "      <td>6.417169e-01</td>\n",
              "      <td>6.383512e-01</td>\n",
              "      <td>6.317193e-01</td>\n",
              "      <td>1.183887e-02</td>\n",
              "      <td>19</td>\n",
              "    </tr>\n",
              "    <tr>\n",
              "      <th>5</th>\n",
              "      <td>0.036570</td>\n",
              "      <td>0.003392</td>\n",
              "      <td>0.003323</td>\n",
              "      <td>2.048158e-03</td>\n",
              "      <td>0.0001</td>\n",
              "      <td>0.01</td>\n",
              "      <td>l2</td>\n",
              "      <td>{'alpha': 0.0001, 'eta0': 0.01, 'penalty': 'l2'}</td>\n",
              "      <td>6.236521e-01</td>\n",
              "      <td>6.440714e-01</td>\n",
              "      <td>6.364469e-01</td>\n",
              "      <td>6.347234e-01</td>\n",
              "      <td>8.424750e-03</td>\n",
              "      <td>18</td>\n",
              "    </tr>\n",
              "    <tr>\n",
              "      <th>6</th>\n",
              "      <td>0.077461</td>\n",
              "      <td>0.017415</td>\n",
              "      <td>0.003322</td>\n",
              "      <td>4.694599e-04</td>\n",
              "      <td>0.0001</td>\n",
              "      <td>0.1</td>\n",
              "      <td>l1</td>\n",
              "      <td>{'alpha': 0.0001, 'eta0': 0.1, 'penalty': 'l1'}</td>\n",
              "      <td>-8.072141e+11</td>\n",
              "      <td>-2.923101e+11</td>\n",
              "      <td>-1.329901e+12</td>\n",
              "      <td>-8.098086e+11</td>\n",
              "      <td>4.235989e+11</td>\n",
              "      <td>37</td>\n",
              "    </tr>\n",
              "    <tr>\n",
              "      <th>7</th>\n",
              "      <td>0.032579</td>\n",
              "      <td>0.003292</td>\n",
              "      <td>0.002662</td>\n",
              "      <td>4.718199e-04</td>\n",
              "      <td>0.0001</td>\n",
              "      <td>0.1</td>\n",
              "      <td>l2</td>\n",
              "      <td>{'alpha': 0.0001, 'eta0': 0.1, 'penalty': 'l2'}</td>\n",
              "      <td>-4.540353e+10</td>\n",
              "      <td>-5.667662e+10</td>\n",
              "      <td>-5.819514e+11</td>\n",
              "      <td>-2.280105e+11</td>\n",
              "      <td>2.503163e+11</td>\n",
              "      <td>35</td>\n",
              "    </tr>\n",
              "    <tr>\n",
              "      <th>8</th>\n",
              "      <td>0.048203</td>\n",
              "      <td>0.007299</td>\n",
              "      <td>0.002662</td>\n",
              "      <td>4.711633e-04</td>\n",
              "      <td>0.0001</td>\n",
              "      <td>1</td>\n",
              "      <td>l1</td>\n",
              "      <td>{'alpha': 0.0001, 'eta0': 1, 'penalty': 'l1'}</td>\n",
              "      <td>-6.083942e+15</td>\n",
              "      <td>-3.759931e+15</td>\n",
              "      <td>-1.760112e+15</td>\n",
              "      <td>-3.867995e+15</td>\n",
              "      <td>1.766850e+15</td>\n",
              "      <td>48</td>\n",
              "    </tr>\n",
              "    <tr>\n",
              "      <th>9</th>\n",
              "      <td>0.051530</td>\n",
              "      <td>0.010935</td>\n",
              "      <td>0.002660</td>\n",
              "      <td>4.801392e-04</td>\n",
              "      <td>0.0001</td>\n",
              "      <td>1</td>\n",
              "      <td>l2</td>\n",
              "      <td>{'alpha': 0.0001, 'eta0': 1, 'penalty': 'l2'}</td>\n",
              "      <td>-1.275471e+15</td>\n",
              "      <td>-5.805292e+14</td>\n",
              "      <td>-3.623738e+15</td>\n",
              "      <td>-1.826579e+15</td>\n",
              "      <td>1.302068e+15</td>\n",
              "      <td>45</td>\n",
              "    </tr>\n",
              "    <tr>\n",
              "      <th>10</th>\n",
              "      <td>0.683721</td>\n",
              "      <td>0.060087</td>\n",
              "      <td>0.008879</td>\n",
              "      <td>8.482688e-03</td>\n",
              "      <td>0.001</td>\n",
              "      <td>0.0001</td>\n",
              "      <td>l1</td>\n",
              "      <td>{'alpha': 0.001, 'eta0': 0.0001, 'penalty': 'l1'}</td>\n",
              "      <td>6.320584e-01</td>\n",
              "      <td>6.540940e-01</td>\n",
              "      <td>6.488858e-01</td>\n",
              "      <td>6.450127e-01</td>\n",
              "      <td>9.403638e-03</td>\n",
              "      <td>12</td>\n",
              "    </tr>\n",
              "    <tr>\n",
              "      <th>11</th>\n",
              "      <td>0.624283</td>\n",
              "      <td>0.210348</td>\n",
              "      <td>0.001999</td>\n",
              "      <td>8.144199e-04</td>\n",
              "      <td>0.001</td>\n",
              "      <td>0.0001</td>\n",
              "      <td>l2</td>\n",
              "      <td>{'alpha': 0.001, 'eta0': 0.0001, 'penalty': 'l2'}</td>\n",
              "      <td>6.327005e-01</td>\n",
              "      <td>6.528711e-01</td>\n",
              "      <td>6.510348e-01</td>\n",
              "      <td>6.455355e-01</td>\n",
              "      <td>9.106621e-03</td>\n",
              "      <td>7</td>\n",
              "    </tr>\n",
              "    <tr>\n",
              "      <th>12</th>\n",
              "      <td>0.230786</td>\n",
              "      <td>0.133039</td>\n",
              "      <td>0.007654</td>\n",
              "      <td>5.991921e-03</td>\n",
              "      <td>0.001</td>\n",
              "      <td>0.001</td>\n",
              "      <td>l1</td>\n",
              "      <td>{'alpha': 0.001, 'eta0': 0.001, 'penalty': 'l1'}</td>\n",
              "      <td>6.318759e-01</td>\n",
              "      <td>6.545041e-01</td>\n",
              "      <td>6.516700e-01</td>\n",
              "      <td>6.460167e-01</td>\n",
              "      <td>1.006576e-02</td>\n",
              "      <td>2</td>\n",
              "    </tr>\n",
              "    <tr>\n",
              "      <th>13</th>\n",
              "      <td>0.142460</td>\n",
              "      <td>0.021635</td>\n",
              "      <td>0.002659</td>\n",
              "      <td>1.245091e-03</td>\n",
              "      <td>0.001</td>\n",
              "      <td>0.001</td>\n",
              "      <td>l2</td>\n",
              "      <td>{'alpha': 0.001, 'eta0': 0.001, 'penalty': 'l2'}</td>\n",
              "      <td>6.296901e-01</td>\n",
              "      <td>6.549660e-01</td>\n",
              "      <td>6.501022e-01</td>\n",
              "      <td>6.449194e-01</td>\n",
              "      <td>1.095028e-02</td>\n",
              "      <td>13</td>\n",
              "    </tr>\n",
              "    <tr>\n",
              "      <th>14</th>\n",
              "      <td>0.066176</td>\n",
              "      <td>0.009230</td>\n",
              "      <td>0.002988</td>\n",
              "      <td>8.139365e-04</td>\n",
              "      <td>0.001</td>\n",
              "      <td>0.01</td>\n",
              "      <td>l1</td>\n",
              "      <td>{'alpha': 0.001, 'eta0': 0.01, 'penalty': 'l1'}</td>\n",
              "      <td>6.206822e-01</td>\n",
              "      <td>6.521268e-01</td>\n",
              "      <td>6.378613e-01</td>\n",
              "      <td>6.368901e-01</td>\n",
              "      <td>1.285554e-02</td>\n",
              "      <td>17</td>\n",
              "    </tr>\n",
              "    <tr>\n",
              "      <th>15</th>\n",
              "      <td>0.056851</td>\n",
              "      <td>0.005637</td>\n",
              "      <td>0.002654</td>\n",
              "      <td>4.683772e-04</td>\n",
              "      <td>0.001</td>\n",
              "      <td>0.01</td>\n",
              "      <td>l2</td>\n",
              "      <td>{'alpha': 0.001, 'eta0': 0.01, 'penalty': 'l2'}</td>\n",
              "      <td>6.265786e-01</td>\n",
              "      <td>6.289466e-01</td>\n",
              "      <td>6.123095e-01</td>\n",
              "      <td>6.226116e-01</td>\n",
              "      <td>7.348523e-03</td>\n",
              "      <td>23</td>\n",
              "    </tr>\n",
              "    <tr>\n",
              "      <th>16</th>\n",
              "      <td>0.050864</td>\n",
              "      <td>0.021220</td>\n",
              "      <td>0.003993</td>\n",
              "      <td>2.151190e-03</td>\n",
              "      <td>0.001</td>\n",
              "      <td>0.1</td>\n",
              "      <td>l1</td>\n",
              "      <td>{'alpha': 0.001, 'eta0': 0.1, 'penalty': 'l1'}</td>\n",
              "      <td>-3.331691e+10</td>\n",
              "      <td>-2.869202e+11</td>\n",
              "      <td>-2.796161e+11</td>\n",
              "      <td>-1.999511e+11</td>\n",
              "      <td>1.178659e+11</td>\n",
              "      <td>34</td>\n",
              "    </tr>\n",
              "    <tr>\n",
              "      <th>17</th>\n",
              "      <td>0.045882</td>\n",
              "      <td>0.005877</td>\n",
              "      <td>0.002655</td>\n",
              "      <td>4.678470e-04</td>\n",
              "      <td>0.001</td>\n",
              "      <td>0.1</td>\n",
              "      <td>l2</td>\n",
              "      <td>{'alpha': 0.001, 'eta0': 0.1, 'penalty': 'l2'}</td>\n",
              "      <td>-2.245094e+10</td>\n",
              "      <td>-4.023381e+10</td>\n",
              "      <td>-6.244731e+11</td>\n",
              "      <td>-2.290526e+11</td>\n",
              "      <td>2.796987e+11</td>\n",
              "      <td>36</td>\n",
              "    </tr>\n",
              "    <tr>\n",
              "      <th>18</th>\n",
              "      <td>0.109040</td>\n",
              "      <td>0.024569</td>\n",
              "      <td>0.002664</td>\n",
              "      <td>4.732023e-04</td>\n",
              "      <td>0.001</td>\n",
              "      <td>1</td>\n",
              "      <td>l1</td>\n",
              "      <td>{'alpha': 0.001, 'eta0': 1, 'penalty': 'l1'}</td>\n",
              "      <td>-4.674368e+15</td>\n",
              "      <td>-6.635726e+16</td>\n",
              "      <td>-7.692148e+15</td>\n",
              "      <td>-2.624126e+16</td>\n",
              "      <td>2.839304e+16</td>\n",
              "      <td>50</td>\n",
              "    </tr>\n",
              "    <tr>\n",
              "      <th>19</th>\n",
              "      <td>0.039559</td>\n",
              "      <td>0.007116</td>\n",
              "      <td>0.002328</td>\n",
              "      <td>4.696291e-04</td>\n",
              "      <td>0.001</td>\n",
              "      <td>1</td>\n",
              "      <td>l2</td>\n",
              "      <td>{'alpha': 0.001, 'eta0': 1, 'penalty': 'l2'}</td>\n",
              "      <td>-1.357455e+15</td>\n",
              "      <td>-1.442591e+15</td>\n",
              "      <td>-4.961033e+15</td>\n",
              "      <td>-2.587026e+15</td>\n",
              "      <td>1.679036e+15</td>\n",
              "      <td>47</td>\n",
              "    </tr>\n",
              "    <tr>\n",
              "      <th>20</th>\n",
              "      <td>0.598400</td>\n",
              "      <td>0.078913</td>\n",
              "      <td>0.002660</td>\n",
              "      <td>9.405502e-04</td>\n",
              "      <td>0.01</td>\n",
              "      <td>0.0001</td>\n",
              "      <td>l1</td>\n",
              "      <td>{'alpha': 0.01, 'eta0': 0.0001, 'penalty': 'l1'}</td>\n",
              "      <td>6.325095e-01</td>\n",
              "      <td>6.544845e-01</td>\n",
              "      <td>6.506670e-01</td>\n",
              "      <td>6.458870e-01</td>\n",
              "      <td>9.586841e-03</td>\n",
              "      <td>4</td>\n",
              "    </tr>\n",
              "    <tr>\n",
              "      <th>21</th>\n",
              "      <td>0.286562</td>\n",
              "      <td>0.058051</td>\n",
              "      <td>0.012965</td>\n",
              "      <td>1.412873e-02</td>\n",
              "      <td>0.01</td>\n",
              "      <td>0.0001</td>\n",
              "      <td>l2</td>\n",
              "      <td>{'alpha': 0.01, 'eta0': 0.0001, 'penalty': 'l2'}</td>\n",
              "      <td>6.309310e-01</td>\n",
              "      <td>6.511949e-01</td>\n",
              "      <td>6.469387e-01</td>\n",
              "      <td>6.430216e-01</td>\n",
              "      <td>8.724078e-03</td>\n",
              "      <td>14</td>\n",
              "    </tr>\n",
              "    <tr>\n",
              "      <th>22</th>\n",
              "      <td>0.157244</td>\n",
              "      <td>0.047667</td>\n",
              "      <td>0.002993</td>\n",
              "      <td>1.410065e-03</td>\n",
              "      <td>0.01</td>\n",
              "      <td>0.001</td>\n",
              "      <td>l1</td>\n",
              "      <td>{'alpha': 0.01, 'eta0': 0.001, 'penalty': 'l1'}</td>\n",
              "      <td>6.331217e-01</td>\n",
              "      <td>6.555168e-01</td>\n",
              "      <td>6.486528e-01</td>\n",
              "      <td>6.457638e-01</td>\n",
              "      <td>9.368175e-03</td>\n",
              "      <td>5</td>\n",
              "    </tr>\n",
              "    <tr>\n",
              "      <th>23</th>\n",
              "      <td>0.113363</td>\n",
              "      <td>0.029274</td>\n",
              "      <td>0.001995</td>\n",
              "      <td>8.139070e-04</td>\n",
              "      <td>0.01</td>\n",
              "      <td>0.001</td>\n",
              "      <td>l2</td>\n",
              "      <td>{'alpha': 0.01, 'eta0': 0.001, 'penalty': 'l2'}</td>\n",
              "      <td>6.281387e-01</td>\n",
              "      <td>6.526887e-01</td>\n",
              "      <td>6.423396e-01</td>\n",
              "      <td>6.410557e-01</td>\n",
              "      <td>1.006351e-02</td>\n",
              "      <td>16</td>\n",
              "    </tr>\n",
              "    <tr>\n",
              "      <th>24</th>\n",
              "      <td>0.068150</td>\n",
              "      <td>0.016089</td>\n",
              "      <td>0.002332</td>\n",
              "      <td>4.666011e-04</td>\n",
              "      <td>0.01</td>\n",
              "      <td>0.01</td>\n",
              "      <td>l1</td>\n",
              "      <td>{'alpha': 0.01, 'eta0': 0.01, 'penalty': 'l1'}</td>\n",
              "      <td>5.805646e-01</td>\n",
              "      <td>4.994719e-01</td>\n",
              "      <td>6.179332e-01</td>\n",
              "      <td>5.659899e-01</td>\n",
              "      <td>4.944751e-02</td>\n",
              "      <td>27</td>\n",
              "    </tr>\n",
              "    <tr>\n",
              "      <th>25</th>\n",
              "      <td>0.052525</td>\n",
              "      <td>0.016396</td>\n",
              "      <td>0.002658</td>\n",
              "      <td>9.386949e-04</td>\n",
              "      <td>0.01</td>\n",
              "      <td>0.01</td>\n",
              "      <td>l2</td>\n",
              "      <td>{'alpha': 0.01, 'eta0': 0.01, 'penalty': 'l2'}</td>\n",
              "      <td>6.118354e-01</td>\n",
              "      <td>6.145238e-01</td>\n",
              "      <td>6.133782e-01</td>\n",
              "      <td>6.132458e-01</td>\n",
              "      <td>1.101515e-03</td>\n",
              "      <td>26</td>\n",
              "    </tr>\n",
              "    <tr>\n",
              "      <th>26</th>\n",
              "      <td>0.067817</td>\n",
              "      <td>0.026247</td>\n",
              "      <td>0.001994</td>\n",
              "      <td>8.920806e-07</td>\n",
              "      <td>0.01</td>\n",
              "      <td>0.1</td>\n",
              "      <td>l1</td>\n",
              "      <td>{'alpha': 0.01, 'eta0': 0.1, 'penalty': 'l1'}</td>\n",
              "      <td>-5.926591e+12</td>\n",
              "      <td>-1.037504e+09</td>\n",
              "      <td>-3.855905e+11</td>\n",
              "      <td>-2.104406e+12</td>\n",
              "      <td>2.707249e+12</td>\n",
              "      <td>40</td>\n",
              "    </tr>\n",
              "    <tr>\n",
              "      <th>27</th>\n",
              "      <td>0.030587</td>\n",
              "      <td>0.005421</td>\n",
              "      <td>0.002990</td>\n",
              "      <td>8.144922e-04</td>\n",
              "      <td>0.01</td>\n",
              "      <td>0.1</td>\n",
              "      <td>l2</td>\n",
              "      <td>{'alpha': 0.01, 'eta0': 0.1, 'penalty': 'l2'}</td>\n",
              "      <td>-9.728576e+07</td>\n",
              "      <td>-2.011189e+10</td>\n",
              "      <td>-1.897284e+09</td>\n",
              "      <td>-7.368818e+09</td>\n",
              "      <td>9.040624e+09</td>\n",
              "      <td>33</td>\n",
              "    </tr>\n",
              "    <tr>\n",
              "      <th>28</th>\n",
              "      <td>0.061836</td>\n",
              "      <td>0.002934</td>\n",
              "      <td>0.007312</td>\n",
              "      <td>4.703140e-03</td>\n",
              "      <td>0.01</td>\n",
              "      <td>1</td>\n",
              "      <td>l1</td>\n",
              "      <td>{'alpha': 0.01, 'eta0': 1, 'penalty': 'l1'}</td>\n",
              "      <td>-5.546372e+14</td>\n",
              "      <td>-1.147320e+15</td>\n",
              "      <td>-3.403157e+15</td>\n",
              "      <td>-1.701704e+15</td>\n",
              "      <td>1.227198e+15</td>\n",
              "      <td>43</td>\n",
              "    </tr>\n",
              "    <tr>\n",
              "      <th>29</th>\n",
              "      <td>0.044876</td>\n",
              "      <td>0.009870</td>\n",
              "      <td>0.001662</td>\n",
              "      <td>4.702471e-04</td>\n",
              "      <td>0.01</td>\n",
              "      <td>1</td>\n",
              "      <td>l2</td>\n",
              "      <td>{'alpha': 0.01, 'eta0': 1, 'penalty': 'l2'}</td>\n",
              "      <td>-2.681519e+14</td>\n",
              "      <td>-6.193409e+15</td>\n",
              "      <td>-2.251068e+16</td>\n",
              "      <td>-9.657414e+15</td>\n",
              "      <td>9.405035e+15</td>\n",
              "      <td>49</td>\n",
              "    </tr>\n",
              "    <tr>\n",
              "      <th>30</th>\n",
              "      <td>0.893805</td>\n",
              "      <td>0.269838</td>\n",
              "      <td>0.006320</td>\n",
              "      <td>2.051059e-03</td>\n",
              "      <td>0.1</td>\n",
              "      <td>0.0001</td>\n",
              "      <td>l1</td>\n",
              "      <td>{'alpha': 0.1, 'eta0': 0.0001, 'penalty': 'l1'}</td>\n",
              "      <td>6.311844e-01</td>\n",
              "      <td>6.540599e-01</td>\n",
              "      <td>6.506885e-01</td>\n",
              "      <td>6.453109e-01</td>\n",
              "      <td>1.008331e-02</td>\n",
              "      <td>9</td>\n",
              "    </tr>\n",
              "    <tr>\n",
              "      <th>31</th>\n",
              "      <td>0.271953</td>\n",
              "      <td>0.016312</td>\n",
              "      <td>0.015953</td>\n",
              "      <td>1.253353e-02</td>\n",
              "      <td>0.1</td>\n",
              "      <td>0.0001</td>\n",
              "      <td>l2</td>\n",
              "      <td>{'alpha': 0.1, 'eta0': 0.0001, 'penalty': 'l2'}</td>\n",
              "      <td>6.123897e-01</td>\n",
              "      <td>6.265412e-01</td>\n",
              "      <td>6.298514e-01</td>\n",
              "      <td>6.229274e-01</td>\n",
              "      <td>7.572879e-03</td>\n",
              "      <td>22</td>\n",
              "    </tr>\n",
              "    <tr>\n",
              "      <th>32</th>\n",
              "      <td>0.396467</td>\n",
              "      <td>0.030258</td>\n",
              "      <td>0.005320</td>\n",
              "      <td>3.295434e-03</td>\n",
              "      <td>0.1</td>\n",
              "      <td>0.001</td>\n",
              "      <td>l1</td>\n",
              "      <td>{'alpha': 0.1, 'eta0': 0.001, 'penalty': 'l1'}</td>\n",
              "      <td>6.238603e-01</td>\n",
              "      <td>6.566655e-01</td>\n",
              "      <td>6.484285e-01</td>\n",
              "      <td>6.429848e-01</td>\n",
              "      <td>1.393488e-02</td>\n",
              "      <td>15</td>\n",
              "    </tr>\n",
              "    <tr>\n",
              "      <th>33</th>\n",
              "      <td>0.105896</td>\n",
              "      <td>0.015495</td>\n",
              "      <td>0.024599</td>\n",
              "      <td>1.893078e-02</td>\n",
              "      <td>0.1</td>\n",
              "      <td>0.001</td>\n",
              "      <td>l2</td>\n",
              "      <td>{'alpha': 0.1, 'eta0': 0.001, 'penalty': 'l2'}</td>\n",
              "      <td>6.144028e-01</td>\n",
              "      <td>6.265323e-01</td>\n",
              "      <td>6.297004e-01</td>\n",
              "      <td>6.235451e-01</td>\n",
              "      <td>6.592742e-03</td>\n",
              "      <td>21</td>\n",
              "    </tr>\n",
              "    <tr>\n",
              "      <th>34</th>\n",
              "      <td>0.164876</td>\n",
              "      <td>0.082942</td>\n",
              "      <td>0.016620</td>\n",
              "      <td>1.856969e-02</td>\n",
              "      <td>0.1</td>\n",
              "      <td>0.01</td>\n",
              "      <td>l1</td>\n",
              "      <td>{'alpha': 0.1, 'eta0': 0.01, 'penalty': 'l1'}</td>\n",
              "      <td>6.153413e-01</td>\n",
              "      <td>6.415858e-01</td>\n",
              "      <td>6.369159e-01</td>\n",
              "      <td>6.312810e-01</td>\n",
              "      <td>1.143118e-02</td>\n",
              "      <td>20</td>\n",
              "    </tr>\n",
              "    <tr>\n",
              "      <th>35</th>\n",
              "      <td>0.126999</td>\n",
              "      <td>0.022822</td>\n",
              "      <td>0.009298</td>\n",
              "      <td>5.728981e-03</td>\n",
              "      <td>0.1</td>\n",
              "      <td>0.01</td>\n",
              "      <td>l2</td>\n",
              "      <td>{'alpha': 0.1, 'eta0': 0.01, 'penalty': 'l2'}</td>\n",
              "      <td>6.148992e-01</td>\n",
              "      <td>6.316274e-01</td>\n",
              "      <td>5.974693e-01</td>\n",
              "      <td>6.146653e-01</td>\n",
              "      <td>1.394596e-02</td>\n",
              "      <td>25</td>\n",
              "    </tr>\n",
              "    <tr>\n",
              "      <th>36</th>\n",
              "      <td>0.097737</td>\n",
              "      <td>0.029450</td>\n",
              "      <td>0.004657</td>\n",
              "      <td>2.050878e-03</td>\n",
              "      <td>0.1</td>\n",
              "      <td>0.1</td>\n",
              "      <td>l1</td>\n",
              "      <td>{'alpha': 0.1, 'eta0': 0.1, 'penalty': 'l1'}</td>\n",
              "      <td>-4.328573e+10</td>\n",
              "      <td>-5.167045e+12</td>\n",
              "      <td>-1.748558e+11</td>\n",
              "      <td>-1.795062e+12</td>\n",
              "      <td>2.384957e+12</td>\n",
              "      <td>38</td>\n",
              "    </tr>\n",
              "    <tr>\n",
              "      <th>37</th>\n",
              "      <td>0.049185</td>\n",
              "      <td>0.015122</td>\n",
              "      <td>0.002662</td>\n",
              "      <td>4.651892e-04</td>\n",
              "      <td>0.1</td>\n",
              "      <td>0.1</td>\n",
              "      <td>l2</td>\n",
              "      <td>{'alpha': 0.1, 'eta0': 0.1, 'penalty': 'l2'}</td>\n",
              "      <td>5.074631e-01</td>\n",
              "      <td>-8.698654e+06</td>\n",
              "      <td>-4.902109e+01</td>\n",
              "      <td>-2.899568e+06</td>\n",
              "      <td>4.100574e+06</td>\n",
              "      <td>32</td>\n",
              "    </tr>\n",
              "    <tr>\n",
              "      <th>38</th>\n",
              "      <td>0.092756</td>\n",
              "      <td>0.009060</td>\n",
              "      <td>0.003991</td>\n",
              "      <td>2.160714e-03</td>\n",
              "      <td>0.1</td>\n",
              "      <td>1</td>\n",
              "      <td>l1</td>\n",
              "      <td>{'alpha': 0.1, 'eta0': 1, 'penalty': 'l1'}</td>\n",
              "      <td>-3.780349e+15</td>\n",
              "      <td>-4.897005e+14</td>\n",
              "      <td>-2.105010e+15</td>\n",
              "      <td>-2.125020e+15</td>\n",
              "      <td>1.343476e+15</td>\n",
              "      <td>46</td>\n",
              "    </tr>\n",
              "    <tr>\n",
              "      <th>39</th>\n",
              "      <td>0.052518</td>\n",
              "      <td>0.007393</td>\n",
              "      <td>0.002657</td>\n",
              "      <td>9.402681e-04</td>\n",
              "      <td>0.1</td>\n",
              "      <td>1</td>\n",
              "      <td>l2</td>\n",
              "      <td>{'alpha': 0.1, 'eta0': 1, 'penalty': 'l2'}</td>\n",
              "      <td>-3.651535e+14</td>\n",
              "      <td>-5.020953e+14</td>\n",
              "      <td>-6.000164e+14</td>\n",
              "      <td>-4.890884e+14</td>\n",
              "      <td>9.632248e+13</td>\n",
              "      <td>42</td>\n",
              "    </tr>\n",
              "    <tr>\n",
              "      <th>40</th>\n",
              "      <td>0.640818</td>\n",
              "      <td>0.085897</td>\n",
              "      <td>0.002991</td>\n",
              "      <td>8.182364e-04</td>\n",
              "      <td>1</td>\n",
              "      <td>0.0001</td>\n",
              "      <td>l1</td>\n",
              "      <td>{'alpha': 1, 'eta0': 0.0001, 'penalty': 'l1'}</td>\n",
              "      <td>6.327609e-01</td>\n",
              "      <td>6.536349e-01</td>\n",
              "      <td>6.505468e-01</td>\n",
              "      <td>6.456475e-01</td>\n",
              "      <td>9.199005e-03</td>\n",
              "      <td>6</td>\n",
              "    </tr>\n",
              "    <tr>\n",
              "      <th>41</th>\n",
              "      <td>0.100061</td>\n",
              "      <td>0.034201</td>\n",
              "      <td>0.002993</td>\n",
              "      <td>8.137124e-04</td>\n",
              "      <td>1</td>\n",
              "      <td>0.0001</td>\n",
              "      <td>l2</td>\n",
              "      <td>{'alpha': 1, 'eta0': 0.0001, 'penalty': 'l2'}</td>\n",
              "      <td>4.044595e-01</td>\n",
              "      <td>4.040922e-01</td>\n",
              "      <td>4.198205e-01</td>\n",
              "      <td>4.094574e-01</td>\n",
              "      <td>7.329366e-03</td>\n",
              "      <td>28</td>\n",
              "    </tr>\n",
              "    <tr>\n",
              "      <th>42</th>\n",
              "      <td>0.228918</td>\n",
              "      <td>0.027783</td>\n",
              "      <td>0.002662</td>\n",
              "      <td>4.663131e-04</td>\n",
              "      <td>1</td>\n",
              "      <td>0.001</td>\n",
              "      <td>l1</td>\n",
              "      <td>{'alpha': 1, 'eta0': 0.001, 'penalty': 'l1'}</td>\n",
              "      <td>6.335408e-01</td>\n",
              "      <td>6.562875e-01</td>\n",
              "      <td>6.524924e-01</td>\n",
              "      <td>6.474403e-01</td>\n",
              "      <td>9.949770e-03</td>\n",
              "      <td>1</td>\n",
              "    </tr>\n",
              "    <tr>\n",
              "      <th>43</th>\n",
              "      <td>0.061680</td>\n",
              "      <td>0.014549</td>\n",
              "      <td>0.004992</td>\n",
              "      <td>1.401804e-03</td>\n",
              "      <td>1</td>\n",
              "      <td>0.001</td>\n",
              "      <td>l2</td>\n",
              "      <td>{'alpha': 1, 'eta0': 0.001, 'penalty': 'l2'}</td>\n",
              "      <td>3.871537e-01</td>\n",
              "      <td>3.976753e-01</td>\n",
              "      <td>4.165336e-01</td>\n",
              "      <td>4.004542e-01</td>\n",
              "      <td>1.215420e-02</td>\n",
              "      <td>29</td>\n",
              "    </tr>\n",
              "    <tr>\n",
              "      <th>44</th>\n",
              "      <td>0.083773</td>\n",
              "      <td>0.011401</td>\n",
              "      <td>0.004659</td>\n",
              "      <td>2.486259e-03</td>\n",
              "      <td>1</td>\n",
              "      <td>0.01</td>\n",
              "      <td>l1</td>\n",
              "      <td>{'alpha': 1, 'eta0': 0.01, 'penalty': 'l1'}</td>\n",
              "      <td>6.147665e-01</td>\n",
              "      <td>6.463690e-01</td>\n",
              "      <td>5.925499e-01</td>\n",
              "      <td>6.178951e-01</td>\n",
              "      <td>2.208267e-02</td>\n",
              "      <td>24</td>\n",
              "    </tr>\n",
              "    <tr>\n",
              "      <th>45</th>\n",
              "      <td>0.054525</td>\n",
              "      <td>0.004978</td>\n",
              "      <td>0.006982</td>\n",
              "      <td>4.953218e-03</td>\n",
              "      <td>1</td>\n",
              "      <td>0.01</td>\n",
              "      <td>l2</td>\n",
              "      <td>{'alpha': 1, 'eta0': 0.01, 'penalty': 'l2'}</td>\n",
              "      <td>3.754161e-01</td>\n",
              "      <td>2.940039e-01</td>\n",
              "      <td>4.045837e-01</td>\n",
              "      <td>3.580012e-01</td>\n",
              "      <td>4.679337e-02</td>\n",
              "      <td>30</td>\n",
              "    </tr>\n",
              "    <tr>\n",
              "      <th>46</th>\n",
              "      <td>0.083442</td>\n",
              "      <td>0.024173</td>\n",
              "      <td>0.002660</td>\n",
              "      <td>4.705279e-04</td>\n",
              "      <td>1</td>\n",
              "      <td>0.1</td>\n",
              "      <td>l1</td>\n",
              "      <td>{'alpha': 1, 'eta0': 0.1, 'penalty': 'l1'}</td>\n",
              "      <td>-1.457125e+10</td>\n",
              "      <td>-7.760422e+10</td>\n",
              "      <td>-5.447759e+12</td>\n",
              "      <td>-1.846645e+12</td>\n",
              "      <td>2.546502e+12</td>\n",
              "      <td>39</td>\n",
              "    </tr>\n",
              "    <tr>\n",
              "      <th>47</th>\n",
              "      <td>0.058177</td>\n",
              "      <td>0.022249</td>\n",
              "      <td>0.002666</td>\n",
              "      <td>4.760237e-04</td>\n",
              "      <td>1</td>\n",
              "      <td>0.1</td>\n",
              "      <td>l2</td>\n",
              "      <td>{'alpha': 1, 'eta0': 0.1, 'penalty': 'l2'}</td>\n",
              "      <td>-6.134266e-02</td>\n",
              "      <td>-2.805770e-01</td>\n",
              "      <td>-8.974177e-01</td>\n",
              "      <td>-4.131125e-01</td>\n",
              "      <td>3.539582e-01</td>\n",
              "      <td>31</td>\n",
              "    </tr>\n",
              "    <tr>\n",
              "      <th>48</th>\n",
              "      <td>0.104386</td>\n",
              "      <td>0.020702</td>\n",
              "      <td>0.002327</td>\n",
              "      <td>4.706403e-04</td>\n",
              "      <td>1</td>\n",
              "      <td>1</td>\n",
              "      <td>l1</td>\n",
              "      <td>{'alpha': 1, 'eta0': 1, 'penalty': 'l1'}</td>\n",
              "      <td>-1.391332e+15</td>\n",
              "      <td>-2.709523e+15</td>\n",
              "      <td>-1.055847e+15</td>\n",
              "      <td>-1.718901e+15</td>\n",
              "      <td>7.137400e+14</td>\n",
              "      <td>44</td>\n",
              "    </tr>\n",
              "    <tr>\n",
              "      <th>49</th>\n",
              "      <td>0.046866</td>\n",
              "      <td>0.004965</td>\n",
              "      <td>0.003172</td>\n",
              "      <td>8.535316e-04</td>\n",
              "      <td>1</td>\n",
              "      <td>1</td>\n",
              "      <td>l2</td>\n",
              "      <td>{'alpha': 1, 'eta0': 1, 'penalty': 'l2'}</td>\n",
              "      <td>-9.787883e+13</td>\n",
              "      <td>-9.684325e+13</td>\n",
              "      <td>-4.868013e+13</td>\n",
              "      <td>-8.113407e+13</td>\n",
              "      <td>2.295229e+13</td>\n",
              "      <td>41</td>\n",
              "    </tr>\n",
              "  </tbody>\n",
              "</table>\n",
              "</div>"
            ],
            "text/plain": [
              "    mean_fit_time  std_fit_time  mean_score_time  std_score_time param_alpha  \\\n",
              "0        0.996324      0.280485         0.051197    1.401669e-02      0.0001   \n",
              "1        0.651242      0.030533         0.069149    4.150057e-02      0.0001   \n",
              "2        0.310858      0.134601         0.080120    6.954872e-02      0.0001   \n",
              "3        0.157905      0.118551         0.001996    3.122788e-06      0.0001   \n",
              "4        0.067486      0.011403         0.004652    3.076928e-03      0.0001   \n",
              "5        0.036570      0.003392         0.003323    2.048158e-03      0.0001   \n",
              "6        0.077461      0.017415         0.003322    4.694599e-04      0.0001   \n",
              "7        0.032579      0.003292         0.002662    4.718199e-04      0.0001   \n",
              "8        0.048203      0.007299         0.002662    4.711633e-04      0.0001   \n",
              "9        0.051530      0.010935         0.002660    4.801392e-04      0.0001   \n",
              "10       0.683721      0.060087         0.008879    8.482688e-03       0.001   \n",
              "11       0.624283      0.210348         0.001999    8.144199e-04       0.001   \n",
              "12       0.230786      0.133039         0.007654    5.991921e-03       0.001   \n",
              "13       0.142460      0.021635         0.002659    1.245091e-03       0.001   \n",
              "14       0.066176      0.009230         0.002988    8.139365e-04       0.001   \n",
              "15       0.056851      0.005637         0.002654    4.683772e-04       0.001   \n",
              "16       0.050864      0.021220         0.003993    2.151190e-03       0.001   \n",
              "17       0.045882      0.005877         0.002655    4.678470e-04       0.001   \n",
              "18       0.109040      0.024569         0.002664    4.732023e-04       0.001   \n",
              "19       0.039559      0.007116         0.002328    4.696291e-04       0.001   \n",
              "20       0.598400      0.078913         0.002660    9.405502e-04        0.01   \n",
              "21       0.286562      0.058051         0.012965    1.412873e-02        0.01   \n",
              "22       0.157244      0.047667         0.002993    1.410065e-03        0.01   \n",
              "23       0.113363      0.029274         0.001995    8.139070e-04        0.01   \n",
              "24       0.068150      0.016089         0.002332    4.666011e-04        0.01   \n",
              "25       0.052525      0.016396         0.002658    9.386949e-04        0.01   \n",
              "26       0.067817      0.026247         0.001994    8.920806e-07        0.01   \n",
              "27       0.030587      0.005421         0.002990    8.144922e-04        0.01   \n",
              "28       0.061836      0.002934         0.007312    4.703140e-03        0.01   \n",
              "29       0.044876      0.009870         0.001662    4.702471e-04        0.01   \n",
              "30       0.893805      0.269838         0.006320    2.051059e-03         0.1   \n",
              "31       0.271953      0.016312         0.015953    1.253353e-02         0.1   \n",
              "32       0.396467      0.030258         0.005320    3.295434e-03         0.1   \n",
              "33       0.105896      0.015495         0.024599    1.893078e-02         0.1   \n",
              "34       0.164876      0.082942         0.016620    1.856969e-02         0.1   \n",
              "35       0.126999      0.022822         0.009298    5.728981e-03         0.1   \n",
              "36       0.097737      0.029450         0.004657    2.050878e-03         0.1   \n",
              "37       0.049185      0.015122         0.002662    4.651892e-04         0.1   \n",
              "38       0.092756      0.009060         0.003991    2.160714e-03         0.1   \n",
              "39       0.052518      0.007393         0.002657    9.402681e-04         0.1   \n",
              "40       0.640818      0.085897         0.002991    8.182364e-04           1   \n",
              "41       0.100061      0.034201         0.002993    8.137124e-04           1   \n",
              "42       0.228918      0.027783         0.002662    4.663131e-04           1   \n",
              "43       0.061680      0.014549         0.004992    1.401804e-03           1   \n",
              "44       0.083773      0.011401         0.004659    2.486259e-03           1   \n",
              "45       0.054525      0.004978         0.006982    4.953218e-03           1   \n",
              "46       0.083442      0.024173         0.002660    4.705279e-04           1   \n",
              "47       0.058177      0.022249         0.002666    4.760237e-04           1   \n",
              "48       0.104386      0.020702         0.002327    4.706403e-04           1   \n",
              "49       0.046866      0.004965         0.003172    8.535316e-04           1   \n",
              "\n",
              "   param_eta0 param_penalty  \\\n",
              "0      0.0001            l1   \n",
              "1      0.0001            l2   \n",
              "2       0.001            l1   \n",
              "3       0.001            l2   \n",
              "4        0.01            l1   \n",
              "5        0.01            l2   \n",
              "6         0.1            l1   \n",
              "7         0.1            l2   \n",
              "8           1            l1   \n",
              "9           1            l2   \n",
              "10     0.0001            l1   \n",
              "11     0.0001            l2   \n",
              "12      0.001            l1   \n",
              "13      0.001            l2   \n",
              "14       0.01            l1   \n",
              "15       0.01            l2   \n",
              "16        0.1            l1   \n",
              "17        0.1            l2   \n",
              "18          1            l1   \n",
              "19          1            l2   \n",
              "20     0.0001            l1   \n",
              "21     0.0001            l2   \n",
              "22      0.001            l1   \n",
              "23      0.001            l2   \n",
              "24       0.01            l1   \n",
              "25       0.01            l2   \n",
              "26        0.1            l1   \n",
              "27        0.1            l2   \n",
              "28          1            l1   \n",
              "29          1            l2   \n",
              "30     0.0001            l1   \n",
              "31     0.0001            l2   \n",
              "32      0.001            l1   \n",
              "33      0.001            l2   \n",
              "34       0.01            l1   \n",
              "35       0.01            l2   \n",
              "36        0.1            l1   \n",
              "37        0.1            l2   \n",
              "38          1            l1   \n",
              "39          1            l2   \n",
              "40     0.0001            l1   \n",
              "41     0.0001            l2   \n",
              "42      0.001            l1   \n",
              "43      0.001            l2   \n",
              "44       0.01            l1   \n",
              "45       0.01            l2   \n",
              "46        0.1            l1   \n",
              "47        0.1            l2   \n",
              "48          1            l1   \n",
              "49          1            l2   \n",
              "\n",
              "                                               params  split0_test_score  \\\n",
              "0   {'alpha': 0.0001, 'eta0': 0.0001, 'penalty': '...       6.330856e-01   \n",
              "1   {'alpha': 0.0001, 'eta0': 0.0001, 'penalty': '...       6.322140e-01   \n",
              "2   {'alpha': 0.0001, 'eta0': 0.001, 'penalty': 'l1'}       6.319769e-01   \n",
              "3   {'alpha': 0.0001, 'eta0': 0.001, 'penalty': 'l2'}       6.322827e-01   \n",
              "4    {'alpha': 0.0001, 'eta0': 0.01, 'penalty': 'l1'}       6.150898e-01   \n",
              "5    {'alpha': 0.0001, 'eta0': 0.01, 'penalty': 'l2'}       6.236521e-01   \n",
              "6     {'alpha': 0.0001, 'eta0': 0.1, 'penalty': 'l1'}      -8.072141e+11   \n",
              "7     {'alpha': 0.0001, 'eta0': 0.1, 'penalty': 'l2'}      -4.540353e+10   \n",
              "8       {'alpha': 0.0001, 'eta0': 1, 'penalty': 'l1'}      -6.083942e+15   \n",
              "9       {'alpha': 0.0001, 'eta0': 1, 'penalty': 'l2'}      -1.275471e+15   \n",
              "10  {'alpha': 0.001, 'eta0': 0.0001, 'penalty': 'l1'}       6.320584e-01   \n",
              "11  {'alpha': 0.001, 'eta0': 0.0001, 'penalty': 'l2'}       6.327005e-01   \n",
              "12   {'alpha': 0.001, 'eta0': 0.001, 'penalty': 'l1'}       6.318759e-01   \n",
              "13   {'alpha': 0.001, 'eta0': 0.001, 'penalty': 'l2'}       6.296901e-01   \n",
              "14    {'alpha': 0.001, 'eta0': 0.01, 'penalty': 'l1'}       6.206822e-01   \n",
              "15    {'alpha': 0.001, 'eta0': 0.01, 'penalty': 'l2'}       6.265786e-01   \n",
              "16     {'alpha': 0.001, 'eta0': 0.1, 'penalty': 'l1'}      -3.331691e+10   \n",
              "17     {'alpha': 0.001, 'eta0': 0.1, 'penalty': 'l2'}      -2.245094e+10   \n",
              "18       {'alpha': 0.001, 'eta0': 1, 'penalty': 'l1'}      -4.674368e+15   \n",
              "19       {'alpha': 0.001, 'eta0': 1, 'penalty': 'l2'}      -1.357455e+15   \n",
              "20   {'alpha': 0.01, 'eta0': 0.0001, 'penalty': 'l1'}       6.325095e-01   \n",
              "21   {'alpha': 0.01, 'eta0': 0.0001, 'penalty': 'l2'}       6.309310e-01   \n",
              "22    {'alpha': 0.01, 'eta0': 0.001, 'penalty': 'l1'}       6.331217e-01   \n",
              "23    {'alpha': 0.01, 'eta0': 0.001, 'penalty': 'l2'}       6.281387e-01   \n",
              "24     {'alpha': 0.01, 'eta0': 0.01, 'penalty': 'l1'}       5.805646e-01   \n",
              "25     {'alpha': 0.01, 'eta0': 0.01, 'penalty': 'l2'}       6.118354e-01   \n",
              "26      {'alpha': 0.01, 'eta0': 0.1, 'penalty': 'l1'}      -5.926591e+12   \n",
              "27      {'alpha': 0.01, 'eta0': 0.1, 'penalty': 'l2'}      -9.728576e+07   \n",
              "28        {'alpha': 0.01, 'eta0': 1, 'penalty': 'l1'}      -5.546372e+14   \n",
              "29        {'alpha': 0.01, 'eta0': 1, 'penalty': 'l2'}      -2.681519e+14   \n",
              "30    {'alpha': 0.1, 'eta0': 0.0001, 'penalty': 'l1'}       6.311844e-01   \n",
              "31    {'alpha': 0.1, 'eta0': 0.0001, 'penalty': 'l2'}       6.123897e-01   \n",
              "32     {'alpha': 0.1, 'eta0': 0.001, 'penalty': 'l1'}       6.238603e-01   \n",
              "33     {'alpha': 0.1, 'eta0': 0.001, 'penalty': 'l2'}       6.144028e-01   \n",
              "34      {'alpha': 0.1, 'eta0': 0.01, 'penalty': 'l1'}       6.153413e-01   \n",
              "35      {'alpha': 0.1, 'eta0': 0.01, 'penalty': 'l2'}       6.148992e-01   \n",
              "36       {'alpha': 0.1, 'eta0': 0.1, 'penalty': 'l1'}      -4.328573e+10   \n",
              "37       {'alpha': 0.1, 'eta0': 0.1, 'penalty': 'l2'}       5.074631e-01   \n",
              "38         {'alpha': 0.1, 'eta0': 1, 'penalty': 'l1'}      -3.780349e+15   \n",
              "39         {'alpha': 0.1, 'eta0': 1, 'penalty': 'l2'}      -3.651535e+14   \n",
              "40      {'alpha': 1, 'eta0': 0.0001, 'penalty': 'l1'}       6.327609e-01   \n",
              "41      {'alpha': 1, 'eta0': 0.0001, 'penalty': 'l2'}       4.044595e-01   \n",
              "42       {'alpha': 1, 'eta0': 0.001, 'penalty': 'l1'}       6.335408e-01   \n",
              "43       {'alpha': 1, 'eta0': 0.001, 'penalty': 'l2'}       3.871537e-01   \n",
              "44        {'alpha': 1, 'eta0': 0.01, 'penalty': 'l1'}       6.147665e-01   \n",
              "45        {'alpha': 1, 'eta0': 0.01, 'penalty': 'l2'}       3.754161e-01   \n",
              "46         {'alpha': 1, 'eta0': 0.1, 'penalty': 'l1'}      -1.457125e+10   \n",
              "47         {'alpha': 1, 'eta0': 0.1, 'penalty': 'l2'}      -6.134266e-02   \n",
              "48           {'alpha': 1, 'eta0': 1, 'penalty': 'l1'}      -1.391332e+15   \n",
              "49           {'alpha': 1, 'eta0': 1, 'penalty': 'l2'}      -9.787883e+13   \n",
              "\n",
              "    split1_test_score  split2_test_score  mean_test_score  std_test_score  \\\n",
              "0        6.549300e-01       6.480763e-01     6.453640e-01    9.121856e-03   \n",
              "1        6.530904e-01       6.503961e-01     6.452335e-01    9.271636e-03   \n",
              "2        6.526682e-01       6.511194e-01     6.452548e-01    9.410199e-03   \n",
              "3        6.535164e-01       6.520834e-01     6.459608e-01    9.689580e-03   \n",
              "4        6.417169e-01       6.383512e-01     6.317193e-01    1.183887e-02   \n",
              "5        6.440714e-01       6.364469e-01     6.347234e-01    8.424750e-03   \n",
              "6       -2.923101e+11      -1.329901e+12    -8.098086e+11    4.235989e+11   \n",
              "7       -5.667662e+10      -5.819514e+11    -2.280105e+11    2.503163e+11   \n",
              "8       -3.759931e+15      -1.760112e+15    -3.867995e+15    1.766850e+15   \n",
              "9       -5.805292e+14      -3.623738e+15    -1.826579e+15    1.302068e+15   \n",
              "10       6.540940e-01       6.488858e-01     6.450127e-01    9.403638e-03   \n",
              "11       6.528711e-01       6.510348e-01     6.455355e-01    9.106621e-03   \n",
              "12       6.545041e-01       6.516700e-01     6.460167e-01    1.006576e-02   \n",
              "13       6.549660e-01       6.501022e-01     6.449194e-01    1.095028e-02   \n",
              "14       6.521268e-01       6.378613e-01     6.368901e-01    1.285554e-02   \n",
              "15       6.289466e-01       6.123095e-01     6.226116e-01    7.348523e-03   \n",
              "16      -2.869202e+11      -2.796161e+11    -1.999511e+11    1.178659e+11   \n",
              "17      -4.023381e+10      -6.244731e+11    -2.290526e+11    2.796987e+11   \n",
              "18      -6.635726e+16      -7.692148e+15    -2.624126e+16    2.839304e+16   \n",
              "19      -1.442591e+15      -4.961033e+15    -2.587026e+15    1.679036e+15   \n",
              "20       6.544845e-01       6.506670e-01     6.458870e-01    9.586841e-03   \n",
              "21       6.511949e-01       6.469387e-01     6.430216e-01    8.724078e-03   \n",
              "22       6.555168e-01       6.486528e-01     6.457638e-01    9.368175e-03   \n",
              "23       6.526887e-01       6.423396e-01     6.410557e-01    1.006351e-02   \n",
              "24       4.994719e-01       6.179332e-01     5.659899e-01    4.944751e-02   \n",
              "25       6.145238e-01       6.133782e-01     6.132458e-01    1.101515e-03   \n",
              "26      -1.037504e+09      -3.855905e+11    -2.104406e+12    2.707249e+12   \n",
              "27      -2.011189e+10      -1.897284e+09    -7.368818e+09    9.040624e+09   \n",
              "28      -1.147320e+15      -3.403157e+15    -1.701704e+15    1.227198e+15   \n",
              "29      -6.193409e+15      -2.251068e+16    -9.657414e+15    9.405035e+15   \n",
              "30       6.540599e-01       6.506885e-01     6.453109e-01    1.008331e-02   \n",
              "31       6.265412e-01       6.298514e-01     6.229274e-01    7.572879e-03   \n",
              "32       6.566655e-01       6.484285e-01     6.429848e-01    1.393488e-02   \n",
              "33       6.265323e-01       6.297004e-01     6.235451e-01    6.592742e-03   \n",
              "34       6.415858e-01       6.369159e-01     6.312810e-01    1.143118e-02   \n",
              "35       6.316274e-01       5.974693e-01     6.146653e-01    1.394596e-02   \n",
              "36      -5.167045e+12      -1.748558e+11    -1.795062e+12    2.384957e+12   \n",
              "37      -8.698654e+06      -4.902109e+01    -2.899568e+06    4.100574e+06   \n",
              "38      -4.897005e+14      -2.105010e+15    -2.125020e+15    1.343476e+15   \n",
              "39      -5.020953e+14      -6.000164e+14    -4.890884e+14    9.632248e+13   \n",
              "40       6.536349e-01       6.505468e-01     6.456475e-01    9.199005e-03   \n",
              "41       4.040922e-01       4.198205e-01     4.094574e-01    7.329366e-03   \n",
              "42       6.562875e-01       6.524924e-01     6.474403e-01    9.949770e-03   \n",
              "43       3.976753e-01       4.165336e-01     4.004542e-01    1.215420e-02   \n",
              "44       6.463690e-01       5.925499e-01     6.178951e-01    2.208267e-02   \n",
              "45       2.940039e-01       4.045837e-01     3.580012e-01    4.679337e-02   \n",
              "46      -7.760422e+10      -5.447759e+12    -1.846645e+12    2.546502e+12   \n",
              "47      -2.805770e-01      -8.974177e-01    -4.131125e-01    3.539582e-01   \n",
              "48      -2.709523e+15      -1.055847e+15    -1.718901e+15    7.137400e+14   \n",
              "49      -9.684325e+13      -4.868013e+13    -8.113407e+13    2.295229e+13   \n",
              "\n",
              "    rank_test_score  \n",
              "0                 8  \n",
              "1                11  \n",
              "2                10  \n",
              "3                 3  \n",
              "4                19  \n",
              "5                18  \n",
              "6                37  \n",
              "7                35  \n",
              "8                48  \n",
              "9                45  \n",
              "10               12  \n",
              "11                7  \n",
              "12                2  \n",
              "13               13  \n",
              "14               17  \n",
              "15               23  \n",
              "16               34  \n",
              "17               36  \n",
              "18               50  \n",
              "19               47  \n",
              "20                4  \n",
              "21               14  \n",
              "22                5  \n",
              "23               16  \n",
              "24               27  \n",
              "25               26  \n",
              "26               40  \n",
              "27               33  \n",
              "28               43  \n",
              "29               49  \n",
              "30                9  \n",
              "31               22  \n",
              "32               15  \n",
              "33               21  \n",
              "34               20  \n",
              "35               25  \n",
              "36               38  \n",
              "37               32  \n",
              "38               46  \n",
              "39               42  \n",
              "40                6  \n",
              "41               28  \n",
              "42                1  \n",
              "43               29  \n",
              "44               24  \n",
              "45               30  \n",
              "46               39  \n",
              "47               31  \n",
              "48               44  \n",
              "49               41  "
            ]
          },
          "execution_count": 195,
          "metadata": {},
          "output_type": "execute_result"
        }
      ],
      "source": [
        "pd.DataFrame(regressor.cv_results_)"
      ]
    },
    {
      "cell_type": "code",
      "execution_count": null,
      "metadata": {
        "id": "udfuXk9I7rvs",
        "outputId": "fe1683db-9c88-49d4-f16d-df105743ef91"
      },
      "outputs": [
        {
          "data": {
            "text/plain": [
              "0.6474402517602974"
            ]
          },
          "execution_count": 196,
          "metadata": {},
          "output_type": "execute_result"
        }
      ],
      "source": [
        "regressor.best_score_"
      ]
    },
    {
      "cell_type": "code",
      "execution_count": null,
      "metadata": {
        "id": "jCTp4cp97rvt",
        "outputId": "f9917529-91a4-46f1-bcd2-a531bee1b5ac"
      },
      "outputs": [
        {
          "data": {
            "text/plain": [
              "{'alpha': 1, 'eta0': 0.001, 'penalty': 'l1'}"
            ]
          },
          "execution_count": 197,
          "metadata": {},
          "output_type": "execute_result"
        }
      ],
      "source": [
        "regressor.best_params_"
      ]
    },
    {
      "cell_type": "code",
      "execution_count": null,
      "metadata": {
        "scrolled": true,
        "id": "yAxB_k-J7rvt",
        "outputId": "3d3dc68b-82fe-4ccb-8d3f-bb3481517b6d"
      },
      "outputs": [
        {
          "data": {
            "text/html": [
              "<style>#sk-container-id-21 {color: black;}#sk-container-id-21 pre{padding: 0;}#sk-container-id-21 div.sk-toggleable {background-color: white;}#sk-container-id-21 label.sk-toggleable__label {cursor: pointer;display: block;width: 100%;margin-bottom: 0;padding: 0.3em;box-sizing: border-box;text-align: center;}#sk-container-id-21 label.sk-toggleable__label-arrow:before {content: \"▸\";float: left;margin-right: 0.25em;color: #696969;}#sk-container-id-21 label.sk-toggleable__label-arrow:hover:before {color: black;}#sk-container-id-21 div.sk-estimator:hover label.sk-toggleable__label-arrow:before {color: black;}#sk-container-id-21 div.sk-toggleable__content {max-height: 0;max-width: 0;overflow: hidden;text-align: left;background-color: #f0f8ff;}#sk-container-id-21 div.sk-toggleable__content pre {margin: 0.2em;color: black;border-radius: 0.25em;background-color: #f0f8ff;}#sk-container-id-21 input.sk-toggleable__control:checked~div.sk-toggleable__content {max-height: 200px;max-width: 100%;overflow: auto;}#sk-container-id-21 input.sk-toggleable__control:checked~label.sk-toggleable__label-arrow:before {content: \"▾\";}#sk-container-id-21 div.sk-estimator input.sk-toggleable__control:checked~label.sk-toggleable__label {background-color: #d4ebff;}#sk-container-id-21 div.sk-label input.sk-toggleable__control:checked~label.sk-toggleable__label {background-color: #d4ebff;}#sk-container-id-21 input.sk-hidden--visually {border: 0;clip: rect(1px 1px 1px 1px);clip: rect(1px, 1px, 1px, 1px);height: 1px;margin: -1px;overflow: hidden;padding: 0;position: absolute;width: 1px;}#sk-container-id-21 div.sk-estimator {font-family: monospace;background-color: #f0f8ff;border: 1px dotted black;border-radius: 0.25em;box-sizing: border-box;margin-bottom: 0.5em;}#sk-container-id-21 div.sk-estimator:hover {background-color: #d4ebff;}#sk-container-id-21 div.sk-parallel-item::after {content: \"\";width: 100%;border-bottom: 1px solid gray;flex-grow: 1;}#sk-container-id-21 div.sk-label:hover label.sk-toggleable__label {background-color: #d4ebff;}#sk-container-id-21 div.sk-serial::before {content: \"\";position: absolute;border-left: 1px solid gray;box-sizing: border-box;top: 0;bottom: 0;left: 50%;z-index: 0;}#sk-container-id-21 div.sk-serial {display: flex;flex-direction: column;align-items: center;background-color: white;padding-right: 0.2em;padding-left: 0.2em;position: relative;}#sk-container-id-21 div.sk-item {position: relative;z-index: 1;}#sk-container-id-21 div.sk-parallel {display: flex;align-items: stretch;justify-content: center;background-color: white;position: relative;}#sk-container-id-21 div.sk-item::before, #sk-container-id-21 div.sk-parallel-item::before {content: \"\";position: absolute;border-left: 1px solid gray;box-sizing: border-box;top: 0;bottom: 0;left: 50%;z-index: -1;}#sk-container-id-21 div.sk-parallel-item {display: flex;flex-direction: column;z-index: 1;position: relative;background-color: white;}#sk-container-id-21 div.sk-parallel-item:first-child::after {align-self: flex-end;width: 50%;}#sk-container-id-21 div.sk-parallel-item:last-child::after {align-self: flex-start;width: 50%;}#sk-container-id-21 div.sk-parallel-item:only-child::after {width: 0;}#sk-container-id-21 div.sk-dashed-wrapped {border: 1px dashed gray;margin: 0 0.4em 0.5em 0.4em;box-sizing: border-box;padding-bottom: 0.4em;background-color: white;}#sk-container-id-21 div.sk-label label {font-family: monospace;font-weight: bold;display: inline-block;line-height: 1.2em;}#sk-container-id-21 div.sk-label-container {text-align: center;}#sk-container-id-21 div.sk-container {/* jupyter's `normalize.less` sets `[hidden] { display: none; }` but bootstrap.min.css set `[hidden] { display: none !important; }` so we also need the `!important` here to be able to override the default hidden behavior on the sphinx rendered scikit-learn.org. See: https://github.com/scikit-learn/scikit-learn/issues/21755 */display: inline-block !important;position: relative;}#sk-container-id-21 div.sk-text-repr-fallback {display: none;}</style><div id=\"sk-container-id-21\" class=\"sk-top-container\"><div class=\"sk-text-repr-fallback\"><pre>SGDRegressor(alpha=1, eta0=0.001, learning_rate=&#x27;constant&#x27;, penalty=&#x27;l1&#x27;)</pre><b>In a Jupyter environment, please rerun this cell to show the HTML representation or trust the notebook. <br />On GitHub, the HTML representation is unable to render, please try loading this page with nbviewer.org.</b></div><div class=\"sk-container\" hidden><div class=\"sk-item\"><div class=\"sk-estimator sk-toggleable\"><input class=\"sk-toggleable__control sk-hidden--visually\" id=\"sk-estimator-id-36\" type=\"checkbox\" checked><label for=\"sk-estimator-id-36\" class=\"sk-toggleable__label sk-toggleable__label-arrow\">SGDRegressor</label><div class=\"sk-toggleable__content\"><pre>SGDRegressor(alpha=1, eta0=0.001, learning_rate=&#x27;constant&#x27;, penalty=&#x27;l1&#x27;)</pre></div></div></div></div></div>"
            ],
            "text/plain": [
              "SGDRegressor(alpha=1, eta0=0.001, learning_rate='constant', penalty='l1')"
            ]
          },
          "execution_count": 198,
          "metadata": {},
          "output_type": "execute_result"
        }
      ],
      "source": [
        "best_model=regressor.best_estimator_\n",
        "best_model"
      ]
    },
    {
      "cell_type": "markdown",
      "metadata": {
        "id": "NL8fB9mp7rvt"
      },
      "source": [
        "------------------\n",
        "\n",
        "# `07` Generalization Error\n",
        "\n",
        "Now that we have tuned our solution, to an *extent*, we need to test for a final time on the held out test set."
      ]
    },
    {
      "cell_type": "code",
      "execution_count": null,
      "metadata": {
        "id": "6BgjNp8s7rvt",
        "outputId": "82c90bde-0606-42b9-e1c2-0be443324317"
      },
      "outputs": [
        {
          "data": {
            "text/html": [
              "<div>\n",
              "<style scoped>\n",
              "    .dataframe tbody tr th:only-of-type {\n",
              "        vertical-align: middle;\n",
              "    }\n",
              "\n",
              "    .dataframe tbody tr th {\n",
              "        vertical-align: top;\n",
              "    }\n",
              "\n",
              "    .dataframe thead th {\n",
              "        text-align: right;\n",
              "    }\n",
              "</style>\n",
              "<table border=\"1\" class=\"dataframe\">\n",
              "  <thead>\n",
              "    <tr style=\"text-align: right;\">\n",
              "      <th></th>\n",
              "      <th>longitude</th>\n",
              "      <th>latitude</th>\n",
              "      <th>housing_median_age</th>\n",
              "      <th>total_rooms</th>\n",
              "      <th>total_bedrooms</th>\n",
              "      <th>population</th>\n",
              "      <th>households</th>\n",
              "      <th>median_income</th>\n",
              "      <th>ocean_proximity_&lt;1H OCEAN</th>\n",
              "      <th>ocean_proximity_INLAND</th>\n",
              "      <th>ocean_proximity_ISLAND</th>\n",
              "      <th>ocean_proximity_NEAR BAY</th>\n",
              "      <th>ocean_proximity_NEAR OCEAN</th>\n",
              "    </tr>\n",
              "  </thead>\n",
              "  <tbody>\n",
              "    <tr>\n",
              "      <th>1374</th>\n",
              "      <td>-118.09</td>\n",
              "      <td>33.79</td>\n",
              "      <td>36.0</td>\n",
              "      <td>4210.0</td>\n",
              "      <td>657.0</td>\n",
              "      <td>1911.0</td>\n",
              "      <td>631.0</td>\n",
              "      <td>5.8491</td>\n",
              "      <td>1</td>\n",
              "      <td>0</td>\n",
              "      <td>0</td>\n",
              "      <td>0</td>\n",
              "      <td>0</td>\n",
              "    </tr>\n",
              "    <tr>\n",
              "      <th>6548</th>\n",
              "      <td>-118.92</td>\n",
              "      <td>34.19</td>\n",
              "      <td>16.0</td>\n",
              "      <td>3631.0</td>\n",
              "      <td>974.0</td>\n",
              "      <td>2585.0</td>\n",
              "      <td>923.0</td>\n",
              "      <td>3.0691</td>\n",
              "      <td>1</td>\n",
              "      <td>0</td>\n",
              "      <td>0</td>\n",
              "      <td>0</td>\n",
              "      <td>0</td>\n",
              "    </tr>\n",
              "    <tr>\n",
              "      <th>18421</th>\n",
              "      <td>-122.40</td>\n",
              "      <td>37.73</td>\n",
              "      <td>48.0</td>\n",
              "      <td>1489.0</td>\n",
              "      <td>326.0</td>\n",
              "      <td>1115.0</td>\n",
              "      <td>356.0</td>\n",
              "      <td>2.6364</td>\n",
              "      <td>0</td>\n",
              "      <td>0</td>\n",
              "      <td>0</td>\n",
              "      <td>1</td>\n",
              "      <td>0</td>\n",
              "    </tr>\n",
              "    <tr>\n",
              "      <th>20437</th>\n",
              "      <td>-122.16</td>\n",
              "      <td>37.70</td>\n",
              "      <td>36.0</td>\n",
              "      <td>1097.0</td>\n",
              "      <td>208.0</td>\n",
              "      <td>568.0</td>\n",
              "      <td>225.0</td>\n",
              "      <td>2.9917</td>\n",
              "      <td>0</td>\n",
              "      <td>0</td>\n",
              "      <td>0</td>\n",
              "      <td>1</td>\n",
              "      <td>0</td>\n",
              "    </tr>\n",
              "    <tr>\n",
              "      <th>19174</th>\n",
              "      <td>-117.05</td>\n",
              "      <td>32.75</td>\n",
              "      <td>43.0</td>\n",
              "      <td>1718.0</td>\n",
              "      <td>344.0</td>\n",
              "      <td>826.0</td>\n",
              "      <td>336.0</td>\n",
              "      <td>2.7014</td>\n",
              "      <td>0</td>\n",
              "      <td>0</td>\n",
              "      <td>0</td>\n",
              "      <td>0</td>\n",
              "      <td>1</td>\n",
              "    </tr>\n",
              "  </tbody>\n",
              "</table>\n",
              "</div>"
            ],
            "text/plain": [
              "       longitude  latitude  housing_median_age  total_rooms  total_bedrooms  \\\n",
              "1374     -118.09     33.79                36.0       4210.0           657.0   \n",
              "6548     -118.92     34.19                16.0       3631.0           974.0   \n",
              "18421    -122.40     37.73                48.0       1489.0           326.0   \n",
              "20437    -122.16     37.70                36.0       1097.0           208.0   \n",
              "19174    -117.05     32.75                43.0       1718.0           344.0   \n",
              "\n",
              "       population  households  median_income  ocean_proximity_<1H OCEAN  \\\n",
              "1374       1911.0       631.0         5.8491                          1   \n",
              "6548       2585.0       923.0         3.0691                          1   \n",
              "18421      1115.0       356.0         2.6364                          0   \n",
              "20437       568.0       225.0         2.9917                          0   \n",
              "19174       826.0       336.0         2.7014                          0   \n",
              "\n",
              "       ocean_proximity_INLAND  ocean_proximity_ISLAND  \\\n",
              "1374                        0                       0   \n",
              "6548                        0                       0   \n",
              "18421                       0                       0   \n",
              "20437                       0                       0   \n",
              "19174                       0                       0   \n",
              "\n",
              "       ocean_proximity_NEAR BAY  ocean_proximity_NEAR OCEAN  \n",
              "1374                          0                           0  \n",
              "6548                          0                           0  \n",
              "18421                         1                           0  \n",
              "20437                         1                           0  \n",
              "19174                         0                           1  "
            ]
          },
          "execution_count": 199,
          "metadata": {},
          "output_type": "execute_result"
        }
      ],
      "source": [
        "X_test_cleaned=clean(X_test)\n",
        "X_test_cleaned.head()"
      ]
    },
    {
      "cell_type": "code",
      "execution_count": null,
      "metadata": {
        "id": "Rqq3evYo7rvt",
        "outputId": "97d77dd8-e7d9-41d6-90e9-85627ebab4de"
      },
      "outputs": [
        {
          "data": {
            "text/html": [
              "<div>\n",
              "<style scoped>\n",
              "    .dataframe tbody tr th:only-of-type {\n",
              "        vertical-align: middle;\n",
              "    }\n",
              "\n",
              "    .dataframe tbody tr th {\n",
              "        vertical-align: top;\n",
              "    }\n",
              "\n",
              "    .dataframe thead th {\n",
              "        text-align: right;\n",
              "    }\n",
              "</style>\n",
              "<table border=\"1\" class=\"dataframe\">\n",
              "  <thead>\n",
              "    <tr style=\"text-align: right;\">\n",
              "      <th></th>\n",
              "      <th>longitude</th>\n",
              "      <th>latitude</th>\n",
              "      <th>housing_median_age</th>\n",
              "      <th>total_rooms</th>\n",
              "      <th>total_bedrooms</th>\n",
              "      <th>population</th>\n",
              "      <th>households</th>\n",
              "      <th>median_income</th>\n",
              "      <th>ocean_proximity_&lt;1H OCEAN</th>\n",
              "      <th>ocean_proximity_INLAND</th>\n",
              "      <th>ocean_proximity_ISLAND</th>\n",
              "      <th>ocean_proximity_NEAR BAY</th>\n",
              "      <th>ocean_proximity_NEAR OCEAN</th>\n",
              "    </tr>\n",
              "  </thead>\n",
              "  <tbody>\n",
              "    <tr>\n",
              "      <th>0</th>\n",
              "      <td>0.108108</td>\n",
              "      <td>-0.124011</td>\n",
              "      <td>0.368421</td>\n",
              "      <td>1.235242</td>\n",
              "      <td>0.643478</td>\n",
              "      <td>0.797645</td>\n",
              "      <td>0.684211</td>\n",
              "      <td>1.056660</td>\n",
              "      <td>1.0</td>\n",
              "      <td>0.0</td>\n",
              "      <td>0.0</td>\n",
              "      <td>0.0</td>\n",
              "      <td>0.0</td>\n",
              "    </tr>\n",
              "    <tr>\n",
              "      <th>1</th>\n",
              "      <td>-0.110745</td>\n",
              "      <td>-0.018470</td>\n",
              "      <td>-0.684211</td>\n",
              "      <td>0.891724</td>\n",
              "      <td>1.562319</td>\n",
              "      <td>1.519272</td>\n",
              "      <td>1.588235</td>\n",
              "      <td>-0.215157</td>\n",
              "      <td>1.0</td>\n",
              "      <td>0.0</td>\n",
              "      <td>0.0</td>\n",
              "      <td>0.0</td>\n",
              "      <td>0.0</td>\n",
              "    </tr>\n",
              "    <tr>\n",
              "      <th>2</th>\n",
              "      <td>-1.028345</td>\n",
              "      <td>0.915567</td>\n",
              "      <td>1.000000</td>\n",
              "      <td>-0.379116</td>\n",
              "      <td>-0.315942</td>\n",
              "      <td>-0.054604</td>\n",
              "      <td>-0.167183</td>\n",
              "      <td>-0.413112</td>\n",
              "      <td>0.0</td>\n",
              "      <td>0.0</td>\n",
              "      <td>0.0</td>\n",
              "      <td>1.0</td>\n",
              "      <td>0.0</td>\n",
              "    </tr>\n",
              "    <tr>\n",
              "      <th>3</th>\n",
              "      <td>-0.965063</td>\n",
              "      <td>0.907652</td>\n",
              "      <td>0.368421</td>\n",
              "      <td>-0.611688</td>\n",
              "      <td>-0.657971</td>\n",
              "      <td>-0.640257</td>\n",
              "      <td>-0.572755</td>\n",
              "      <td>-0.250566</td>\n",
              "      <td>0.0</td>\n",
              "      <td>0.0</td>\n",
              "      <td>0.0</td>\n",
              "      <td>1.0</td>\n",
              "      <td>0.0</td>\n",
              "    </tr>\n",
              "    <tr>\n",
              "      <th>4</th>\n",
              "      <td>0.382334</td>\n",
              "      <td>-0.398417</td>\n",
              "      <td>0.736842</td>\n",
              "      <td>-0.243251</td>\n",
              "      <td>-0.263768</td>\n",
              "      <td>-0.364026</td>\n",
              "      <td>-0.229102</td>\n",
              "      <td>-0.383375</td>\n",
              "      <td>0.0</td>\n",
              "      <td>0.0</td>\n",
              "      <td>0.0</td>\n",
              "      <td>0.0</td>\n",
              "      <td>1.0</td>\n",
              "    </tr>\n",
              "  </tbody>\n",
              "</table>\n",
              "</div>"
            ],
            "text/plain": [
              "   longitude  latitude  housing_median_age  total_rooms  total_bedrooms  \\\n",
              "0   0.108108 -0.124011            0.368421     1.235242        0.643478   \n",
              "1  -0.110745 -0.018470           -0.684211     0.891724        1.562319   \n",
              "2  -1.028345  0.915567            1.000000    -0.379116       -0.315942   \n",
              "3  -0.965063  0.907652            0.368421    -0.611688       -0.657971   \n",
              "4   0.382334 -0.398417            0.736842    -0.243251       -0.263768   \n",
              "\n",
              "   population  households  median_income  ocean_proximity_<1H OCEAN  \\\n",
              "0    0.797645    0.684211       1.056660                        1.0   \n",
              "1    1.519272    1.588235      -0.215157                        1.0   \n",
              "2   -0.054604   -0.167183      -0.413112                        0.0   \n",
              "3   -0.640257   -0.572755      -0.250566                        0.0   \n",
              "4   -0.364026   -0.229102      -0.383375                        0.0   \n",
              "\n",
              "   ocean_proximity_INLAND  ocean_proximity_ISLAND  ocean_proximity_NEAR BAY  \\\n",
              "0                     0.0                     0.0                       0.0   \n",
              "1                     0.0                     0.0                       0.0   \n",
              "2                     0.0                     0.0                       1.0   \n",
              "3                     0.0                     0.0                       1.0   \n",
              "4                     0.0                     0.0                       0.0   \n",
              "\n",
              "   ocean_proximity_NEAR OCEAN  \n",
              "0                         0.0  \n",
              "1                         0.0  \n",
              "2                         0.0  \n",
              "3                         0.0  \n",
              "4                         1.0  "
            ]
          },
          "execution_count": 200,
          "metadata": {},
          "output_type": "execute_result"
        }
      ],
      "source": [
        "scaled_data_test=scaler.transform(X_test_cleaned)\n",
        "scaled_data_test_df = pd.DataFrame(scaled_data_test,columns=X_test_cleaned.columns)\n",
        "scaled_data_test_df.head()"
      ]
    },
    {
      "cell_type": "code",
      "execution_count": null,
      "metadata": {
        "id": "ZxU2WqBtLJa0",
        "outputId": "5b043b64-098a-4b2e-84dd-b253e509b7f2"
      },
      "outputs": [
        {
          "data": {
            "text/plain": [
              "array([299864.94108983, 202640.57451949, 198044.92284014, ...,\n",
              "       162063.23099486, 144004.40377835, 280457.40608802])"
            ]
          },
          "execution_count": 201,
          "metadata": {},
          "output_type": "execute_result"
        }
      ],
      "source": [
        "best_pred=best_model.predict(scaled_data_test)\n",
        "best_pred"
      ]
    },
    {
      "cell_type": "code",
      "execution_count": null,
      "metadata": {
        "id": "rBoybvQb7rvu",
        "outputId": "f893cb54-ec36-4fb5-cee8-770d52ac9c9d"
      },
      "outputs": [
        {
          "data": {
            "text/plain": [
              "5106362783.415539"
            ]
          },
          "execution_count": 202,
          "metadata": {},
          "output_type": "execute_result"
        }
      ],
      "source": [
        "mean_squared_error(y_test, best_pred)"
      ]
    },
    {
      "cell_type": "code",
      "execution_count": null,
      "metadata": {
        "id": "ENdAi5Jv7rvu",
        "outputId": "a2174ae2-4a6e-4632-ac96-0c7b1bcdf138"
      },
      "outputs": [
        {
          "data": {
            "text/plain": [
              "50787.209793620874"
            ]
          },
          "execution_count": 203,
          "metadata": {},
          "output_type": "execute_result"
        }
      ],
      "source": [
        "mean_absolute_error(y_test, best_pred)"
      ]
    },
    {
      "cell_type": "code",
      "execution_count": null,
      "metadata": {
        "id": "LhASlNVw7rvu",
        "outputId": "02cb04aa-d00d-4372-bdb3-9b3c65b73d40"
      },
      "outputs": [
        {
          "data": {
            "text/plain": [
              "0.59"
            ]
          },
          "execution_count": 230,
          "metadata": {},
          "output_type": "execute_result"
        }
      ],
      "source": [
        "round(r2_score(y_test, best_pred),2)"
      ]
    },
    {
      "cell_type": "markdown",
      "metadata": {
        "id": "ZYiEh91O7rvu"
      },
      "source": [
        "#### Visualize actual and prediced"
      ]
    },
    {
      "cell_type": "code",
      "execution_count": null,
      "metadata": {
        "id": "x0zIWuCK7rvv",
        "outputId": "d55fc4f8-5f63-4289-c8f8-8ac637baba4a"
      },
      "outputs": [
        {
          "data": {
            "image/png": "[encoded data removed]",
            "text/plain": [
              "<Figure size 640x480 with 1 Axes>"
            ]
          },
          "metadata": {},
          "output_type": "display_data"
        }
      ],
      "source": [
        "plt.scatter(y_test, best_pred)\n",
        "plt.xlabel('actual data')\n",
        "plt.ylabel('predicted data')\n",
        "plt.title('actual vs predicted data')\n",
        "plt.plot(y_test, y_test, color='r')\n",
        "plt.show()"
      ]
    },
    {
      "cell_type": "markdown",
      "metadata": {
        "id": "sgLHjma5LJ6_"
      },
      "source": [
        "-----------------------------\n",
        "\n",
        "# `Bonus` Better Flow\n",
        "\n",
        "For the model to be production-ready, we need to integrate it into a pipeline along with the data preparation flow.\n",
        "\n",
        "Hint: Look up `sklearn.pipeline.Pipeline` class."
      ]
    },
    {
      "cell_type": "code",
      "execution_count": null,
      "metadata": {
        "id": "jjy-xdz4MgwE"
      },
      "outputs": [],
      "source": [
        "from sklearn.pipeline import Pipeline, make_pipeline\n",
        "from sklearn.compose import ColumnTransformer\n",
        "from sklearn.impute import SimpleImputer"
      ]
    },
    {
      "cell_type": "code",
      "execution_count": null,
      "metadata": {
        "id": "5BAl6a9R7rvv",
        "outputId": "f4996c6b-2802-4edc-cc55-ad69aa4d92f4"
      },
      "outputs": [
        {
          "data": {
            "text/html": [
              "<div>\n",
              "<style scoped>\n",
              "    .dataframe tbody tr th:only-of-type {\n",
              "        vertical-align: middle;\n",
              "    }\n",
              "\n",
              "    .dataframe tbody tr th {\n",
              "        vertical-align: top;\n",
              "    }\n",
              "\n",
              "    .dataframe thead th {\n",
              "        text-align: right;\n",
              "    }\n",
              "</style>\n",
              "<table border=\"1\" class=\"dataframe\">\n",
              "  <thead>\n",
              "    <tr style=\"text-align: right;\">\n",
              "      <th></th>\n",
              "      <th>longitude</th>\n",
              "      <th>latitude</th>\n",
              "      <th>housing_median_age</th>\n",
              "      <th>total_rooms</th>\n",
              "      <th>total_bedrooms</th>\n",
              "      <th>population</th>\n",
              "      <th>households</th>\n",
              "      <th>median_income</th>\n",
              "    </tr>\n",
              "  </thead>\n",
              "  <tbody>\n",
              "    <tr>\n",
              "      <th>17595</th>\n",
              "      <td>-120.07</td>\n",
              "      <td>36.98</td>\n",
              "      <td>12.0</td>\n",
              "      <td>1790.0</td>\n",
              "      <td>379.0</td>\n",
              "      <td>1399.0</td>\n",
              "      <td>397.0</td>\n",
              "      <td>2.5388</td>\n",
              "    </tr>\n",
              "    <tr>\n",
              "      <th>6073</th>\n",
              "      <td>-118.22</td>\n",
              "      <td>33.86</td>\n",
              "      <td>16.0</td>\n",
              "      <td>8732.0</td>\n",
              "      <td>1489.0</td>\n",
              "      <td>3944.0</td>\n",
              "      <td>1493.0</td>\n",
              "      <td>5.1948</td>\n",
              "    </tr>\n",
              "    <tr>\n",
              "      <th>6251</th>\n",
              "      <td>-120.94</td>\n",
              "      <td>39.32</td>\n",
              "      <td>14.0</td>\n",
              "      <td>3120.0</td>\n",
              "      <td>595.0</td>\n",
              "      <td>1569.0</td>\n",
              "      <td>556.0</td>\n",
              "      <td>3.5385</td>\n",
              "    </tr>\n",
              "    <tr>\n",
              "      <th>3161</th>\n",
              "      <td>-122.11</td>\n",
              "      <td>37.68</td>\n",
              "      <td>37.0</td>\n",
              "      <td>1976.0</td>\n",
              "      <td>481.0</td>\n",
              "      <td>1197.0</td>\n",
              "      <td>465.0</td>\n",
              "      <td>2.5772</td>\n",
              "    </tr>\n",
              "    <tr>\n",
              "      <th>1887</th>\n",
              "      <td>-121.34</td>\n",
              "      <td>38.67</td>\n",
              "      <td>35.0</td>\n",
              "      <td>643.0</td>\n",
              "      <td>117.0</td>\n",
              "      <td>331.0</td>\n",
              "      <td>134.0</td>\n",
              "      <td>3.0417</td>\n",
              "    </tr>\n",
              "    <tr>\n",
              "      <th>...</th>\n",
              "      <td>...</td>\n",
              "      <td>...</td>\n",
              "      <td>...</td>\n",
              "      <td>...</td>\n",
              "      <td>...</td>\n",
              "      <td>...</td>\n",
              "      <td>...</td>\n",
              "      <td>...</td>\n",
              "    </tr>\n",
              "    <tr>\n",
              "      <th>8222</th>\n",
              "      <td>-120.04</td>\n",
              "      <td>36.79</td>\n",
              "      <td>48.0</td>\n",
              "      <td>1341.0</td>\n",
              "      <td>239.0</td>\n",
              "      <td>671.0</td>\n",
              "      <td>208.0</td>\n",
              "      <td>2.7917</td>\n",
              "    </tr>\n",
              "    <tr>\n",
              "      <th>9449</th>\n",
              "      <td>-118.18</td>\n",
              "      <td>36.63</td>\n",
              "      <td>23.0</td>\n",
              "      <td>2311.0</td>\n",
              "      <td>487.0</td>\n",
              "      <td>1019.0</td>\n",
              "      <td>384.0</td>\n",
              "      <td>2.2574</td>\n",
              "    </tr>\n",
              "    <tr>\n",
              "      <th>8471</th>\n",
              "      <td>-119.71</td>\n",
              "      <td>34.43</td>\n",
              "      <td>47.0</td>\n",
              "      <td>1572.0</td>\n",
              "      <td>417.0</td>\n",
              "      <td>790.0</td>\n",
              "      <td>384.0</td>\n",
              "      <td>2.6429</td>\n",
              "    </tr>\n",
              "    <tr>\n",
              "      <th>17048</th>\n",
              "      <td>-117.92</td>\n",
              "      <td>33.62</td>\n",
              "      <td>35.0</td>\n",
              "      <td>1821.0</td>\n",
              "      <td>335.0</td>\n",
              "      <td>727.0</td>\n",
              "      <td>316.0</td>\n",
              "      <td>6.5842</td>\n",
              "    </tr>\n",
              "    <tr>\n",
              "      <th>1318</th>\n",
              "      <td>-118.19</td>\n",
              "      <td>34.65</td>\n",
              "      <td>33.0</td>\n",
              "      <td>1781.0</td>\n",
              "      <td>326.0</td>\n",
              "      <td>913.0</td>\n",
              "      <td>314.0</td>\n",
              "      <td>3.9963</td>\n",
              "    </tr>\n",
              "  </tbody>\n",
              "</table>\n",
              "<p>16512 rows × 8 columns</p>\n",
              "</div>"
            ],
            "text/plain": [
              "       longitude  latitude  housing_median_age  total_rooms  total_bedrooms  \\\n",
              "17595    -120.07     36.98                12.0       1790.0           379.0   \n",
              "6073     -118.22     33.86                16.0       8732.0          1489.0   \n",
              "6251     -120.94     39.32                14.0       3120.0           595.0   \n",
              "3161     -122.11     37.68                37.0       1976.0           481.0   \n",
              "1887     -121.34     38.67                35.0        643.0           117.0   \n",
              "...          ...       ...                 ...          ...             ...   \n",
              "8222     -120.04     36.79                48.0       1341.0           239.0   \n",
              "9449     -118.18     36.63                23.0       2311.0           487.0   \n",
              "8471     -119.71     34.43                47.0       1572.0           417.0   \n",
              "17048    -117.92     33.62                35.0       1821.0           335.0   \n",
              "1318     -118.19     34.65                33.0       1781.0           326.0   \n",
              "\n",
              "       population  households  median_income  \n",
              "17595      1399.0       397.0         2.5388  \n",
              "6073       3944.0      1493.0         5.1948  \n",
              "6251       1569.0       556.0         3.5385  \n",
              "3161       1197.0       465.0         2.5772  \n",
              "1887        331.0       134.0         3.0417  \n",
              "...           ...         ...            ...  \n",
              "8222        671.0       208.0         2.7917  \n",
              "9449       1019.0       384.0         2.2574  \n",
              "8471        790.0       384.0         2.6429  \n",
              "17048       727.0       316.0         6.5842  \n",
              "1318        913.0       314.0         3.9963  \n",
              "\n",
              "[16512 rows x 8 columns]"
            ]
          },
          "execution_count": 206,
          "metadata": {},
          "output_type": "execute_result"
        }
      ],
      "source": [
        "X_train.iloc[:, :8]"
      ]
    },
    {
      "cell_type": "markdown",
      "metadata": {
        "id": "7kwQnp0W7rvv"
      },
      "source": [
        "### make pipeline"
      ]
    },
    {
      "cell_type": "code",
      "execution_count": null,
      "metadata": {
        "id": "DYL6qCoi7rvv"
      },
      "outputs": [],
      "source": [
        "numeric_preprocessor = Pipeline(\n",
        "    steps=[\n",
        "        (\"missing\", SimpleImputer(missing_values=np.nan, strategy=\"median\")),\n",
        "        (\"scaler\", RobustScaler()),\n",
        "    ]\n",
        ")\n",
        "\n",
        "categorical_preprocessor = Pipeline(\n",
        "    steps=[\n",
        "        (\"onehot\", OneHotEncoder(handle_unknown=\"ignore\")),\n",
        "    ]\n",
        ")\n",
        "\n",
        "preprocessor = ColumnTransformer(\n",
        "    [\n",
        "        (\"categorical\", categorical_preprocessor, ['ocean_proximity']),\n",
        "        (\"numerical\", numeric_preprocessor,  X_train.columns[:8]),\n",
        "    ]\n",
        ")\n",
        "\n",
        "\n",
        "pipeline = Pipeline([\n",
        "    ('preprocessor', preprocessor),\n",
        "    ('SGD', SGDRegressor(alpha=0.001, eta0=0.0001, learning_rate='constant', penalty='l1'))])"
      ]
    },
    {
      "cell_type": "code",
      "execution_count": null,
      "metadata": {
        "id": "vV5yvuuE7rvv",
        "outputId": "e396e9d2-a1e5-4e0d-faed-3958e5f1c89c"
      },
      "outputs": [
        {
          "data": {
            "text/html": [
              "<style>#sk-container-id-23 {color: black;}#sk-container-id-23 pre{padding: 0;}#sk-container-id-23 div.sk-toggleable {background-color: white;}#sk-container-id-23 label.sk-toggleable__label {cursor: pointer;display: block;width: 100%;margin-bottom: 0;padding: 0.3em;box-sizing: border-box;text-align: center;}#sk-container-id-23 label.sk-toggleable__label-arrow:before {content: \"▸\";float: left;margin-right: 0.25em;color: #696969;}#sk-container-id-23 label.sk-toggleable__label-arrow:hover:before {color: black;}#sk-container-id-23 div.sk-estimator:hover label.sk-toggleable__label-arrow:before {color: black;}#sk-container-id-23 div.sk-toggleable__content {max-height: 0;max-width: 0;overflow: hidden;text-align: left;background-color: #f0f8ff;}#sk-container-id-23 div.sk-toggleable__content pre {margin: 0.2em;color: black;border-radius: 0.25em;background-color: #f0f8ff;}#sk-container-id-23 input.sk-toggleable__control:checked~div.sk-toggleable__content {max-height: 200px;max-width: 100%;overflow: auto;}#sk-container-id-23 input.sk-toggleable__control:checked~label.sk-toggleable__label-arrow:before {content: \"▾\";}#sk-container-id-23 div.sk-estimator input.sk-toggleable__control:checked~label.sk-toggleable__label {background-color: #d4ebff;}#sk-container-id-23 div.sk-label input.sk-toggleable__control:checked~label.sk-toggleable__label {background-color: #d4ebff;}#sk-container-id-23 input.sk-hidden--visually {border: 0;clip: rect(1px 1px 1px 1px);clip: rect(1px, 1px, 1px, 1px);height: 1px;margin: -1px;overflow: hidden;padding: 0;position: absolute;width: 1px;}#sk-container-id-23 div.sk-estimator {font-family: monospace;background-color: #f0f8ff;border: 1px dotted black;border-radius: 0.25em;box-sizing: border-box;margin-bottom: 0.5em;}#sk-container-id-23 div.sk-estimator:hover {background-color: #d4ebff;}#sk-container-id-23 div.sk-parallel-item::after {content: \"\";width: 100%;border-bottom: 1px solid gray;flex-grow: 1;}#sk-container-id-23 div.sk-label:hover label.sk-toggleable__label {background-color: #d4ebff;}#sk-container-id-23 div.sk-serial::before {content: \"\";position: absolute;border-left: 1px solid gray;box-sizing: border-box;top: 0;bottom: 0;left: 50%;z-index: 0;}#sk-container-id-23 div.sk-serial {display: flex;flex-direction: column;align-items: center;background-color: white;padding-right: 0.2em;padding-left: 0.2em;position: relative;}#sk-container-id-23 div.sk-item {position: relative;z-index: 1;}#sk-container-id-23 div.sk-parallel {display: flex;align-items: stretch;justify-content: center;background-color: white;position: relative;}#sk-container-id-23 div.sk-item::before, #sk-container-id-23 div.sk-parallel-item::before {content: \"\";position: absolute;border-left: 1px solid gray;box-sizing: border-box;top: 0;bottom: 0;left: 50%;z-index: -1;}#sk-container-id-23 div.sk-parallel-item {display: flex;flex-direction: column;z-index: 1;position: relative;background-color: white;}#sk-container-id-23 div.sk-parallel-item:first-child::after {align-self: flex-end;width: 50%;}#sk-container-id-23 div.sk-parallel-item:last-child::after {align-self: flex-start;width: 50%;}#sk-container-id-23 div.sk-parallel-item:only-child::after {width: 0;}#sk-container-id-23 div.sk-dashed-wrapped {border: 1px dashed gray;margin: 0 0.4em 0.5em 0.4em;box-sizing: border-box;padding-bottom: 0.4em;background-color: white;}#sk-container-id-23 div.sk-label label {font-family: monospace;font-weight: bold;display: inline-block;line-height: 1.2em;}#sk-container-id-23 div.sk-label-container {text-align: center;}#sk-container-id-23 div.sk-container {/* jupyter's `normalize.less` sets `[hidden] { display: none; }` but bootstrap.min.css set `[hidden] { display: none !important; }` so we also need the `!important` here to be able to override the default hidden behavior on the sphinx rendered scikit-learn.org. See: https://github.com/scikit-learn/scikit-learn/issues/21755 */display: inline-block !important;position: relative;}#sk-container-id-23 div.sk-text-repr-fallback {display: none;}</style><div id=\"sk-container-id-23\" class=\"sk-top-container\"><div class=\"sk-text-repr-fallback\"><pre>Pipeline(steps=[(&#x27;preprocessor&#x27;,\n",
              "                 ColumnTransformer(transformers=[(&#x27;categorical&#x27;,\n",
              "                                                  Pipeline(steps=[(&#x27;onehot&#x27;,\n",
              "                                                                   OneHotEncoder(handle_unknown=&#x27;ignore&#x27;))]),\n",
              "                                                  [&#x27;ocean_proximity&#x27;]),\n",
              "                                                 (&#x27;numerical&#x27;,\n",
              "                                                  Pipeline(steps=[(&#x27;missing&#x27;,\n",
              "                                                                   SimpleImputer(strategy=&#x27;median&#x27;)),\n",
              "                                                                  (&#x27;scaler&#x27;,\n",
              "                                                                   RobustScaler())]),\n",
              "                                                  Index([&#x27;longitude&#x27;, &#x27;latitude&#x27;, &#x27;housing_median_age&#x27;, &#x27;total_rooms&#x27;,\n",
              "       &#x27;total_bedrooms&#x27;, &#x27;population&#x27;, &#x27;households&#x27;, &#x27;median_income&#x27;],\n",
              "      dtype=&#x27;object&#x27;))])),\n",
              "                (&#x27;SGD&#x27;,\n",
              "                 SGDRegressor(alpha=0.001, eta0=0.0001,\n",
              "                              learning_rate=&#x27;constant&#x27;, penalty=&#x27;l1&#x27;))])</pre><b>In a Jupyter environment, please rerun this cell to show the HTML representation or trust the notebook. <br />On GitHub, the HTML representation is unable to render, please try loading this page with nbviewer.org.</b></div><div class=\"sk-container\" hidden><div class=\"sk-item sk-dashed-wrapped\"><div class=\"sk-label-container\"><div class=\"sk-label sk-toggleable\"><input class=\"sk-toggleable__control sk-hidden--visually\" id=\"sk-estimator-id-45\" type=\"checkbox\" ><label for=\"sk-estimator-id-45\" class=\"sk-toggleable__label sk-toggleable__label-arrow\">Pipeline</label><div class=\"sk-toggleable__content\"><pre>Pipeline(steps=[(&#x27;preprocessor&#x27;,\n",
              "                 ColumnTransformer(transformers=[(&#x27;categorical&#x27;,\n",
              "                                                  Pipeline(steps=[(&#x27;onehot&#x27;,\n",
              "                                                                   OneHotEncoder(handle_unknown=&#x27;ignore&#x27;))]),\n",
              "                                                  [&#x27;ocean_proximity&#x27;]),\n",
              "                                                 (&#x27;numerical&#x27;,\n",
              "                                                  Pipeline(steps=[(&#x27;missing&#x27;,\n",
              "                                                                   SimpleImputer(strategy=&#x27;median&#x27;)),\n",
              "                                                                  (&#x27;scaler&#x27;,\n",
              "                                                                   RobustScaler())]),\n",
              "                                                  Index([&#x27;longitude&#x27;, &#x27;latitude&#x27;, &#x27;housing_median_age&#x27;, &#x27;total_rooms&#x27;,\n",
              "       &#x27;total_bedrooms&#x27;, &#x27;population&#x27;, &#x27;households&#x27;, &#x27;median_income&#x27;],\n",
              "      dtype=&#x27;object&#x27;))])),\n",
              "                (&#x27;SGD&#x27;,\n",
              "                 SGDRegressor(alpha=0.001, eta0=0.0001,\n",
              "                              learning_rate=&#x27;constant&#x27;, penalty=&#x27;l1&#x27;))])</pre></div></div></div><div class=\"sk-serial\"><div class=\"sk-item sk-dashed-wrapped\"><div class=\"sk-label-container\"><div class=\"sk-label sk-toggleable\"><input class=\"sk-toggleable__control sk-hidden--visually\" id=\"sk-estimator-id-46\" type=\"checkbox\" ><label for=\"sk-estimator-id-46\" class=\"sk-toggleable__label sk-toggleable__label-arrow\">preprocessor: ColumnTransformer</label><div class=\"sk-toggleable__content\"><pre>ColumnTransformer(transformers=[(&#x27;categorical&#x27;,\n",
              "                                 Pipeline(steps=[(&#x27;onehot&#x27;,\n",
              "                                                  OneHotEncoder(handle_unknown=&#x27;ignore&#x27;))]),\n",
              "                                 [&#x27;ocean_proximity&#x27;]),\n",
              "                                (&#x27;numerical&#x27;,\n",
              "                                 Pipeline(steps=[(&#x27;missing&#x27;,\n",
              "                                                  SimpleImputer(strategy=&#x27;median&#x27;)),\n",
              "                                                 (&#x27;scaler&#x27;, RobustScaler())]),\n",
              "                                 Index([&#x27;longitude&#x27;, &#x27;latitude&#x27;, &#x27;housing_median_age&#x27;, &#x27;total_rooms&#x27;,\n",
              "       &#x27;total_bedrooms&#x27;, &#x27;population&#x27;, &#x27;households&#x27;, &#x27;median_income&#x27;],\n",
              "      dtype=&#x27;object&#x27;))])</pre></div></div></div><div class=\"sk-parallel\"><div class=\"sk-parallel-item\"><div class=\"sk-item\"><div class=\"sk-label-container\"><div class=\"sk-label sk-toggleable\"><input class=\"sk-toggleable__control sk-hidden--visually\" id=\"sk-estimator-id-47\" type=\"checkbox\" ><label for=\"sk-estimator-id-47\" class=\"sk-toggleable__label sk-toggleable__label-arrow\">categorical</label><div class=\"sk-toggleable__content\"><pre>[&#x27;ocean_proximity&#x27;]</pre></div></div></div><div class=\"sk-serial\"><div class=\"sk-item\"><div class=\"sk-serial\"><div class=\"sk-item\"><div class=\"sk-estimator sk-toggleable\"><input class=\"sk-toggleable__control sk-hidden--visually\" id=\"sk-estimator-id-48\" type=\"checkbox\" ><label for=\"sk-estimator-id-48\" class=\"sk-toggleable__label sk-toggleable__label-arrow\">OneHotEncoder</label><div class=\"sk-toggleable__content\"><pre>OneHotEncoder(handle_unknown=&#x27;ignore&#x27;)</pre></div></div></div></div></div></div></div></div><div class=\"sk-parallel-item\"><div class=\"sk-item\"><div class=\"sk-label-container\"><div class=\"sk-label sk-toggleable\"><input class=\"sk-toggleable__control sk-hidden--visually\" id=\"sk-estimator-id-49\" type=\"checkbox\" ><label for=\"sk-estimator-id-49\" class=\"sk-toggleable__label sk-toggleable__label-arrow\">numerical</label><div class=\"sk-toggleable__content\"><pre>Index([&#x27;longitude&#x27;, &#x27;latitude&#x27;, &#x27;housing_median_age&#x27;, &#x27;total_rooms&#x27;,\n",
              "       &#x27;total_bedrooms&#x27;, &#x27;population&#x27;, &#x27;households&#x27;, &#x27;median_income&#x27;],\n",
              "      dtype=&#x27;object&#x27;)</pre></div></div></div><div class=\"sk-serial\"><div class=\"sk-item\"><div class=\"sk-serial\"><div class=\"sk-item\"><div class=\"sk-estimator sk-toggleable\"><input class=\"sk-toggleable__control sk-hidden--visually\" id=\"sk-estimator-id-50\" type=\"checkbox\" ><label for=\"sk-estimator-id-50\" class=\"sk-toggleable__label sk-toggleable__label-arrow\">SimpleImputer</label><div class=\"sk-toggleable__content\"><pre>SimpleImputer(strategy=&#x27;median&#x27;)</pre></div></div></div><div class=\"sk-item\"><div class=\"sk-estimator sk-toggleable\"><input class=\"sk-toggleable__control sk-hidden--visually\" id=\"sk-estimator-id-51\" type=\"checkbox\" ><label for=\"sk-estimator-id-51\" class=\"sk-toggleable__label sk-toggleable__label-arrow\">RobustScaler</label><div class=\"sk-toggleable__content\"><pre>RobustScaler()</pre></div></div></div></div></div></div></div></div></div></div><div class=\"sk-item\"><div class=\"sk-estimator sk-toggleable\"><input class=\"sk-toggleable__control sk-hidden--visually\" id=\"sk-estimator-id-52\" type=\"checkbox\" ><label for=\"sk-estimator-id-52\" class=\"sk-toggleable__label sk-toggleable__label-arrow\">SGDRegressor</label><div class=\"sk-toggleable__content\"><pre>SGDRegressor(alpha=0.001, eta0=0.0001, learning_rate=&#x27;constant&#x27;, penalty=&#x27;l1&#x27;)</pre></div></div></div></div></div></div></div>"
            ],
            "text/plain": [
              "Pipeline(steps=[('preprocessor',\n",
              "                 ColumnTransformer(transformers=[('categorical',\n",
              "                                                  Pipeline(steps=[('onehot',\n",
              "                                                                   OneHotEncoder(handle_unknown='ignore'))]),\n",
              "                                                  ['ocean_proximity']),\n",
              "                                                 ('numerical',\n",
              "                                                  Pipeline(steps=[('missing',\n",
              "                                                                   SimpleImputer(strategy='median')),\n",
              "                                                                  ('scaler',\n",
              "                                                                   RobustScaler())]),\n",
              "                                                  Index(['longitude', 'latitude', 'housing_median_age', 'total_rooms',\n",
              "       'total_bedrooms', 'population', 'households', 'median_income'],\n",
              "      dtype='object'))])),\n",
              "                ('SGD',\n",
              "                 SGDRegressor(alpha=0.001, eta0=0.0001,\n",
              "                              learning_rate='constant', penalty='l1'))])"
            ]
          },
          "execution_count": 214,
          "metadata": {},
          "output_type": "execute_result"
        }
      ],
      "source": [
        "pipeline.fit(X_train, y_train)"
      ]
    },
    {
      "cell_type": "code",
      "execution_count": null,
      "metadata": {
        "id": "oP4ASxtS7rvw"
      },
      "outputs": [],
      "source": [
        "y_pred_pip = pipeline.predict(X_test)"
      ]
    },
    {
      "cell_type": "code",
      "execution_count": null,
      "metadata": {
        "id": "5B4K1KL07rvw",
        "outputId": "41ef34bd-2a58-409f-bfb0-30cfc3cb19e4"
      },
      "outputs": [
        {
          "data": {
            "text/plain": [
              "5143276687.248343"
            ]
          },
          "execution_count": 220,
          "metadata": {},
          "output_type": "execute_result"
        }
      ],
      "source": [
        "mean_squared_error(y_test, y_pred_pip)"
      ]
    },
    {
      "cell_type": "code",
      "execution_count": null,
      "metadata": {
        "id": "VM7-2jBP7rvw",
        "outputId": "ae2b96c8-0b54-4f28-d2a9-420c0028ac3f"
      },
      "outputs": [
        {
          "data": {
            "text/plain": [
              "51409.231224929266"
            ]
          },
          "execution_count": 221,
          "metadata": {},
          "output_type": "execute_result"
        }
      ],
      "source": [
        "mean_absolute_error(y_test, y_pred_pip)"
      ]
    },
    {
      "cell_type": "code",
      "execution_count": null,
      "metadata": {
        "id": "bQkUJC3s7rvw",
        "outputId": "713ce58f-83a2-4673-ee8b-0242d337dc4b"
      },
      "outputs": [
        {
          "data": {
            "text/plain": [
              "0.5880414684294814"
            ]
          },
          "execution_count": 222,
          "metadata": {},
          "output_type": "execute_result"
        }
      ],
      "source": [
        "r2_score(y_test, y_pred_pip)"
      ]
    },
    {
      "cell_type": "code",
      "execution_count": null,
      "metadata": {
        "id": "wWyAIxIS7rvw"
      },
      "outputs": [],
      "source": []
    },
    {
      "cell_type": "code",
      "execution_count": null,
      "metadata": {
        "id": "s2nV2uHK7rvw"
      },
      "outputs": [],
      "source": []
    },
    {
      "cell_type": "markdown",
      "metadata": {
        "id": "3y_4u6qu6u6D"
      },
      "source": [
        "----------------------------------------------\n",
        "\n",
        "$$ Wish \\space you \\space all \\space the \\space best \\space ♡ $$\n",
        "$$ Abdelrahman \\space Eid $$"
      ]
    }
  ],
  "metadata": {
    "colab": {
      "provenance": [],
      "toc_visible": true
    },
    "kernelspec": {
      "display_name": "Python 3 (ipykernel)",
      "language": "python",
      "name": "python3"
    },
    "language_info": {
      "codemirror_mode": {
        "name": "ipython",
        "version": 3
      },
      "file_extension": ".py",
      "mimetype": "text/x-python",
      "name": "python",
      "nbconvert_exporter": "python",
      "pygments_lexer": "ipython3",
      "version": "3.11.3"
    }
  },
  "nbformat": 4,
  "nbformat_minor": 0
}